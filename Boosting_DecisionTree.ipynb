{
  "nbformat": 4,
  "nbformat_minor": 0,
  "metadata": {
    "colab": {
      "provenance": [],
      "toc_visible": true,
      "collapsed_sections": [
        "JgdLUqCVpljU",
        "ipQOYZbjD40F",
        "JBjVOfjZGQiQ",
        "uNP5jy2vHi-_",
        "z3vCoO-iD__7",
        "rn1s-ZvDEEvr",
        "j4z16Xh-EFZr",
        "4MyCQ2qsV2Za",
        "AZ_XrvDHPske",
        "HjzMLvYnPv0N",
        "-9Z026FgpXGx",
        "iFGtNobjpiGy",
        "r51fX6LJpkgF"
      ],
      "authorship_tag": "ABX9TyPvo8XvXF+VmLc6uoO2Hatr",
      "include_colab_link": true
    },
    "kernelspec": {
      "name": "python3",
      "display_name": "Python 3"
    },
    "language_info": {
      "name": "python"
    }
  },
  "cells": [
    {
      "cell_type": "markdown",
      "metadata": {
        "id": "view-in-github",
        "colab_type": "text"
      },
      "source": [
        "<a href=\"https://colab.research.google.com/github/daniel-gonzalez-cedre/iaqf2019/blob/master/Boosting_DecisionTree.ipynb\" target=\"_parent\"><img src=\"https://colab.research.google.com/assets/colab-badge.svg\" alt=\"Open In Colab\"/></a>"
      ]
    },
    {
      "cell_type": "markdown",
      "source": [
        "# Hackathon - Decition tree with boosting\n",
        "## Arash Fahim - 26 Apr 2022\n",
        "\n",
        "**Gradient boost, Adaboost, and XGboost**"
      ],
      "metadata": {
        "id": "cZ-jW_ZqAEX9"
      }
    },
    {
      "cell_type": "markdown",
      "source": [
        "### Set User"
      ],
      "metadata": {
        "id": "7j8fIDnAAKuX"
      }
    },
    {
      "cell_type": "code",
      "execution_count": null,
      "metadata": {
        "id": "bTBDrBdM6vCi"
      },
      "outputs": [],
      "source": [
        "user = 'Arash'"
      ]
    },
    {
      "cell_type": "markdown",
      "source": [
        "## Import Dependencies"
      ],
      "metadata": {
        "id": "waQF9lfkANnz"
      }
    },
    {
      "cell_type": "code",
      "source": [
        "# Only need to run once!\n",
        "\n",
        "# Mounting the Google Drive\n",
        "from google.colab import drive\n",
        "drive.mount('/content/drive')\n"
      ],
      "metadata": {
        "id": "32hwvG8j63ro",
        "colab": {
          "base_uri": "https://localhost:8080/"
        },
        "outputId": "4582ea70-ce83-4a5b-9d60-b0b45b61e434"
      },
      "execution_count": null,
      "outputs": [
        {
          "output_type": "stream",
          "name": "stdout",
          "text": [
            "Mounted at /content/drive\n"
          ]
        }
      ]
    },
    {
      "cell_type": "code",
      "source": [
        "import pandas as pd\n",
        "import numpy as np\n",
        "import matplotlib.pyplot as plt\n",
        "import seaborn as sns\n",
        "import joblib\n",
        "import sys\n",
        "sys.modules['sklearn.externals.joblib'] = joblib\n",
        "from sklearn.model_selection import train_test_split\n",
        "\n",
        "#Algorithms to use\n",
        "from sklearn.tree import DecisionTreeClassifier\n",
        "from sklearn.ensemble import GradientBoostingClassifier, AdaBoostClassifier\n",
        "from xgboost import XGBClassifier\n",
        "\n",
        "# import cross_val_score for cross-validation\n",
        "from sklearn.model_selection import cross_val_score, KFold\n",
        "\n",
        "#Metrics to evaluate the model\n",
        "from sklearn.metrics import confusion_matrix, classification_report, recall_score, accuracy_score\n",
        "from sklearn import metrics\n",
        "\n",
        "#For hyperparameter tuning\n",
        "from sklearn.model_selection import GridSearchCV\n",
        "\n",
        "import warnings\n",
        "warnings.filterwarnings(\"ignore\")"
      ],
      "metadata": {
        "id": "1bq7Z4Tc7HTz"
      },
      "execution_count": null,
      "outputs": []
    },
    {
      "cell_type": "markdown",
      "source": [
        "### Define Timing Function"
      ],
      "metadata": {
        "id": "xkJliHWtAjbA"
      }
    },
    {
      "cell_type": "code",
      "source": [
        "def run_time_reporter(start_time):\n",
        "    runtime1 = time.time() - start_time\n",
        "    mins1 = int(runtime1/60.%60.)\n",
        "    secs1 = runtime1%60. \n",
        "    if mins1 == 0:\n",
        "        print(\"Run time: {:.1f} s\".format(secs1))\n",
        "    else:\n",
        "        print(\"Run time: {:d} mins, {:.1f} s\".format(mins1, secs1))"
      ],
      "metadata": {
        "id": "dJXkW_CM7UwQ"
      },
      "execution_count": null,
      "outputs": []
    },
    {
      "cell_type": "markdown",
      "source": [
        "## Import Data"
      ],
      "metadata": {
        "id": "Eo32LOqnAnTY"
      }
    },
    {
      "cell_type": "code",
      "execution_count": null,
      "metadata": {
        "id": "-OfmymPbj3aL"
      },
      "outputs": [],
      "source": [
        "# define unique paths for each person\n",
        "brooks_path = '/content/drive/MyDrive/Data Science/After Party/Hackathon/Datasets/Cleaned Data/Test Output/test9_Rn.csv'\n",
        "esfandiar_path = ''\n",
        "arash_path = '/content/drive/MyDrive/Hackathon/Datasets/Cleaned Data'"
      ]
    },
    {
      "cell_type": "code",
      "execution_count": null,
      "metadata": {
        "id": "i8IDjeLTj3aL"
      },
      "outputs": [],
      "source": [
        "# specify who is using the script\n",
        "if user == 'Brooks':\n",
        "    path = brooks_path\n",
        "elif user == 'Esfandiar':\n",
        "    path = esfandiar_path\n",
        "elif user == 'Arash':\n",
        "    path = arash_path\n",
        "else:\n",
        "    print(\"Bad User Name\")\n",
        "\n",
        "\n",
        "train_file = '/real1_train.csv'\n",
        "test_file = '/real1_test.csv'\n",
        "\n",
        "df_train = pd.read_csv(path + train_file)\n",
        "df_test = pd.read_csv(path + test_file)"
      ]
    },
    {
      "cell_type": "code",
      "source": [
        "target_col=['Overall_Experience']\n",
        "X=df_train.drop(target_col+['ID'],axis=1)\n",
        "y=df_train['Overall_Experience']"
      ],
      "metadata": {
        "id": "PZ_Nrl6PDpPY"
      },
      "execution_count": null,
      "outputs": []
    },
    {
      "cell_type": "code",
      "execution_count": null,
      "metadata": {
        "colab": {
          "base_uri": "https://localhost:8080/",
          "height": 661
        },
        "id": "Ld2H3Nktj3aL",
        "outputId": "75f147e4-f130-4afe-bc33-5d49b2aa8691"
      },
      "outputs": [
        {
          "output_type": "execute_result",
          "data": {
            "text/plain": [
              "       Gender      Customer_Type   Age      Type_Travel Travel_Class  \\\n",
              "0      Female                NaN  36.0  Business Travel     Business   \n",
              "1      Female  Disloyal Customer  21.0  Business Travel     Business   \n",
              "2        Male     Loyal Customer  60.0  Business Travel     Business   \n",
              "3      Female     Loyal Customer  29.0  Personal Travel          Eco   \n",
              "4        Male  Disloyal Customer  18.0  Business Travel     Business   \n",
              "...       ...                ...   ...              ...          ...   \n",
              "35597    Male     Loyal Customer   8.0  Personal Travel          Eco   \n",
              "35598  Female     Loyal Customer  53.0  Business Travel     Business   \n",
              "35599    Male  Disloyal Customer  22.0  Business Travel          Eco   \n",
              "35600  Female     Loyal Customer  67.0  Personal Travel          Eco   \n",
              "35601    Male                NaN  20.0  Personal Travel          Eco   \n",
              "\n",
              "       Travel_Distance  Departure_Delay_in_Mins  Arrival_Delay_in_Mins  \\\n",
              "0                  532                      0.0                    0.0   \n",
              "1                 1425                      9.0                   28.0   \n",
              "2                 2832                      0.0                    0.0   \n",
              "3                 1352                      0.0                    0.0   \n",
              "4                 1610                     17.0                    0.0   \n",
              "...                ...                      ...                    ...   \n",
              "35597             1334                      0.0                    0.0   \n",
              "35598             1772                      0.0                    0.0   \n",
              "35599             1180                      0.0                    0.0   \n",
              "35600              420                     23.0                   16.0   \n",
              "35601             1680                      0.0                    0.0   \n",
              "\n",
              "            Seat_Comfort Seat_Class  ... Onboard_Wifi_Service  \\\n",
              "0             Acceptable  Green Car  ...    Needs Improvement   \n",
              "1         Extremely Poor   Ordinary  ...           Acceptable   \n",
              "2              Excellent   Ordinary  ...            Excellent   \n",
              "3             Acceptable  Green Car  ...                 Poor   \n",
              "4              Excellent   Ordinary  ...            Excellent   \n",
              "...                  ...        ...  ...                  ...   \n",
              "35597  Needs Improvement  Green Car  ...           Acceptable   \n",
              "35598  Needs Improvement   Ordinary  ...           Acceptable   \n",
              "35599               Good  Green Car  ...    Needs Improvement   \n",
              "35600          Excellent   Ordinary  ...           Acceptable   \n",
              "35601               Good   Ordinary  ...                 Poor   \n",
              "\n",
              "      Onboard_Entertainment Online_Support Ease_of_Online_Booking  \\\n",
              "0                 Excellent           Good              Excellent   \n",
              "1                      Poor     Acceptable             Acceptable   \n",
              "2                 Excellent      Excellent      Needs Improvement   \n",
              "3                Acceptable      Excellent                   Poor   \n",
              "4                 Excellent      Excellent              Excellent   \n",
              "...                     ...            ...                    ...   \n",
              "35597     Needs Improvement     Acceptable             Acceptable   \n",
              "35598             Excellent      Excellent                   Good   \n",
              "35599                  Good           Poor      Needs Improvement   \n",
              "35600             Excellent           Good              Excellent   \n",
              "35601                  Good           Poor                   Poor   \n",
              "\n",
              "         Onboard_Service            Legroom   Baggage_Handling  \\\n",
              "0              Excellent          Excellent          Excellent   \n",
              "1              Excellent         Acceptable               Good   \n",
              "2      Needs Improvement  Needs Improvement  Needs Improvement   \n",
              "3             Acceptable  Needs Improvement          Excellent   \n",
              "4                    NaN         Acceptable          Excellent   \n",
              "...                  ...                ...                ...   \n",
              "35597               Good          Excellent               Good   \n",
              "35598               Good               Good               Good   \n",
              "35599               Poor         Acceptable               Poor   \n",
              "35600          Excellent          Excellent          Excellent   \n",
              "35601         Acceptable               Good               Good   \n",
              "\n",
              "         CheckIn_Service        Cleanliness    Online_Boarding  \n",
              "0                   Good          Excellent               Poor  \n",
              "1             Acceptable          Excellent         Acceptable  \n",
              "2                   Good  Needs Improvement          Excellent  \n",
              "3              Excellent          Excellent               Poor  \n",
              "4              Excellent          Excellent          Excellent  \n",
              "...                  ...                ...                ...  \n",
              "35597         Acceptable               Good         Acceptable  \n",
              "35598         Acceptable               Good               Good  \n",
              "35599               Poor          Excellent  Needs Improvement  \n",
              "35600         Acceptable          Excellent               Good  \n",
              "35601  Needs Improvement               Good               Poor  \n",
              "\n",
              "[35602 rows x 23 columns]"
            ],
            "text/html": [
              "\n",
              "  <div id=\"df-1fbce7b8-8e1b-44f7-95c0-f0af28a1d5e3\">\n",
              "    <div class=\"colab-df-container\">\n",
              "      <div>\n",
              "<style scoped>\n",
              "    .dataframe tbody tr th:only-of-type {\n",
              "        vertical-align: middle;\n",
              "    }\n",
              "\n",
              "    .dataframe tbody tr th {\n",
              "        vertical-align: top;\n",
              "    }\n",
              "\n",
              "    .dataframe thead th {\n",
              "        text-align: right;\n",
              "    }\n",
              "</style>\n",
              "<table border=\"1\" class=\"dataframe\">\n",
              "  <thead>\n",
              "    <tr style=\"text-align: right;\">\n",
              "      <th></th>\n",
              "      <th>Gender</th>\n",
              "      <th>Customer_Type</th>\n",
              "      <th>Age</th>\n",
              "      <th>Type_Travel</th>\n",
              "      <th>Travel_Class</th>\n",
              "      <th>Travel_Distance</th>\n",
              "      <th>Departure_Delay_in_Mins</th>\n",
              "      <th>Arrival_Delay_in_Mins</th>\n",
              "      <th>Seat_Comfort</th>\n",
              "      <th>Seat_Class</th>\n",
              "      <th>...</th>\n",
              "      <th>Onboard_Wifi_Service</th>\n",
              "      <th>Onboard_Entertainment</th>\n",
              "      <th>Online_Support</th>\n",
              "      <th>Ease_of_Online_Booking</th>\n",
              "      <th>Onboard_Service</th>\n",
              "      <th>Legroom</th>\n",
              "      <th>Baggage_Handling</th>\n",
              "      <th>CheckIn_Service</th>\n",
              "      <th>Cleanliness</th>\n",
              "      <th>Online_Boarding</th>\n",
              "    </tr>\n",
              "  </thead>\n",
              "  <tbody>\n",
              "    <tr>\n",
              "      <th>0</th>\n",
              "      <td>Female</td>\n",
              "      <td>NaN</td>\n",
              "      <td>36.0</td>\n",
              "      <td>Business Travel</td>\n",
              "      <td>Business</td>\n",
              "      <td>532</td>\n",
              "      <td>0.0</td>\n",
              "      <td>0.0</td>\n",
              "      <td>Acceptable</td>\n",
              "      <td>Green Car</td>\n",
              "      <td>...</td>\n",
              "      <td>Needs Improvement</td>\n",
              "      <td>Excellent</td>\n",
              "      <td>Good</td>\n",
              "      <td>Excellent</td>\n",
              "      <td>Excellent</td>\n",
              "      <td>Excellent</td>\n",
              "      <td>Excellent</td>\n",
              "      <td>Good</td>\n",
              "      <td>Excellent</td>\n",
              "      <td>Poor</td>\n",
              "    </tr>\n",
              "    <tr>\n",
              "      <th>1</th>\n",
              "      <td>Female</td>\n",
              "      <td>Disloyal Customer</td>\n",
              "      <td>21.0</td>\n",
              "      <td>Business Travel</td>\n",
              "      <td>Business</td>\n",
              "      <td>1425</td>\n",
              "      <td>9.0</td>\n",
              "      <td>28.0</td>\n",
              "      <td>Extremely Poor</td>\n",
              "      <td>Ordinary</td>\n",
              "      <td>...</td>\n",
              "      <td>Acceptable</td>\n",
              "      <td>Poor</td>\n",
              "      <td>Acceptable</td>\n",
              "      <td>Acceptable</td>\n",
              "      <td>Excellent</td>\n",
              "      <td>Acceptable</td>\n",
              "      <td>Good</td>\n",
              "      <td>Acceptable</td>\n",
              "      <td>Excellent</td>\n",
              "      <td>Acceptable</td>\n",
              "    </tr>\n",
              "    <tr>\n",
              "      <th>2</th>\n",
              "      <td>Male</td>\n",
              "      <td>Loyal Customer</td>\n",
              "      <td>60.0</td>\n",
              "      <td>Business Travel</td>\n",
              "      <td>Business</td>\n",
              "      <td>2832</td>\n",
              "      <td>0.0</td>\n",
              "      <td>0.0</td>\n",
              "      <td>Excellent</td>\n",
              "      <td>Ordinary</td>\n",
              "      <td>...</td>\n",
              "      <td>Excellent</td>\n",
              "      <td>Excellent</td>\n",
              "      <td>Excellent</td>\n",
              "      <td>Needs Improvement</td>\n",
              "      <td>Needs Improvement</td>\n",
              "      <td>Needs Improvement</td>\n",
              "      <td>Needs Improvement</td>\n",
              "      <td>Good</td>\n",
              "      <td>Needs Improvement</td>\n",
              "      <td>Excellent</td>\n",
              "    </tr>\n",
              "    <tr>\n",
              "      <th>3</th>\n",
              "      <td>Female</td>\n",
              "      <td>Loyal Customer</td>\n",
              "      <td>29.0</td>\n",
              "      <td>Personal Travel</td>\n",
              "      <td>Eco</td>\n",
              "      <td>1352</td>\n",
              "      <td>0.0</td>\n",
              "      <td>0.0</td>\n",
              "      <td>Acceptable</td>\n",
              "      <td>Green Car</td>\n",
              "      <td>...</td>\n",
              "      <td>Poor</td>\n",
              "      <td>Acceptable</td>\n",
              "      <td>Excellent</td>\n",
              "      <td>Poor</td>\n",
              "      <td>Acceptable</td>\n",
              "      <td>Needs Improvement</td>\n",
              "      <td>Excellent</td>\n",
              "      <td>Excellent</td>\n",
              "      <td>Excellent</td>\n",
              "      <td>Poor</td>\n",
              "    </tr>\n",
              "    <tr>\n",
              "      <th>4</th>\n",
              "      <td>Male</td>\n",
              "      <td>Disloyal Customer</td>\n",
              "      <td>18.0</td>\n",
              "      <td>Business Travel</td>\n",
              "      <td>Business</td>\n",
              "      <td>1610</td>\n",
              "      <td>17.0</td>\n",
              "      <td>0.0</td>\n",
              "      <td>Excellent</td>\n",
              "      <td>Ordinary</td>\n",
              "      <td>...</td>\n",
              "      <td>Excellent</td>\n",
              "      <td>Excellent</td>\n",
              "      <td>Excellent</td>\n",
              "      <td>Excellent</td>\n",
              "      <td>NaN</td>\n",
              "      <td>Acceptable</td>\n",
              "      <td>Excellent</td>\n",
              "      <td>Excellent</td>\n",
              "      <td>Excellent</td>\n",
              "      <td>Excellent</td>\n",
              "    </tr>\n",
              "    <tr>\n",
              "      <th>...</th>\n",
              "      <td>...</td>\n",
              "      <td>...</td>\n",
              "      <td>...</td>\n",
              "      <td>...</td>\n",
              "      <td>...</td>\n",
              "      <td>...</td>\n",
              "      <td>...</td>\n",
              "      <td>...</td>\n",
              "      <td>...</td>\n",
              "      <td>...</td>\n",
              "      <td>...</td>\n",
              "      <td>...</td>\n",
              "      <td>...</td>\n",
              "      <td>...</td>\n",
              "      <td>...</td>\n",
              "      <td>...</td>\n",
              "      <td>...</td>\n",
              "      <td>...</td>\n",
              "      <td>...</td>\n",
              "      <td>...</td>\n",
              "      <td>...</td>\n",
              "    </tr>\n",
              "    <tr>\n",
              "      <th>35597</th>\n",
              "      <td>Male</td>\n",
              "      <td>Loyal Customer</td>\n",
              "      <td>8.0</td>\n",
              "      <td>Personal Travel</td>\n",
              "      <td>Eco</td>\n",
              "      <td>1334</td>\n",
              "      <td>0.0</td>\n",
              "      <td>0.0</td>\n",
              "      <td>Needs Improvement</td>\n",
              "      <td>Green Car</td>\n",
              "      <td>...</td>\n",
              "      <td>Acceptable</td>\n",
              "      <td>Needs Improvement</td>\n",
              "      <td>Acceptable</td>\n",
              "      <td>Acceptable</td>\n",
              "      <td>Good</td>\n",
              "      <td>Excellent</td>\n",
              "      <td>Good</td>\n",
              "      <td>Acceptable</td>\n",
              "      <td>Good</td>\n",
              "      <td>Acceptable</td>\n",
              "    </tr>\n",
              "    <tr>\n",
              "      <th>35598</th>\n",
              "      <td>Female</td>\n",
              "      <td>Loyal Customer</td>\n",
              "      <td>53.0</td>\n",
              "      <td>Business Travel</td>\n",
              "      <td>Business</td>\n",
              "      <td>1772</td>\n",
              "      <td>0.0</td>\n",
              "      <td>0.0</td>\n",
              "      <td>Needs Improvement</td>\n",
              "      <td>Ordinary</td>\n",
              "      <td>...</td>\n",
              "      <td>Acceptable</td>\n",
              "      <td>Excellent</td>\n",
              "      <td>Excellent</td>\n",
              "      <td>Good</td>\n",
              "      <td>Good</td>\n",
              "      <td>Good</td>\n",
              "      <td>Good</td>\n",
              "      <td>Acceptable</td>\n",
              "      <td>Good</td>\n",
              "      <td>Good</td>\n",
              "    </tr>\n",
              "    <tr>\n",
              "      <th>35599</th>\n",
              "      <td>Male</td>\n",
              "      <td>Disloyal Customer</td>\n",
              "      <td>22.0</td>\n",
              "      <td>Business Travel</td>\n",
              "      <td>Eco</td>\n",
              "      <td>1180</td>\n",
              "      <td>0.0</td>\n",
              "      <td>0.0</td>\n",
              "      <td>Good</td>\n",
              "      <td>Green Car</td>\n",
              "      <td>...</td>\n",
              "      <td>Needs Improvement</td>\n",
              "      <td>Good</td>\n",
              "      <td>Poor</td>\n",
              "      <td>Needs Improvement</td>\n",
              "      <td>Poor</td>\n",
              "      <td>Acceptable</td>\n",
              "      <td>Poor</td>\n",
              "      <td>Poor</td>\n",
              "      <td>Excellent</td>\n",
              "      <td>Needs Improvement</td>\n",
              "    </tr>\n",
              "    <tr>\n",
              "      <th>35600</th>\n",
              "      <td>Female</td>\n",
              "      <td>Loyal Customer</td>\n",
              "      <td>67.0</td>\n",
              "      <td>Personal Travel</td>\n",
              "      <td>Eco</td>\n",
              "      <td>420</td>\n",
              "      <td>23.0</td>\n",
              "      <td>16.0</td>\n",
              "      <td>Excellent</td>\n",
              "      <td>Ordinary</td>\n",
              "      <td>...</td>\n",
              "      <td>Acceptable</td>\n",
              "      <td>Excellent</td>\n",
              "      <td>Good</td>\n",
              "      <td>Excellent</td>\n",
              "      <td>Excellent</td>\n",
              "      <td>Excellent</td>\n",
              "      <td>Excellent</td>\n",
              "      <td>Acceptable</td>\n",
              "      <td>Excellent</td>\n",
              "      <td>Good</td>\n",
              "    </tr>\n",
              "    <tr>\n",
              "      <th>35601</th>\n",
              "      <td>Male</td>\n",
              "      <td>NaN</td>\n",
              "      <td>20.0</td>\n",
              "      <td>Personal Travel</td>\n",
              "      <td>Eco</td>\n",
              "      <td>1680</td>\n",
              "      <td>0.0</td>\n",
              "      <td>0.0</td>\n",
              "      <td>Good</td>\n",
              "      <td>Ordinary</td>\n",
              "      <td>...</td>\n",
              "      <td>Poor</td>\n",
              "      <td>Good</td>\n",
              "      <td>Poor</td>\n",
              "      <td>Poor</td>\n",
              "      <td>Acceptable</td>\n",
              "      <td>Good</td>\n",
              "      <td>Good</td>\n",
              "      <td>Needs Improvement</td>\n",
              "      <td>Good</td>\n",
              "      <td>Poor</td>\n",
              "    </tr>\n",
              "  </tbody>\n",
              "</table>\n",
              "<p>35602 rows × 23 columns</p>\n",
              "</div>\n",
              "      <button class=\"colab-df-convert\" onclick=\"convertToInteractive('df-1fbce7b8-8e1b-44f7-95c0-f0af28a1d5e3')\"\n",
              "              title=\"Convert this dataframe to an interactive table.\"\n",
              "              style=\"display:none;\">\n",
              "        \n",
              "  <svg xmlns=\"http://www.w3.org/2000/svg\" height=\"24px\"viewBox=\"0 0 24 24\"\n",
              "       width=\"24px\">\n",
              "    <path d=\"M0 0h24v24H0V0z\" fill=\"none\"/>\n",
              "    <path d=\"M18.56 5.44l.94 2.06.94-2.06 2.06-.94-2.06-.94-.94-2.06-.94 2.06-2.06.94zm-11 1L8.5 8.5l.94-2.06 2.06-.94-2.06-.94L8.5 2.5l-.94 2.06-2.06.94zm10 10l.94 2.06.94-2.06 2.06-.94-2.06-.94-.94-2.06-.94 2.06-2.06.94z\"/><path d=\"M17.41 7.96l-1.37-1.37c-.4-.4-.92-.59-1.43-.59-.52 0-1.04.2-1.43.59L10.3 9.45l-7.72 7.72c-.78.78-.78 2.05 0 2.83L4 21.41c.39.39.9.59 1.41.59.51 0 1.02-.2 1.41-.59l7.78-7.78 2.81-2.81c.8-.78.8-2.07 0-2.86zM5.41 20L4 18.59l7.72-7.72 1.47 1.35L5.41 20z\"/>\n",
              "  </svg>\n",
              "      </button>\n",
              "      \n",
              "  <style>\n",
              "    .colab-df-container {\n",
              "      display:flex;\n",
              "      flex-wrap:wrap;\n",
              "      gap: 12px;\n",
              "    }\n",
              "\n",
              "    .colab-df-convert {\n",
              "      background-color: #E8F0FE;\n",
              "      border: none;\n",
              "      border-radius: 50%;\n",
              "      cursor: pointer;\n",
              "      display: none;\n",
              "      fill: #1967D2;\n",
              "      height: 32px;\n",
              "      padding: 0 0 0 0;\n",
              "      width: 32px;\n",
              "    }\n",
              "\n",
              "    .colab-df-convert:hover {\n",
              "      background-color: #E2EBFA;\n",
              "      box-shadow: 0px 1px 2px rgba(60, 64, 67, 0.3), 0px 1px 3px 1px rgba(60, 64, 67, 0.15);\n",
              "      fill: #174EA6;\n",
              "    }\n",
              "\n",
              "    [theme=dark] .colab-df-convert {\n",
              "      background-color: #3B4455;\n",
              "      fill: #D2E3FC;\n",
              "    }\n",
              "\n",
              "    [theme=dark] .colab-df-convert:hover {\n",
              "      background-color: #434B5C;\n",
              "      box-shadow: 0px 1px 3px 1px rgba(0, 0, 0, 0.15);\n",
              "      filter: drop-shadow(0px 1px 2px rgba(0, 0, 0, 0.3));\n",
              "      fill: #FFFFFF;\n",
              "    }\n",
              "  </style>\n",
              "\n",
              "      <script>\n",
              "        const buttonEl =\n",
              "          document.querySelector('#df-1fbce7b8-8e1b-44f7-95c0-f0af28a1d5e3 button.colab-df-convert');\n",
              "        buttonEl.style.display =\n",
              "          google.colab.kernel.accessAllowed ? 'block' : 'none';\n",
              "\n",
              "        async function convertToInteractive(key) {\n",
              "          const element = document.querySelector('#df-1fbce7b8-8e1b-44f7-95c0-f0af28a1d5e3');\n",
              "          const dataTable =\n",
              "            await google.colab.kernel.invokeFunction('convertToInteractive',\n",
              "                                                     [key], {});\n",
              "          if (!dataTable) return;\n",
              "\n",
              "          const docLinkHtml = 'Like what you see? Visit the ' +\n",
              "            '<a target=\"_blank\" href=https://colab.research.google.com/notebooks/data_table.ipynb>data table notebook</a>'\n",
              "            + ' to learn more about interactive tables.';\n",
              "          element.innerHTML = '';\n",
              "          dataTable['output_type'] = 'display_data';\n",
              "          await google.colab.output.renderOutput(dataTable, element);\n",
              "          const docLink = document.createElement('div');\n",
              "          docLink.innerHTML = docLinkHtml;\n",
              "          element.appendChild(docLink);\n",
              "        }\n",
              "      </script>\n",
              "    </div>\n",
              "  </div>\n",
              "  "
            ]
          },
          "metadata": {},
          "execution_count": 9
        }
      ],
      "source": [
        "X_test=df_test.drop(['ID'],axis=1)\n",
        "X_test"
      ]
    },
    {
      "cell_type": "code",
      "execution_count": null,
      "metadata": {
        "colab": {
          "base_uri": "https://localhost:8080/",
          "height": 386
        },
        "outputId": "60ea87ec-9cd9-4d3f-f432-699626cc2eae",
        "id": "3hdjDswbj3aM"
      },
      "outputs": [
        {
          "output_type": "execute_result",
          "data": {
            "text/plain": [
              "   Gender   Customer_Type   Age      Type_Travel Travel_Class  \\\n",
              "0  Female  Loyal Customer  52.0              NaN     Business   \n",
              "1    Male  Loyal Customer  48.0  Personal Travel          Eco   \n",
              "2  Female  Loyal Customer  43.0  Business Travel     Business   \n",
              "3  Female  Loyal Customer  44.0  Business Travel     Business   \n",
              "4  Female  Loyal Customer  50.0  Business Travel     Business   \n",
              "\n",
              "   Travel_Distance  Departure_Delay_in_Mins  Arrival_Delay_in_Mins  \\\n",
              "0              272                      0.0                    5.0   \n",
              "1             2200                      9.0                    0.0   \n",
              "2             1061                     77.0                  119.0   \n",
              "3              780                     13.0                   18.0   \n",
              "4             1981                      0.0                    0.0   \n",
              "\n",
              "        Seat_Comfort Seat_Class  ... Onboard_Wifi_Service  \\\n",
              "0  Needs Improvement  Green Car  ...                 Good   \n",
              "1               Poor   Ordinary  ...                 Good   \n",
              "2  Needs Improvement  Green Car  ...    Needs Improvement   \n",
              "3         Acceptable   Ordinary  ...           Acceptable   \n",
              "4         Acceptable   Ordinary  ...    Needs Improvement   \n",
              "\n",
              "  Onboard_Entertainment Online_Support Ease_of_Online_Booking  \\\n",
              "0     Needs Improvement     Acceptable      Needs Improvement   \n",
              "1                  Poor           Good                   Good   \n",
              "2                  Good      Excellent              Excellent   \n",
              "3     Needs Improvement     Acceptable             Acceptable   \n",
              "4                  Good      Excellent                   Good   \n",
              "\n",
              "     Onboard_Service            Legroom   Baggage_Handling    CheckIn_Service  \\\n",
              "0  Needs Improvement         Acceptable  Needs Improvement               Good   \n",
              "1          Excellent  Needs Improvement               Poor  Needs Improvement   \n",
              "2          Excellent          Excellent          Excellent               Good   \n",
              "3         Acceptable         Acceptable         Acceptable               Good   \n",
              "4               Good               Good               Good               Good   \n",
              "\n",
              "         Cleanliness Online_Boarding  \n",
              "0  Needs Improvement            Poor  \n",
              "1               Good            Good  \n",
              "2          Excellent       Excellent  \n",
              "3         Acceptable      Acceptable  \n",
              "4               Good            Good  \n",
              "\n",
              "[5 rows x 23 columns]"
            ],
            "text/html": [
              "\n",
              "  <div id=\"df-d0d261cd-cfec-4582-ba3c-ba64e31d5b09\">\n",
              "    <div class=\"colab-df-container\">\n",
              "      <div>\n",
              "<style scoped>\n",
              "    .dataframe tbody tr th:only-of-type {\n",
              "        vertical-align: middle;\n",
              "    }\n",
              "\n",
              "    .dataframe tbody tr th {\n",
              "        vertical-align: top;\n",
              "    }\n",
              "\n",
              "    .dataframe thead th {\n",
              "        text-align: right;\n",
              "    }\n",
              "</style>\n",
              "<table border=\"1\" class=\"dataframe\">\n",
              "  <thead>\n",
              "    <tr style=\"text-align: right;\">\n",
              "      <th></th>\n",
              "      <th>Gender</th>\n",
              "      <th>Customer_Type</th>\n",
              "      <th>Age</th>\n",
              "      <th>Type_Travel</th>\n",
              "      <th>Travel_Class</th>\n",
              "      <th>Travel_Distance</th>\n",
              "      <th>Departure_Delay_in_Mins</th>\n",
              "      <th>Arrival_Delay_in_Mins</th>\n",
              "      <th>Seat_Comfort</th>\n",
              "      <th>Seat_Class</th>\n",
              "      <th>...</th>\n",
              "      <th>Onboard_Wifi_Service</th>\n",
              "      <th>Onboard_Entertainment</th>\n",
              "      <th>Online_Support</th>\n",
              "      <th>Ease_of_Online_Booking</th>\n",
              "      <th>Onboard_Service</th>\n",
              "      <th>Legroom</th>\n",
              "      <th>Baggage_Handling</th>\n",
              "      <th>CheckIn_Service</th>\n",
              "      <th>Cleanliness</th>\n",
              "      <th>Online_Boarding</th>\n",
              "    </tr>\n",
              "  </thead>\n",
              "  <tbody>\n",
              "    <tr>\n",
              "      <th>0</th>\n",
              "      <td>Female</td>\n",
              "      <td>Loyal Customer</td>\n",
              "      <td>52.0</td>\n",
              "      <td>NaN</td>\n",
              "      <td>Business</td>\n",
              "      <td>272</td>\n",
              "      <td>0.0</td>\n",
              "      <td>5.0</td>\n",
              "      <td>Needs Improvement</td>\n",
              "      <td>Green Car</td>\n",
              "      <td>...</td>\n",
              "      <td>Good</td>\n",
              "      <td>Needs Improvement</td>\n",
              "      <td>Acceptable</td>\n",
              "      <td>Needs Improvement</td>\n",
              "      <td>Needs Improvement</td>\n",
              "      <td>Acceptable</td>\n",
              "      <td>Needs Improvement</td>\n",
              "      <td>Good</td>\n",
              "      <td>Needs Improvement</td>\n",
              "      <td>Poor</td>\n",
              "    </tr>\n",
              "    <tr>\n",
              "      <th>1</th>\n",
              "      <td>Male</td>\n",
              "      <td>Loyal Customer</td>\n",
              "      <td>48.0</td>\n",
              "      <td>Personal Travel</td>\n",
              "      <td>Eco</td>\n",
              "      <td>2200</td>\n",
              "      <td>9.0</td>\n",
              "      <td>0.0</td>\n",
              "      <td>Poor</td>\n",
              "      <td>Ordinary</td>\n",
              "      <td>...</td>\n",
              "      <td>Good</td>\n",
              "      <td>Poor</td>\n",
              "      <td>Good</td>\n",
              "      <td>Good</td>\n",
              "      <td>Excellent</td>\n",
              "      <td>Needs Improvement</td>\n",
              "      <td>Poor</td>\n",
              "      <td>Needs Improvement</td>\n",
              "      <td>Good</td>\n",
              "      <td>Good</td>\n",
              "    </tr>\n",
              "    <tr>\n",
              "      <th>2</th>\n",
              "      <td>Female</td>\n",
              "      <td>Loyal Customer</td>\n",
              "      <td>43.0</td>\n",
              "      <td>Business Travel</td>\n",
              "      <td>Business</td>\n",
              "      <td>1061</td>\n",
              "      <td>77.0</td>\n",
              "      <td>119.0</td>\n",
              "      <td>Needs Improvement</td>\n",
              "      <td>Green Car</td>\n",
              "      <td>...</td>\n",
              "      <td>Needs Improvement</td>\n",
              "      <td>Good</td>\n",
              "      <td>Excellent</td>\n",
              "      <td>Excellent</td>\n",
              "      <td>Excellent</td>\n",
              "      <td>Excellent</td>\n",
              "      <td>Excellent</td>\n",
              "      <td>Good</td>\n",
              "      <td>Excellent</td>\n",
              "      <td>Excellent</td>\n",
              "    </tr>\n",
              "    <tr>\n",
              "      <th>3</th>\n",
              "      <td>Female</td>\n",
              "      <td>Loyal Customer</td>\n",
              "      <td>44.0</td>\n",
              "      <td>Business Travel</td>\n",
              "      <td>Business</td>\n",
              "      <td>780</td>\n",
              "      <td>13.0</td>\n",
              "      <td>18.0</td>\n",
              "      <td>Acceptable</td>\n",
              "      <td>Ordinary</td>\n",
              "      <td>...</td>\n",
              "      <td>Acceptable</td>\n",
              "      <td>Needs Improvement</td>\n",
              "      <td>Acceptable</td>\n",
              "      <td>Acceptable</td>\n",
              "      <td>Acceptable</td>\n",
              "      <td>Acceptable</td>\n",
              "      <td>Acceptable</td>\n",
              "      <td>Good</td>\n",
              "      <td>Acceptable</td>\n",
              "      <td>Acceptable</td>\n",
              "    </tr>\n",
              "    <tr>\n",
              "      <th>4</th>\n",
              "      <td>Female</td>\n",
              "      <td>Loyal Customer</td>\n",
              "      <td>50.0</td>\n",
              "      <td>Business Travel</td>\n",
              "      <td>Business</td>\n",
              "      <td>1981</td>\n",
              "      <td>0.0</td>\n",
              "      <td>0.0</td>\n",
              "      <td>Acceptable</td>\n",
              "      <td>Ordinary</td>\n",
              "      <td>...</td>\n",
              "      <td>Needs Improvement</td>\n",
              "      <td>Good</td>\n",
              "      <td>Excellent</td>\n",
              "      <td>Good</td>\n",
              "      <td>Good</td>\n",
              "      <td>Good</td>\n",
              "      <td>Good</td>\n",
              "      <td>Good</td>\n",
              "      <td>Good</td>\n",
              "      <td>Good</td>\n",
              "    </tr>\n",
              "  </tbody>\n",
              "</table>\n",
              "<p>5 rows × 23 columns</p>\n",
              "</div>\n",
              "      <button class=\"colab-df-convert\" onclick=\"convertToInteractive('df-d0d261cd-cfec-4582-ba3c-ba64e31d5b09')\"\n",
              "              title=\"Convert this dataframe to an interactive table.\"\n",
              "              style=\"display:none;\">\n",
              "        \n",
              "  <svg xmlns=\"http://www.w3.org/2000/svg\" height=\"24px\"viewBox=\"0 0 24 24\"\n",
              "       width=\"24px\">\n",
              "    <path d=\"M0 0h24v24H0V0z\" fill=\"none\"/>\n",
              "    <path d=\"M18.56 5.44l.94 2.06.94-2.06 2.06-.94-2.06-.94-.94-2.06-.94 2.06-2.06.94zm-11 1L8.5 8.5l.94-2.06 2.06-.94-2.06-.94L8.5 2.5l-.94 2.06-2.06.94zm10 10l.94 2.06.94-2.06 2.06-.94-2.06-.94-.94-2.06-.94 2.06-2.06.94z\"/><path d=\"M17.41 7.96l-1.37-1.37c-.4-.4-.92-.59-1.43-.59-.52 0-1.04.2-1.43.59L10.3 9.45l-7.72 7.72c-.78.78-.78 2.05 0 2.83L4 21.41c.39.39.9.59 1.41.59.51 0 1.02-.2 1.41-.59l7.78-7.78 2.81-2.81c.8-.78.8-2.07 0-2.86zM5.41 20L4 18.59l7.72-7.72 1.47 1.35L5.41 20z\"/>\n",
              "  </svg>\n",
              "      </button>\n",
              "      \n",
              "  <style>\n",
              "    .colab-df-container {\n",
              "      display:flex;\n",
              "      flex-wrap:wrap;\n",
              "      gap: 12px;\n",
              "    }\n",
              "\n",
              "    .colab-df-convert {\n",
              "      background-color: #E8F0FE;\n",
              "      border: none;\n",
              "      border-radius: 50%;\n",
              "      cursor: pointer;\n",
              "      display: none;\n",
              "      fill: #1967D2;\n",
              "      height: 32px;\n",
              "      padding: 0 0 0 0;\n",
              "      width: 32px;\n",
              "    }\n",
              "\n",
              "    .colab-df-convert:hover {\n",
              "      background-color: #E2EBFA;\n",
              "      box-shadow: 0px 1px 2px rgba(60, 64, 67, 0.3), 0px 1px 3px 1px rgba(60, 64, 67, 0.15);\n",
              "      fill: #174EA6;\n",
              "    }\n",
              "\n",
              "    [theme=dark] .colab-df-convert {\n",
              "      background-color: #3B4455;\n",
              "      fill: #D2E3FC;\n",
              "    }\n",
              "\n",
              "    [theme=dark] .colab-df-convert:hover {\n",
              "      background-color: #434B5C;\n",
              "      box-shadow: 0px 1px 3px 1px rgba(0, 0, 0, 0.15);\n",
              "      filter: drop-shadow(0px 1px 2px rgba(0, 0, 0, 0.3));\n",
              "      fill: #FFFFFF;\n",
              "    }\n",
              "  </style>\n",
              "\n",
              "      <script>\n",
              "        const buttonEl =\n",
              "          document.querySelector('#df-d0d261cd-cfec-4582-ba3c-ba64e31d5b09 button.colab-df-convert');\n",
              "        buttonEl.style.display =\n",
              "          google.colab.kernel.accessAllowed ? 'block' : 'none';\n",
              "\n",
              "        async function convertToInteractive(key) {\n",
              "          const element = document.querySelector('#df-d0d261cd-cfec-4582-ba3c-ba64e31d5b09');\n",
              "          const dataTable =\n",
              "            await google.colab.kernel.invokeFunction('convertToInteractive',\n",
              "                                                     [key], {});\n",
              "          if (!dataTable) return;\n",
              "\n",
              "          const docLinkHtml = 'Like what you see? Visit the ' +\n",
              "            '<a target=\"_blank\" href=https://colab.research.google.com/notebooks/data_table.ipynb>data table notebook</a>'\n",
              "            + ' to learn more about interactive tables.';\n",
              "          element.innerHTML = '';\n",
              "          dataTable['output_type'] = 'display_data';\n",
              "          await google.colab.output.renderOutput(dataTable, element);\n",
              "          const docLink = document.createElement('div');\n",
              "          docLink.innerHTML = docLinkHtml;\n",
              "          element.appendChild(docLink);\n",
              "        }\n",
              "      </script>\n",
              "    </div>\n",
              "  </div>\n",
              "  "
            ]
          },
          "metadata": {},
          "execution_count": 10
        }
      ],
      "source": [
        "X.head()"
      ]
    },
    {
      "cell_type": "code",
      "execution_count": null,
      "metadata": {
        "colab": {
          "base_uri": "https://localhost:8080/"
        },
        "outputId": "59f9b760-6379-4561-ead6-94f36847a8ff",
        "id": "ON_ACNvYj3aM"
      },
      "outputs": [
        {
          "output_type": "execute_result",
          "data": {
            "text/plain": [
              "0    0\n",
              "1    0\n",
              "2    1\n",
              "3    0\n",
              "4    1\n",
              "Name: Overall_Experience, dtype: int64"
            ]
          },
          "metadata": {},
          "execution_count": 11
        }
      ],
      "source": [
        "y.head()"
      ]
    },
    {
      "cell_type": "markdown",
      "source": [
        "### SMOTE"
      ],
      "metadata": {
        "id": "_mv3nh-a7eUI"
      }
    },
    {
      "cell_type": "code",
      "source": [
        "from imblearn.over_sampling import SMOTENC\n",
        "from collections import Counter\n",
        "from imblearn.under_sampling import RandomUnderSampler\n",
        "from imblearn.pipeline import Pipeline\n",
        "\n",
        "numerical_boolean_array = (X.dtypes == 'int64') | (X.dtypes == 'float64')\n",
        "\n",
        "# oversample = SMOTE()\n",
        "# X, y = oversample.fit_resample(X, y)\n",
        "\n",
        "# smote_nc = SMOTENC(categorical_features= list(~numerical_boolean_array), sampling_strategy = 0.75) # list(~numerical_boolean_array)\n",
        "# X_resampled, y_resampled = smote_nc.fit_resample(X, y)\n",
        "# print(X_resampled.shape, y_resampled.shape)\n",
        "cl0 = df_train[target_col].value_counts()[0]\n",
        "cl1 = df_train[target_col].value_counts()[1]\n",
        "clMin = min([cl0, cl1])\n",
        "clMax = max([cl0, cl1])\n",
        "over = SMOTENC(categorical_features= list(~numerical_boolean_array), sampling_strategy = (clMax+clMin)/2./clMax)\n",
        "under = RandomUnderSampler() # sampling_strategy=0.5\n",
        "steps = [('o', over), ('u', under)]\n",
        "smote_pipeline = Pipeline(steps=steps)\n",
        "# transform the dataset\n",
        "# X_res2, y_res2 = smote_pipeline.fit_resample(X, y)\n",
        "# # print(X_res2.shape, y_res2.shape)\n",
        "# dfS = pd.concat([X_res2, y_res2], axis = 1).sample(frac=1, random_state=1).reset_index(drop = True)\n",
        "# # print(dfS.shape)\n",
        "\n",
        "# sns.countplot(data = dfS, x = target)\n",
        "# plt.show()"
      ],
      "metadata": {
        "id": "WjBIND8X-l6e"
      },
      "execution_count": null,
      "outputs": []
    },
    {
      "cell_type": "markdown",
      "source": [
        "### Define metric score"
      ],
      "metadata": {
        "id": "tCiKRJxvDoJb"
      }
    },
    {
      "cell_type": "code",
      "source": [
        "#function to print classification report and get confusion matrix in a proper format\n",
        "\n",
        "def metrics_score(actual, predicted):\n",
        "    print(classification_report(actual, predicted, digits=6))\n",
        "    cm = confusion_matrix(actual, predicted)\n",
        "    plt.figure(figsize=(8,5))\n",
        "    sns.heatmap(cm, annot=True,  fmt='.2f', xticklabels=['Not Eligible', 'Eligible'], yticklabels=['Not Eligible', 'Eligible'])\n",
        "    plt.ylabel('Actual')\n",
        "    plt.xlabel('Predicted')\n",
        "    plt.show()"
      ],
      "metadata": {
        "id": "-GZUcUWq8N90"
      },
      "execution_count": null,
      "outputs": []
    },
    {
      "cell_type": "markdown",
      "source": [
        "### Guess writer"
      ],
      "metadata": {
        "id": "TE2p2aAKNz-v"
      }
    },
    {
      "cell_type": "code",
      "source": [
        "def guess_writer(predictions, test_flag = False):\n",
        "    import os\n",
        "    ids = pd.read_csv('/content/drive/MyDrive/Hackathon/Datasets/Test ID File.csv')\n",
        "    file_base = '/content/drive/MyDrive/Hackathon/Datasets/Guess Attempts/Attempt '\n",
        "    def get_dir0(version):\n",
        "        base = file_base + str(version)\n",
        "        dir0 = base + '_test.csv' if test_flag else base + '.csv'\n",
        "        return dir0\n",
        "    version = 0\n",
        "    dir0 = get_dir0(version)\n",
        "    while os.path.isfile(get_dir0(version)):\n",
        "        version += 1\n",
        "        dir0 = get_dir0(version)\n",
        "    pd.DataFrame({\"ID\":ids.ID, 'Overall_Experience':predictions}).to_csv(dir0, index = False)\n",
        "    print(f\"File saved to: {dir0}\")"
      ],
      "metadata": {
        "id": "AZXmw-mkYkVd"
      },
      "execution_count": null,
      "outputs": []
    },
    {
      "cell_type": "markdown",
      "source": [
        "## Preprocessing pipelines"
      ],
      "metadata": {
        "id": "ejMVcMS4kJYd"
      }
    },
    {
      "cell_type": "code",
      "source": [
        "from sklearn.compose import make_column_selector,make_column_transformer\n",
        "from sklearn.impute import SimpleImputer\n",
        "from sklearn.pipeline import Pipeline, make_pipeline\n",
        "from sklearn.preprocessing import LabelEncoder, OrdinalEncoder, OneHotEncoder, StandardScaler\n",
        "from sklearn.model_selection import train_test_split, GridSearchCV\n",
        "from sklearn.decomposition import PCA, TruncatedSVD\n",
        "from mlxtend.feature_selection import ColumnSelector\n",
        "\n",
        "# automatic selector\n",
        "cat_selector = make_column_selector(dtype_include=object)\n",
        "num_selector = make_column_selector(dtype_include=np.number)\n",
        "cat_cols = cat_selector(X)\n",
        "\n",
        "\n",
        "# manual selector for categorical columns\n",
        "ohe_cols = ['Gender', 'Customer_Type', 'Type_Travel', \n",
        "           'Travel_Class','Seat_Class']\n",
        "ohe_selector = ColumnSelector(ohe_cols) \n",
        "\n",
        "ord_cols = [x for x in cat_cols if (x not in ohe_cols)]\n",
        "ord_cols1 = ['Platform_Location']       \n",
        "ord1_selector = ColumnSelector(ord_cols1)\n",
        "\n",
        "ord_cols2 = ord_cols\n",
        "ord2_selector = ColumnSelector(ord_cols2)\n",
        "\n",
        "ord_cols2.remove('Platform_Location')\n",
        "\n",
        "ord_cols2\n"
      ],
      "metadata": {
        "colab": {
          "base_uri": "https://localhost:8080/"
        },
        "id": "yyDSDhDpkTn9",
        "outputId": "ddceedec-c92d-482e-c0bb-aab5a03cb06b"
      },
      "execution_count": null,
      "outputs": [
        {
          "output_type": "execute_result",
          "data": {
            "text/plain": [
              "['Seat_Comfort',\n",
              " 'Arrival_Time_Convenient',\n",
              " 'Catering',\n",
              " 'Onboard_Wifi_Service',\n",
              " 'Onboard_Entertainment',\n",
              " 'Online_Support',\n",
              " 'Ease_of_Online_Booking',\n",
              " 'Onboard_Service',\n",
              " 'Legroom',\n",
              " 'Baggage_Handling',\n",
              " 'CheckIn_Service',\n",
              " 'Cleanliness',\n",
              " 'Online_Boarding']"
            ]
          },
          "metadata": {},
          "execution_count": 18
        }
      ]
    },
    {
      "cell_type": "markdown",
      "source": [
        "### Imputers"
      ],
      "metadata": {
        "id": "Uf4dhb0ypd6S"
      }
    },
    {
      "cell_type": "code",
      "source": [
        "# imputers\n",
        "num_impute_median = SimpleImputer(\n",
        "    strategy=\"median\", add_indicator=False)\n",
        "ord_impute_mode = SimpleImputer(\n",
        "    strategy=\"most_frequent\", add_indicator=False)\n",
        "cat_impute_most = SimpleImputer(\n",
        "    strategy=\"most_frequent\", add_indicator=False)"
      ],
      "metadata": {
        "id": "JhcjZ0ympda3"
      },
      "execution_count": null,
      "outputs": []
    },
    {
      "cell_type": "markdown",
      "source": [
        "### Encoders"
      ],
      "metadata": {
        "id": "JgdLUqCVpljU"
      }
    },
    {
      "cell_type": "markdown",
      "source": [
        "### Manual encoding of ordinals\n"
      ],
      "metadata": {
        "id": "a60sBx6tMOg7"
      }
    },
    {
      "cell_type": "code",
      "source": [
        "from operator import xor\n",
        "from sklearn.base import BaseEstimator, TransformerMixin\n",
        "from sklearn.utils.validation import check_is_fitted\n",
        "# The ColumnsSelector class inherits from the sklearn.base classes \n",
        "# (BaseEstimator, TransformerMixin). This makes it compatible with \n",
        "# scikit-learn’s Pipelines\n",
        "class OrdinalEncoder1(BaseEstimator, TransformerMixin):\n",
        "    # initializer \n",
        "    def __init__(self, columns):\n",
        "        # save the features list internally in the class\n",
        "        self.columns = columns\n",
        "    def encoder(self,x):\n",
        "        if x=='Very Convenient':\n",
        "            return 5.0\n",
        "        elif x=='Convenient':\n",
        "            return 4.0\n",
        "        elif x=='Needs Improvement':\n",
        "            return 3.0\n",
        "        elif x=='Manageable':\n",
        "            return 2.0\n",
        "        elif x=='Inconvenient':\n",
        "            return 1.0\n",
        "        elif x=='Very Inconvenient':\n",
        "            return 0.0\n",
        "        else: \n",
        "            return x\n",
        "\n",
        "    def fit(self, X, y = None):\n",
        "        return self\n",
        "    def transform(self, X, y = None):\n",
        "        X = pd.DataFrame(X,columns=self.columns)\n",
        "        for col in self.columns:\n",
        "            X[col] = list(map(self.encoder,X[col]))\n",
        "        return X\n",
        "\n",
        "\n",
        "\n",
        "class OrdinalEncoder2(BaseEstimator, TransformerMixin):\n",
        "    # initializer \n",
        "    def __init__(self, columns):\n",
        "        # save the features list internally in the class\n",
        "        self.columns = columns\n",
        "    def encoder(self,x):\n",
        "        if x=='Excellent':\n",
        "            return 5\n",
        "        elif x=='Good':\n",
        "            return 4\n",
        "        elif x=='Acceptable':\n",
        "            return 3\n",
        "        elif x=='Needs Improvement':\n",
        "            return 2\n",
        "        elif x=='Poor':\n",
        "            return 1.0\n",
        "        elif x== 'Extremely Poor':\n",
        "            return 0.0\n",
        "        else:\n",
        "            return x\n",
        "\n",
        "    def fit(self, X, y = None):\n",
        "        return self\n",
        "    def transform(self, X, y = None):\n",
        "        X = pd.DataFrame(X,columns=self.columns)\n",
        "        for col in self.columns:\n",
        "            X[col] = list(map(self.encoder,X[col]))\n",
        "        return X"
      ],
      "metadata": {
        "id": "2L8L1m8Syanh"
      },
      "execution_count": null,
      "outputs": []
    },
    {
      "cell_type": "code",
      "source": [
        "u = OrdinalEncoder2(ord_cols2)\n",
        "u = u.fit_transform(X)\n",
        "u.info()"
      ],
      "metadata": {
        "colab": {
          "base_uri": "https://localhost:8080/"
        },
        "id": "L9vcuGFK12tJ",
        "outputId": "f959201c-c36a-401c-b974-6f0fe1ad2854"
      },
      "execution_count": null,
      "outputs": [
        {
          "output_type": "stream",
          "name": "stdout",
          "text": [
            "<class 'pandas.core.frame.DataFrame'>\n",
            "RangeIndex: 94379 entries, 0 to 94378\n",
            "Data columns (total 13 columns):\n",
            " #   Column                   Non-Null Count  Dtype  \n",
            "---  ------                   --------------  -----  \n",
            " 0   Seat_Comfort             94318 non-null  float64\n",
            " 1   Arrival_Time_Convenient  85449 non-null  float64\n",
            " 2   Catering                 85638 non-null  float64\n",
            " 3   Onboard_Wifi_Service     94349 non-null  float64\n",
            " 4   Onboard_Entertainment    94361 non-null  float64\n",
            " 5   Online_Support           94288 non-null  float64\n",
            " 6   Ease_of_Online_Booking   94306 non-null  float64\n",
            " 7   Onboard_Service          86778 non-null  float64\n",
            " 8   Legroom                  94289 non-null  float64\n",
            " 9   Baggage_Handling         94237 non-null  float64\n",
            " 10  CheckIn_Service          94302 non-null  float64\n",
            " 11  Cleanliness              94373 non-null  float64\n",
            " 12  Online_Boarding          94373 non-null  float64\n",
            "dtypes: float64(13)\n",
            "memory usage: 9.4 MB\n"
          ]
        }
      ]
    },
    {
      "cell_type": "code",
      "source": [
        "u = OrdinalEncoder1(ord_cols1)\n",
        "u = u.fit_transform (X)\n",
        "u.info()"
      ],
      "metadata": {
        "colab": {
          "base_uri": "https://localhost:8080/"
        },
        "id": "8BvZGP_zzSnL",
        "outputId": "a68c42ac-d11f-440b-9615-3b260dc67907"
      },
      "execution_count": null,
      "outputs": [
        {
          "output_type": "stream",
          "name": "stdout",
          "text": [
            "<class 'pandas.core.frame.DataFrame'>\n",
            "RangeIndex: 94379 entries, 0 to 94378\n",
            "Data columns (total 1 columns):\n",
            " #   Column             Non-Null Count  Dtype  \n",
            "---  ------             --------------  -----  \n",
            " 0   Platform_Location  94349 non-null  float64\n",
            "dtypes: float64(1)\n",
            "memory usage: 737.5 KB\n"
          ]
        }
      ]
    },
    {
      "cell_type": "code",
      "source": [
        "## encoders\n",
        "cat_onehot = OneHotEncoder()\n",
        "cat_ordenc1 = OrdinalEncoder1(ord_cols1)\n",
        "cat_ordenc2 = OrdinalEncoder2(ord_cols2)\n",
        "\n"
      ],
      "metadata": {
        "id": "vVuagvJcpkZ1"
      },
      "execution_count": null,
      "outputs": []
    },
    {
      "cell_type": "markdown",
      "source": [
        "### pipelines columns"
      ],
      "metadata": {
        "id": "F-c88Ebapv3B"
      }
    },
    {
      "cell_type": "code",
      "source": [
        "cat_ohe_pipe = Pipeline(\n",
        "    steps=[(\"cat_impute\", cat_impute_most), (\"cat_enc\", cat_onehot)]\n",
        ")\n",
        "\n",
        "cat_ord_pipe = Pipeline(\n",
        "    steps=[(\"cat_impute\", cat_impute_most), (\"ord_enc1\", cat_ordenc1)]\n",
        ")\n",
        "\n",
        "\n",
        "num_pipe_median = Pipeline(\n",
        "    steps=[(\"num_impute\", num_impute_median)]\n",
        ")\n",
        "\n",
        "ord_pipe_mode1 = Pipeline(\n",
        "    steps=[(\"ord_impute\", ord_impute_mode), (\"cat_ordenc1\",cat_ordenc1)]\n",
        ")\n",
        "\n",
        "ord_pipe_mode2 = Pipeline(\n",
        "    steps=[(\"ord_impute\", ord_impute_mode), (\"cat_ordenc2\",cat_ordenc2)]\n",
        ")\n",
        "\n"
      ],
      "metadata": {
        "id": "paSTRMpnpvNA"
      },
      "execution_count": null,
      "outputs": []
    },
    {
      "cell_type": "markdown",
      "source": [
        "### preprocessors"
      ],
      "metadata": {
        "id": "b4IdllZ9qJxY"
      }
    },
    {
      "cell_type": "code",
      "source": [
        "preprocessor = make_column_transformer(\n",
        "    (num_pipe_median, num_selector), (cat_ohe_pipe, cat_selector)\n",
        ")\n",
        "\n",
        "preprocessor_scaler = Pipeline(\n",
        "    steps=[(\"preprocessor\",preprocessor), (\"scaler\",StandardScaler(with_mean=False))]\n",
        ")\n",
        "\n",
        "\n",
        "preprocessor_scaler_pca = Pipeline(\n",
        "    steps=[(\"preprocessor\",preprocessor), (\"scaler\",StandardScaler(with_mean=False)), (\"pca\",TruncatedSVD())]#TruncatedSVD()\n",
        ")\n",
        "\n",
        "preprocessor_mix = make_column_transformer(\n",
        "    (num_pipe_median, num_selector), (cat_ohe_pipe, ohe_cols), (ord_pipe_mode1,ord_cols1), (ord_pipe_mode2,ord_cols2)\n",
        ")\n",
        "\n",
        "\n",
        "preprocessor_mix_scaler = Pipeline(\n",
        "    steps=[(\"preprocessor\",preprocessor_mix), (\"scaler\",StandardScaler(with_mean=False))]\n",
        ")\n",
        "\n",
        "\n",
        "preprocessor_mix_scaler_pca = Pipeline(\n",
        "    steps=[(\"preprocessor\",preprocessor_mix), (\"scaler\",StandardScaler(with_mean=False)), (\"pca\",TruncatedSVD())] #TruncatedSVD()\n",
        ")"
      ],
      "metadata": {
        "id": "MIVRuCjkktJJ"
      },
      "execution_count": null,
      "outputs": []
    },
    {
      "cell_type": "markdown",
      "source": [
        "### Test preprocessing pipelines"
      ],
      "metadata": {
        "id": "tsuWqLJnta9D"
      }
    },
    {
      "cell_type": "code",
      "source": [
        "X_ = preprocessor.fit_transform(X)\n",
        "X_"
      ],
      "metadata": {
        "colab": {
          "base_uri": "https://localhost:8080/"
        },
        "id": "ZZsWURiLnTSZ",
        "outputId": "bc31b599-5205-4d7a-9308-c51e55aed4db"
      },
      "execution_count": null,
      "outputs": [
        {
          "output_type": "execute_result",
          "data": {
            "text/plain": [
              "<94379x97 sparse matrix of type '<class 'numpy.float64'>'\n",
              "\twith 2064049 stored elements in Compressed Sparse Row format>"
            ]
          },
          "metadata": {},
          "execution_count": 38
        }
      ]
    },
    {
      "cell_type": "code",
      "source": [
        "X_ = preprocessor_scaler.fit_transform(X)\n",
        "X_"
      ],
      "metadata": {
        "colab": {
          "base_uri": "https://localhost:8080/"
        },
        "id": "yNKK97ukAWlE",
        "outputId": "33674cfa-350c-473d-94f8-cb5761cb813d"
      },
      "execution_count": null,
      "outputs": [
        {
          "output_type": "execute_result",
          "data": {
            "text/plain": [
              "<94379x97 sparse matrix of type '<class 'numpy.float64'>'\n",
              "\twith 2064049 stored elements in Compressed Sparse Row format>"
            ]
          },
          "metadata": {},
          "execution_count": 39
        }
      ]
    },
    {
      "cell_type": "code",
      "source": [
        "X_ = preprocessor_scaler_pca.fit_transform(X)\n",
        "X_"
      ],
      "metadata": {
        "colab": {
          "base_uri": "https://localhost:8080/"
        },
        "id": "-wbNLANoAWpP",
        "outputId": "7af21d89-f0c9-46ea-a618-111b96e6fa99"
      },
      "execution_count": null,
      "outputs": [
        {
          "output_type": "execute_result",
          "data": {
            "text/plain": [
              "array([[ 6.37133767,  1.856039  ],\n",
              "       [ 6.65986384,  0.13592107],\n",
              "       [ 6.95458485, -2.78486666],\n",
              "       ...,\n",
              "       [ 7.81166297, -1.10950252],\n",
              "       [ 6.1457537 ,  0.11016858],\n",
              "       [ 7.26677315,  2.63058791]])"
            ]
          },
          "metadata": {},
          "execution_count": 40
        }
      ]
    },
    {
      "cell_type": "code",
      "source": [
        "X_ = preprocessor_mix.fit_transform(X)\n",
        "X_"
      ],
      "metadata": {
        "colab": {
          "base_uri": "https://localhost:8080/"
        },
        "id": "6bwq9Li1sHqZ",
        "outputId": "41c0bcd0-f121-4497-bd26-ac811def3b44"
      },
      "execution_count": null,
      "outputs": [
        {
          "output_type": "execute_result",
          "data": {
            "text/plain": [
              "array([[5.200e+01, 2.720e+02, 0.000e+00, ..., 4.000e+00, 2.000e+00,\n",
              "        1.000e+00],\n",
              "       [4.800e+01, 2.200e+03, 9.000e+00, ..., 2.000e+00, 4.000e+00,\n",
              "        4.000e+00],\n",
              "       [4.300e+01, 1.061e+03, 7.700e+01, ..., 4.000e+00, 5.000e+00,\n",
              "        5.000e+00],\n",
              "       ...,\n",
              "       [6.300e+01, 2.794e+03, 0.000e+00, ..., 3.000e+00, 4.000e+00,\n",
              "        3.000e+00],\n",
              "       [1.600e+01, 2.744e+03, 0.000e+00, ..., 4.000e+00, 5.000e+00,\n",
              "        4.000e+00],\n",
              "       [5.400e+01, 2.107e+03, 2.800e+01, ..., 1.000e+00, 4.000e+00,\n",
              "        3.000e+00]])"
            ]
          },
          "metadata": {},
          "execution_count": 41
        }
      ]
    },
    {
      "cell_type": "code",
      "source": [
        "X_ = preprocessor_mix_scaler.fit_transform(X)\n",
        "X_"
      ],
      "metadata": {
        "colab": {
          "base_uri": "https://localhost:8080/"
        },
        "outputId": "4c7a4045-4a42-4f5e-ae0e-ca4e430b7599",
        "id": "X7_ET-1kvflM"
      },
      "execution_count": null,
      "outputs": [
        {
          "output_type": "execute_result",
          "data": {
            "text/plain": [
              "array([[3.44053861, 0.26460287, 0.        , ..., 3.17478945, 1.73619028,\n",
              "        0.77040208],\n",
              "       [3.1758818 , 2.14017031, 0.2360423 , ..., 1.58739472, 3.47238057,\n",
              "        3.08160834],\n",
              "       [2.84506078, 1.03214577, 2.01947304, ..., 3.17478945, 4.34047571,\n",
              "        3.85201042],\n",
              "       ...,\n",
              "       [4.16834486, 2.7180163 , 0.        , ..., 2.38109208, 3.47238057,\n",
              "        2.31120625],\n",
              "       [1.05862727, 2.66937606, 0.        , ..., 3.17478945, 4.34047571,\n",
              "        3.08160834],\n",
              "       [3.57286702, 2.04969948, 0.73435383, ..., 0.79369736, 3.47238057,\n",
              "        2.31120625]])"
            ]
          },
          "metadata": {},
          "execution_count": 42
        }
      ]
    },
    {
      "cell_type": "code",
      "source": [
        "X_ = preprocessor_mix_scaler_pca.fit_transform(X)\n",
        "X_"
      ],
      "metadata": {
        "colab": {
          "base_uri": "https://localhost:8080/"
        },
        "id": "JDLJaY1PsIdg",
        "outputId": "52bd711d-e6cd-410e-be2c-05c9b7d21764"
      },
      "execution_count": null,
      "outputs": [
        {
          "output_type": "execute_result",
          "data": {
            "text/plain": [
              "array([[ 9.59657037, -0.55054269],\n",
              "       [ 9.94151656,  2.64298166],\n",
              "       [12.90800298, -1.72156802],\n",
              "       ...,\n",
              "       [11.98154612, -1.73093861],\n",
              "       [11.35060741,  2.56594983],\n",
              "       [ 9.84146474,  0.26396167]])"
            ]
          },
          "metadata": {},
          "execution_count": 43
        }
      ]
    },
    {
      "cell_type": "markdown",
      "source": [
        "### Gradient boost"
      ],
      "metadata": {
        "id": "M4F43aKfsCZM"
      }
    },
    {
      "cell_type": "code",
      "source": [
        "#Fitting the decision tree classifier on the training data\n",
        "d_tree_gradient_gboost =  GradientBoostingClassifier(n_estimators=200, \n",
        "                                          learning_rate=1.0,max_depth=7)"
      ],
      "metadata": {
        "id": "3qWXYU0baM3r"
      },
      "execution_count": null,
      "outputs": []
    },
    {
      "cell_type": "code",
      "source": [
        "gb_pipeline = make_pipeline(preprocessor, d_tree_gradient_gboost)\n",
        "gb_pipeline"
      ],
      "metadata": {
        "colab": {
          "base_uri": "https://localhost:8080/"
        },
        "outputId": "60e45bb5-83d8-41e3-f05f-a8a2d716b8e7",
        "id": "kyvqPskljr96"
      },
      "execution_count": null,
      "outputs": [
        {
          "output_type": "execute_result",
          "data": {
            "text/plain": [
              "Pipeline(steps=[('columntransformer',\n",
              "                 ColumnTransformer(transformers=[('pipeline-1',\n",
              "                                                  Pipeline(steps=[('num_impute',\n",
              "                                                                   SimpleImputer(strategy='median'))]),\n",
              "                                                  <sklearn.compose._column_transformer.make_column_selector object at 0x7f88eeb3b550>),\n",
              "                                                 ('pipeline-2',\n",
              "                                                  Pipeline(steps=[('cat_impute',\n",
              "                                                                   SimpleImputer(strategy='most_frequent')),\n",
              "                                                                  ('cat_enc',\n",
              "                                                                   OneHotEncoder())]),\n",
              "                                                  <sklearn.compose._column_transformer.make_column_selector object at 0x7f88eeb3b490>)])),\n",
              "                ('gradientboostingclassifier',\n",
              "                 GradientBoostingClassifier(learning_rate=1.0, max_depth=7,\n",
              "                                            n_estimators=200))])"
            ]
          },
          "metadata": {},
          "execution_count": 49
        }
      ]
    },
    {
      "cell_type": "code",
      "source": [
        "gb_pipeline = gb_pipeline.fit(X, y)"
      ],
      "metadata": {
        "id": "Ln9jpUPTjr96"
      },
      "execution_count": null,
      "outputs": []
    },
    {
      "cell_type": "code",
      "source": [
        "print(\"{:.2f}\".format(gb_pipeline.score(X, y)))"
      ],
      "metadata": {
        "colab": {
          "base_uri": "https://localhost:8080/"
        },
        "id": "N97y_WH_lRLf",
        "outputId": "df7163f8-5606-495e-df59-e48cf939c9bd"
      },
      "execution_count": null,
      "outputs": [
        {
          "output_type": "stream",
          "name": "stdout",
          "text": [
            "0.99\n"
          ]
        }
      ]
    },
    {
      "cell_type": "code",
      "source": [
        "y_pred = gb_pipeline.predict(X)"
      ],
      "metadata": {
        "id": "9INv6Gszjr96"
      },
      "execution_count": null,
      "outputs": []
    },
    {
      "cell_type": "code",
      "source": [
        "metrics_score(y, y_pred)"
      ],
      "metadata": {
        "colab": {
          "base_uri": "https://localhost:8080/",
          "height": 490
        },
        "outputId": "5bab065a-0c15-4fbf-e3a9-ff2434705d84",
        "id": "rQX6dBT-jr96"
      },
      "execution_count": null,
      "outputs": [
        {
          "output_type": "stream",
          "name": "stdout",
          "text": [
            "              precision    recall  f1-score   support\n",
            "\n",
            "           0   0.983625  0.986958  0.985289     42786\n",
            "           1   0.989154  0.986374  0.987762     51593\n",
            "\n",
            "    accuracy                       0.986639     94379\n",
            "   macro avg   0.986389  0.986666  0.986525     94379\n",
            "weighted avg   0.986647  0.986639  0.986641     94379\n",
            "\n"
          ]
        },
        {
          "output_type": "display_data",
          "data": {
            "text/plain": [
              "<Figure size 576x360 with 2 Axes>"
            ],
            "image/png": "[encoded data removed]"
          },
          "metadata": {
            "needs_background": "light"
          }
        }
      ]
    },
    {
      "cell_type": "markdown",
      "source": [
        "#### Write to Guess File"
      ],
      "metadata": {
        "id": "lS0qetls4rSm"
      }
    },
    {
      "cell_type": "code",
      "source": [
        "gb_pipeline.predict(X_test)"
      ],
      "metadata": {
        "colab": {
          "base_uri": "https://localhost:8080/"
        },
        "outputId": "5de9aace-5153-4d5e-e9b5-aaecac76cb5a",
        "id": "TlFmJjar4rSt"
      },
      "execution_count": null,
      "outputs": [
        {
          "output_type": "execute_result",
          "data": {
            "text/plain": [
              "array([1, 1, 1, ..., 1, 1, 0])"
            ]
          },
          "metadata": {},
          "execution_count": 58
        }
      ]
    },
    {
      "cell_type": "code",
      "source": [
        "guess_writer(gb_pipeline.predict(X_test))"
      ],
      "metadata": {
        "colab": {
          "base_uri": "https://localhost:8080/"
        },
        "outputId": "38203dd6-86c9-4062-e281-8b6f58aefda4",
        "id": "m7tjMnkH4rSu"
      },
      "execution_count": null,
      "outputs": [
        {
          "output_type": "stream",
          "name": "stdout",
          "text": [
            "File saved to: /content/drive/MyDrive/Hackathon/Datasets/Guess Attempts/Attempt 36.csv\n"
          ]
        }
      ]
    },
    {
      "cell_type": "code",
      "source": [
        "import pickle\n",
        "pickle.dump(gboost_pipeline, open(path1+'/gboost.pkl', 'wb'))"
      ],
      "metadata": {
        "id": "UDlNTaY4d6qn"
      },
      "execution_count": null,
      "outputs": []
    },
    {
      "cell_type": "markdown",
      "source": [
        "### Adaboost"
      ],
      "metadata": {
        "id": "9x7uHx2On3Xv"
      }
    },
    {
      "cell_type": "code",
      "source": [
        "#Fitting the decision tree classifier on the training data\n",
        "d_tree= DecisionTreeClassifier(max_features = 0.8, max_depth = 22, class_weight={0:0.4533,1:0.5467})\n",
        "d_tree_gradient_boost = GradientBoostingClassifier(n_estimators=200, \n",
        "                                          learning_rate=1.0,max_depth=7)\n",
        "d_tree_adaboost =  AdaBoostClassifier(n_estimators=1000, \n",
        "                                          learning_rate=0.1, base_estimator = d_tree_gradient_boost)\n",
        "\n",
        "ada_pipeline = Pipeline(\n",
        "    [\n",
        "        (\"preprocess\", preprocessor_mix),\n",
        "        (\"classifier\", d_tree_adaboost),\n",
        "    ]\n",
        ")\n",
        "ada_pipeline"
      ],
      "metadata": {
        "colab": {
          "base_uri": "https://localhost:8080/"
        },
        "outputId": "6cb5c05e-2776-486b-bebf-fe75fa8b21be",
        "id": "vz-b6N5sn7ef"
      },
      "execution_count": null,
      "outputs": [
        {
          "output_type": "execute_result",
          "data": {
            "text/plain": [
              "Pipeline(steps=[('preprocess',\n",
              "                 ColumnTransformer(transformers=[('pipeline-1',\n",
              "                                                  Pipeline(steps=[('num_impute',\n",
              "                                                                   SimpleImputer(strategy='median'))]),\n",
              "                                                  <sklearn.compose._column_transformer.make_column_selector object at 0x7f88eeb3b550>),\n",
              "                                                 ('pipeline-2',\n",
              "                                                  Pipeline(steps=[('cat_impute',\n",
              "                                                                   SimpleImputer(strategy='most_frequent')),\n",
              "                                                                  ('cat_enc',\n",
              "                                                                   OneHotEncoder())]),\n",
              "                                                  ['Gender', '...\n",
              "                                                   'Onboard_Entertainment',\n",
              "                                                   'Online_Support',\n",
              "                                                   'Ease_of_Online_Booking',\n",
              "                                                   'Onboard_Service', 'Legroom',\n",
              "                                                   'Baggage_Handling',\n",
              "                                                   'CheckIn_Service',\n",
              "                                                   'Cleanliness',\n",
              "                                                   'Online_Boarding'])])),\n",
              "                ('classifier',\n",
              "                 AdaBoostClassifier(base_estimator=DecisionTreeClassifier(class_weight={0: 0.4533,\n",
              "                                                                                        1: 0.5467},\n",
              "                                                                          max_depth=22,\n",
              "                                                                          max_features=0.8,\n",
              "                                                                          random_state=0),\n",
              "                                    learning_rate=0.1, n_estimators=1000,\n",
              "                                    random_state=0))])"
            ]
          },
          "metadata": {},
          "execution_count": 86
        }
      ]
    },
    {
      "cell_type": "code",
      "source": [
        "ada_pipeline = ada_pipeline.fit(X,y)"
      ],
      "metadata": {
        "id": "yHi800KXocHp"
      },
      "execution_count": null,
      "outputs": []
    },
    {
      "cell_type": "code",
      "source": [
        "ada_pipeline.named_steps[\"classifier\"]"
      ],
      "metadata": {
        "colab": {
          "base_uri": "https://localhost:8080/"
        },
        "id": "T-Ik1gdlcdzN",
        "outputId": "63e9941a-6bca-4ce8-9870-9295760a26c9"
      },
      "execution_count": null,
      "outputs": [
        {
          "output_type": "execute_result",
          "data": {
            "text/plain": [
              "AdaBoostClassifier(base_estimator=DecisionTreeClassifier(class_weight={0: 0.4533,\n",
              "                                                                       1: 0.5467},\n",
              "                                                         max_depth=22,\n",
              "                                                         max_features=0.8,\n",
              "                                                         random_state=0),\n",
              "                   learning_rate=0.1, n_estimators=1000, random_state=0)"
            ]
          },
          "metadata": {},
          "execution_count": 88
        }
      ]
    },
    {
      "cell_type": "code",
      "source": [
        "print(\"{:.4f}\".format(ada_pipeline.score(X, y)))"
      ],
      "metadata": {
        "colab": {
          "base_uri": "https://localhost:8080/"
        },
        "id": "KkAKHGtwrSQk",
        "outputId": "673743e0-8f6e-4751-a016-d0907ad1b6c8"
      },
      "execution_count": null,
      "outputs": [
        {
          "output_type": "stream",
          "name": "stdout",
          "text": [
            "1.0000\n"
          ]
        }
      ]
    },
    {
      "cell_type": "code",
      "source": [
        "y_pred = ada_pipeline.predict(X)"
      ],
      "metadata": {
        "id": "8G1ZtfYNocHq"
      },
      "execution_count": null,
      "outputs": []
    },
    {
      "cell_type": "code",
      "source": [
        "metrics_score(y, y_pred)"
      ],
      "metadata": {
        "colab": {
          "base_uri": "https://localhost:8080/",
          "height": 490
        },
        "outputId": "bff6ee06-71b1-4570-f3d2-06d8a38929bc",
        "id": "WCHZTznPocHq"
      },
      "execution_count": null,
      "outputs": [
        {
          "output_type": "stream",
          "name": "stdout",
          "text": [
            "              precision    recall  f1-score   support\n",
            "\n",
            "           0   1.000000  1.000000  1.000000     42786\n",
            "           1   1.000000  1.000000  1.000000     51593\n",
            "\n",
            "    accuracy                       1.000000     94379\n",
            "   macro avg   1.000000  1.000000  1.000000     94379\n",
            "weighted avg   1.000000  1.000000  1.000000     94379\n",
            "\n"
          ]
        },
        {
          "output_type": "display_data",
          "data": {
            "text/plain": [
              "<Figure size 576x360 with 2 Axes>"
            ],
            "image/png": "[encoded data removed]"
          },
          "metadata": {
            "needs_background": "light"
          }
        }
      ]
    },
    {
      "cell_type": "markdown",
      "source": [
        "#### Write to Guess File"
      ],
      "metadata": {
        "id": "6gDLdn6e-ZHl"
      }
    },
    {
      "cell_type": "code",
      "source": [
        "ada_pipeline.predict(X_test)"
      ],
      "metadata": {
        "colab": {
          "base_uri": "https://localhost:8080/"
        },
        "outputId": "adc48a61-b15a-47d3-d013-8a342f19b049",
        "id": "RnJXJg7p-ZHl"
      },
      "execution_count": null,
      "outputs": [
        {
          "output_type": "execute_result",
          "data": {
            "text/plain": [
              "array([1, 1, 1, ..., 0, 1, 0])"
            ]
          },
          "metadata": {},
          "execution_count": 92
        }
      ]
    },
    {
      "cell_type": "code",
      "source": [
        "guess_writer(ada_pipeline.predict(X_test))"
      ],
      "metadata": {
        "colab": {
          "base_uri": "https://localhost:8080/"
        },
        "outputId": "c8f34def-bfc4-4a49-dd01-aad9472a58fe",
        "id": "BPdIY9df-ZHl"
      },
      "execution_count": null,
      "outputs": [
        {
          "output_type": "stream",
          "name": "stdout",
          "text": [
            "File saved to: /content/drive/MyDrive/Hackathon/Datasets/Guess Attempts/Attempt 44.csv\n"
          ]
        }
      ]
    },
    {
      "cell_type": "code",
      "source": [
        "path1 = r\"/content/drive/MyDrive/Hackathon/Models/Voting Classifier\""
      ],
      "metadata": {
        "id": "1j-WQLyWsLpw"
      },
      "execution_count": null,
      "outputs": []
    },
    {
      "cell_type": "code",
      "source": [
        "import pickle\n",
        "pickle.dump(ada_pipeline, open(path1+'/adaboost.pkl', 'wb'))"
      ],
      "metadata": {
        "id": "EeQc6ZB0dywK"
      },
      "execution_count": null,
      "outputs": []
    },
    {
      "cell_type": "code",
      "source": [
        "import joblib\n",
        "joblib.dump(ada_pipeline, path1+'/Adaboost.pkl')"
      ],
      "metadata": {
        "colab": {
          "base_uri": "https://localhost:8080/"
        },
        "outputId": "e8646c82-ea44-434b-a87b-c9f8fd53b16f",
        "id": "z0p0k6hPsLpw"
      },
      "execution_count": null,
      "outputs": [
        {
          "output_type": "execute_result",
          "data": {
            "text/plain": [
              "['/content/drive/MyDrive/Hackathon/Models/Voting Classifier/Adaboost.pkl']"
            ]
          },
          "metadata": {},
          "execution_count": 122
        }
      ]
    },
    {
      "cell_type": "markdown",
      "source": [
        "### XGBoost\n"
      ],
      "metadata": {
        "id": "ob8tz_4rr8GO"
      }
    },
    {
      "cell_type": "code",
      "source": [
        "#Fitting the decision tree classifier on the training data\n",
        "xgbc = XGBClassifier(learning_rate =0.05,\n",
        "                    n_estimators=900,\n",
        "                    max_depth=20,\n",
        "                    min_child_weight=1,\n",
        "                    gamma=0.95,\n",
        "                    subsample=1,\n",
        "                    colsample_bytree=0.9, colsample_bylevel=0.9, colsample_bynode=0.9,\n",
        "                    objective= 'binary:logistic',\n",
        "                    scale_pos_weight=0.829, class_weight={0:0.4533,1:0.5467})\n",
        "\n",
        "xgbc_pipeline = make_pipeline(preprocessor_mix, xgbc)\n",
        "xgbc_pipeline"
      ],
      "metadata": {
        "colab": {
          "base_uri": "https://localhost:8080/"
        },
        "outputId": "0501d012-f424-4c53-e41d-007fc528298a",
        "id": "Uxzwsbv9sAS-"
      },
      "execution_count": null,
      "outputs": [
        {
          "output_type": "execute_result",
          "data": {
            "text/plain": [
              "Pipeline(steps=[('columntransformer',\n",
              "                 ColumnTransformer(transformers=[('pipeline-1',\n",
              "                                                  Pipeline(steps=[('num_impute',\n",
              "                                                                   SimpleImputer(strategy='median'))]),\n",
              "                                                  <sklearn.compose._column_transformer.make_column_selector object at 0x7f88eeb3b550>),\n",
              "                                                 ('pipeline-2',\n",
              "                                                  Pipeline(steps=[('cat_impute',\n",
              "                                                                   SimpleImputer(strategy='most_frequent')),\n",
              "                                                                  ('cat_enc',\n",
              "                                                                   OneHotEncoder())]),\n",
              "                                                  ['Ge...\n",
              "                                                   'Online_Support',\n",
              "                                                   'Ease_of_Online_Booking',\n",
              "                                                   'Onboard_Service', 'Legroom',\n",
              "                                                   'Baggage_Handling',\n",
              "                                                   'CheckIn_Service',\n",
              "                                                   'Cleanliness',\n",
              "                                                   'Online_Boarding'])])),\n",
              "                ('xgbclassifier',\n",
              "                 XGBClassifier(class_weight={0: 0.4533, 1: 0.5467},\n",
              "                               colsample_bylevel=0.9, colsample_bynode=0.9,\n",
              "                               colsample_bytree=0.9, gamma=0.95,\n",
              "                               learning_rate=0.05, max_depth=20,\n",
              "                               n_estimators=900, scale_pos_weight=0.829))])"
            ]
          },
          "metadata": {},
          "execution_count": 182
        }
      ]
    },
    {
      "cell_type": "code",
      "source": [
        "xgbc_pipeline"
      ],
      "metadata": {
        "colab": {
          "base_uri": "https://localhost:8080/"
        },
        "id": "REhwIr6ufAGD",
        "outputId": "a818bc0a-54d0-4bed-a2a9-6c2808428a82"
      },
      "execution_count": null,
      "outputs": [
        {
          "output_type": "execute_result",
          "data": {
            "text/plain": [
              "Pipeline(steps=[('columntransformer',\n",
              "                 ColumnTransformer(transformers=[('pipeline-1',\n",
              "                                                  Pipeline(steps=[('num_impute',\n",
              "                                                                   SimpleImputer(strategy='median'))]),\n",
              "                                                  <sklearn.compose._column_transformer.make_column_selector object at 0x7f88eeb3b550>),\n",
              "                                                 ('pipeline-2',\n",
              "                                                  Pipeline(steps=[('cat_impute',\n",
              "                                                                   SimpleImputer(strategy='most_frequent')),\n",
              "                                                                  ('cat_enc',\n",
              "                                                                   OneHotEncoder())]),\n",
              "                                                  ['Ge...\n",
              "                                                   'Online_Support',\n",
              "                                                   'Ease_of_Online_Booking',\n",
              "                                                   'Onboard_Service', 'Legroom',\n",
              "                                                   'Baggage_Handling',\n",
              "                                                   'CheckIn_Service',\n",
              "                                                   'Cleanliness',\n",
              "                                                   'Online_Boarding'])])),\n",
              "                ('xgbclassifier',\n",
              "                 XGBClassifier(class_weight={0: 0.4533, 1: 0.5467},\n",
              "                               colsample_bylevel=0.9, colsample_bynode=0.9,\n",
              "                               colsample_bytree=0.9, gamma=0.95,\n",
              "                               learning_rate=0.05, max_depth=20,\n",
              "                               n_estimators=900, scale_pos_weight=0.829))])"
            ]
          },
          "metadata": {},
          "execution_count": 183
        }
      ]
    },
    {
      "cell_type": "code",
      "source": [
        "xgbc_pipeline = xgbc_pipeline.fit(X,y)"
      ],
      "metadata": {
        "id": "bWqp-kESsAS-"
      },
      "execution_count": null,
      "outputs": []
    },
    {
      "cell_type": "code",
      "source": [
        "print(\"{:.4f}\".format(xgbc_pipeline.score(X, y)))"
      ],
      "metadata": {
        "colab": {
          "base_uri": "https://localhost:8080/"
        },
        "outputId": "50043323-1366-443b-8da5-40961a1b0148",
        "id": "cANohwYesAS-"
      },
      "execution_count": null,
      "outputs": [
        {
          "output_type": "stream",
          "name": "stdout",
          "text": [
            "0.9996\n"
          ]
        }
      ]
    },
    {
      "cell_type": "code",
      "source": [
        "y_pred = xgbc_pipeline.predict(X)"
      ],
      "metadata": {
        "id": "qELXh_KTsAS_"
      },
      "execution_count": null,
      "outputs": []
    },
    {
      "cell_type": "code",
      "source": [
        "metrics_score(y, y_pred)"
      ],
      "metadata": {
        "colab": {
          "base_uri": "https://localhost:8080/"
        },
        "outputId": "d2f07d77-7776-48c1-bbdb-5ed229303d5d",
        "id": "4ac-jxyxsAS_"
      },
      "execution_count": null,
      "outputs": [
        {
          "output_type": "stream",
          "name": "stdout",
          "text": [
            "              precision    recall  f1-score   support\n",
            "\n",
            "           0   0.999299  0.999907  0.999603     42786\n",
            "           1   0.999922  0.999419  0.999670     51593\n",
            "\n",
            "    accuracy                       0.999640     94379\n",
            "   macro avg   0.999611  0.999663  0.999637     94379\n",
            "weighted avg   0.999640  0.999640  0.999640     94379\n",
            "\n"
          ]
        },
        {
          "output_type": "display_data",
          "data": {
            "text/plain": [
              "<Figure size 576x360 with 2 Axes>"
            ],
            "image/png": "[encoded data removed]"
          },
          "metadata": {
            "needs_background": "light"
          }
        }
      ]
    },
    {
      "cell_type": "markdown",
      "source": [
        "## Write to Guess File"
      ],
      "metadata": {
        "id": "PO-20OA52xnH"
      }
    },
    {
      "cell_type": "code",
      "source": [
        "xgbc_pipeline.predict(X_test)"
      ],
      "metadata": {
        "colab": {
          "base_uri": "https://localhost:8080/"
        },
        "id": "LOyk6C1lKte4",
        "outputId": "c355d07a-87e7-4f09-f060-ba19159a008e"
      },
      "execution_count": null,
      "outputs": [
        {
          "output_type": "execute_result",
          "data": {
            "text/plain": [
              "array([1, 1, 1, ..., 1, 1, 0])"
            ]
          },
          "metadata": {},
          "execution_count": 188
        }
      ]
    },
    {
      "cell_type": "code",
      "source": [
        "guess_writer(xgbc_pipeline.predict(X_test))"
      ],
      "metadata": {
        "colab": {
          "base_uri": "https://localhost:8080/"
        },
        "id": "ij2sn5IaFpuf",
        "outputId": "c1bb9adc-360f-45e4-cec8-f1c4cfd0990b"
      },
      "execution_count": null,
      "outputs": [
        {
          "output_type": "stream",
          "name": "stdout",
          "text": [
            "File saved to: /content/drive/MyDrive/Hackathon/Datasets/Guess Attempts/Attempt 60.csv\n"
          ]
        }
      ]
    },
    {
      "cell_type": "code",
      "source": [
        "import pickle\n",
        "pickle.dump(xgbc_pipeline, open(path1+'/xgboost5.pkl', 'wb'))"
      ],
      "metadata": {
        "id": "Tx0dQiVLdJx4"
      },
      "execution_count": null,
      "outputs": []
    },
    {
      "cell_type": "markdown",
      "source": [
        "##Grid Search CV"
      ],
      "metadata": {
        "id": "6GKivhj6YCx2"
      }
    },
    {
      "cell_type": "markdown",
      "source": [
        "## Decision tree model with Gradient Boost"
      ],
      "metadata": {
        "id": "kdmmcxy3Dr6m"
      }
    },
    {
      "cell_type": "code",
      "source": [
        "#Fitting the decision tree classifier on the training data\n",
        "parameters = {\n",
        "    \"loss\":[\"deviance\"],\n",
        "    \"learning_rate\": [0.01, 0.05, 0.1, 0.15, 0.2],\n",
        "    \"min_samples_split\": np.linspace(0.1, 0.5, 12),\n",
        "    \"min_samples_leaf\": np.linspace(0.1, 0.5, 12),\n",
        "    \"max_depth\":[3,5,8],\n",
        "    \"max_features\":[\"log2\",\"sqrt\"],\n",
        "    \"criterion\": [\"friedman_mse\",  \"mae\"],\n",
        "    \"subsample\":[0.5, 0.618, 0.8, 0.85, 0.9, 0.95, 1.0],\n",
        "    \"n_estimators\":[100,500,1000]\n",
        "    }\n",
        "\n",
        "xgbc = XGBClassifier(\n",
        "                    min_child_weight=1,\n",
        "                    gamma=0,\n",
        "                    subsample=0.8,\n",
        "                    colsample_bytree=0.8,\n",
        "                    objective= 'binary:logistic',\n",
        "                    nthread=4,\n",
        "                    scale_pos_weight=1,\n",
        "                    seed=0)\n",
        "\n",
        "\n",
        "# Type of scoring used to compare parameter combinations - recall score for class 0\n",
        "scorer = metrics.make_scorer(accuracy_score)"
      ],
      "metadata": {
        "id": "bWOP_5kB8Qp0",
        "colab": {
          "base_uri": "https://localhost:8080/",
          "height": 236
        },
        "outputId": "d5081059-dc6a-4224-ea8c-a3831df948e1"
      },
      "execution_count": null,
      "outputs": [
        {
          "output_type": "error",
          "ename": "NameError",
          "evalue": "ignored",
          "traceback": [
            "\u001b[0;31m---------------------------------------------------------------------------\u001b[0m",
            "\u001b[0;31mNameError\u001b[0m                                 Traceback (most recent call last)",
            "\u001b[0;32m<ipython-input-100-5192b6a7ff52>\u001b[0m in \u001b[0;36m<module>\u001b[0;34m()\u001b[0m\n\u001b[1;32m      9\u001b[0m     \u001b[0;34m\"criterion\"\u001b[0m\u001b[0;34m:\u001b[0m \u001b[0;34m[\u001b[0m\u001b[0;34m\"friedman_mse\"\u001b[0m\u001b[0;34m,\u001b[0m  \u001b[0;34m\"mae\"\u001b[0m\u001b[0;34m]\u001b[0m\u001b[0;34m,\u001b[0m\u001b[0;34m\u001b[0m\u001b[0;34m\u001b[0m\u001b[0m\n\u001b[1;32m     10\u001b[0m     \u001b[0;34m\"subsample\"\u001b[0m\u001b[0;34m:\u001b[0m\u001b[0;34m[\u001b[0m\u001b[0;36m0.5\u001b[0m\u001b[0;34m,\u001b[0m \u001b[0;36m0.618\u001b[0m\u001b[0;34m,\u001b[0m \u001b[0;36m0.8\u001b[0m\u001b[0;34m,\u001b[0m \u001b[0;36m0.85\u001b[0m\u001b[0;34m,\u001b[0m \u001b[0;36m0.9\u001b[0m\u001b[0;34m,\u001b[0m \u001b[0;36m0.95\u001b[0m\u001b[0;34m,\u001b[0m \u001b[0;36m1.0\u001b[0m\u001b[0;34m]\u001b[0m\u001b[0;34m,\u001b[0m\u001b[0;34m\u001b[0m\u001b[0;34m\u001b[0m\u001b[0m\n\u001b[0;32m---> 11\u001b[0;31m     \u001b[0;34m\"n_estimators\"\u001b[0m\u001b[0;34m:\u001b[0m\u001b[0;34m[\u001b[0m\u001b[0;36m100\u001b[0m\u001b[0;34m,\u001b[0m\u001b[0;36m500\u001b[0m\u001b[0;34m,\u001b[0m\u001b[0;36m1000\u001b[0m\u001b[0;34m]\u001b[0m\u001b[0;34m,\u001b[0m \u001b[0mclass_weight\u001b[0m\u001b[0;34m:\u001b[0m\u001b[0;34m[\u001b[0m\u001b[0;34m{\u001b[0m\u001b[0;36m0\u001b[0m\u001b[0;34m:\u001b[0m\u001b[0;36m0.4533\u001b[0m\u001b[0;34m,\u001b[0m\u001b[0;36m1\u001b[0m\u001b[0;34m:\u001b[0m\u001b[0;36m0.5467\u001b[0m\u001b[0;34m}\u001b[0m\u001b[0;34m]\u001b[0m\u001b[0;34m\u001b[0m\u001b[0;34m\u001b[0m\u001b[0m\n\u001b[0m\u001b[1;32m     12\u001b[0m     }\n\u001b[1;32m     13\u001b[0m \u001b[0;34m\u001b[0m\u001b[0m\n",
            "\u001b[0;31mNameError\u001b[0m: name 'class_weight' is not defined"
          ]
        }
      ]
    },
    {
      "cell_type": "code",
      "source": [
        "search = GridSearchCV(xgbc, param_grid=parameters, n_jobs=-1, scoring=scorer)"
      ],
      "metadata": {
        "id": "_yJZ186oJATC"
      },
      "execution_count": null,
      "outputs": []
    },
    {
      "cell_type": "code",
      "source": [
        "xgbc_tuned = search.fit(preprocessor.fit_transform(X),y)"
      ],
      "metadata": {
        "colab": {
          "base_uri": "https://localhost:8080/",
          "height": 312
        },
        "id": "B4LPKOXxJTAD",
        "outputId": "95e4d897-2698-4981-afe8-ede89aefd278"
      },
      "execution_count": null,
      "outputs": [
        {
          "output_type": "error",
          "ename": "KeyboardInterrupt",
          "evalue": "ignored",
          "traceback": [
            "\u001b[0;31m---------------------------------------------------------------------------\u001b[0m",
            "\u001b[0;31mKeyboardInterrupt\u001b[0m                         Traceback (most recent call last)",
            "\u001b[0;32m<ipython-input-64-a553f6f66b51>\u001b[0m in \u001b[0;36m<module>\u001b[0;34m()\u001b[0m\n\u001b[0;32m----> 1\u001b[0;31m \u001b[0mxgbc_tuned\u001b[0m \u001b[0;34m=\u001b[0m \u001b[0msearch\u001b[0m\u001b[0;34m.\u001b[0m\u001b[0mfit\u001b[0m\u001b[0;34m(\u001b[0m\u001b[0mpreprocessor\u001b[0m\u001b[0;34m.\u001b[0m\u001b[0mfit_transform\u001b[0m\u001b[0;34m(\u001b[0m\u001b[0mX\u001b[0m\u001b[0;34m)\u001b[0m\u001b[0;34m,\u001b[0m\u001b[0my\u001b[0m\u001b[0;34m)\u001b[0m\u001b[0;34m\u001b[0m\u001b[0;34m\u001b[0m\u001b[0m\n\u001b[0m",
            "\u001b[0;32m/usr/local/lib/python3.7/dist-packages/sklearn/compose/_column_transformer.py\u001b[0m in \u001b[0;36mfit_transform\u001b[0;34m(self, X, y)\u001b[0m\n\u001b[1;32m    673\u001b[0m         \u001b[0mself\u001b[0m\u001b[0;34m.\u001b[0m\u001b[0m_validate_remainder\u001b[0m\u001b[0;34m(\u001b[0m\u001b[0mX\u001b[0m\u001b[0;34m)\u001b[0m\u001b[0;34m\u001b[0m\u001b[0;34m\u001b[0m\u001b[0m\n\u001b[1;32m    674\u001b[0m \u001b[0;34m\u001b[0m\u001b[0m\n\u001b[0;32m--> 675\u001b[0;31m         \u001b[0mresult\u001b[0m \u001b[0;34m=\u001b[0m \u001b[0mself\u001b[0m\u001b[0;34m.\u001b[0m\u001b[0m_fit_transform\u001b[0m\u001b[0;34m(\u001b[0m\u001b[0mX\u001b[0m\u001b[0;34m,\u001b[0m \u001b[0my\u001b[0m\u001b[0;34m,\u001b[0m \u001b[0m_fit_transform_one\u001b[0m\u001b[0;34m)\u001b[0m\u001b[0;34m\u001b[0m\u001b[0;34m\u001b[0m\u001b[0m\n\u001b[0m\u001b[1;32m    676\u001b[0m \u001b[0;34m\u001b[0m\u001b[0m\n\u001b[1;32m    677\u001b[0m         \u001b[0;32mif\u001b[0m \u001b[0;32mnot\u001b[0m \u001b[0mresult\u001b[0m\u001b[0;34m:\u001b[0m\u001b[0;34m\u001b[0m\u001b[0;34m\u001b[0m\u001b[0m\n",
            "\u001b[0;32m/usr/local/lib/python3.7/dist-packages/sklearn/compose/_column_transformer.py\u001b[0m in \u001b[0;36m_fit_transform\u001b[0;34m(self, X, y, func, fitted, column_as_strings)\u001b[0m\n\u001b[1;32m    613\u001b[0m                     \u001b[0mmessage\u001b[0m\u001b[0;34m=\u001b[0m\u001b[0mself\u001b[0m\u001b[0;34m.\u001b[0m\u001b[0m_log_message\u001b[0m\u001b[0;34m(\u001b[0m\u001b[0mname\u001b[0m\u001b[0;34m,\u001b[0m \u001b[0midx\u001b[0m\u001b[0;34m,\u001b[0m \u001b[0mlen\u001b[0m\u001b[0;34m(\u001b[0m\u001b[0mtransformers\u001b[0m\u001b[0;34m)\u001b[0m\u001b[0;34m)\u001b[0m\u001b[0;34m,\u001b[0m\u001b[0;34m\u001b[0m\u001b[0;34m\u001b[0m\u001b[0m\n\u001b[1;32m    614\u001b[0m                 )\n\u001b[0;32m--> 615\u001b[0;31m                 \u001b[0;32mfor\u001b[0m \u001b[0midx\u001b[0m\u001b[0;34m,\u001b[0m \u001b[0;34m(\u001b[0m\u001b[0mname\u001b[0m\u001b[0;34m,\u001b[0m \u001b[0mtrans\u001b[0m\u001b[0;34m,\u001b[0m \u001b[0mcolumn\u001b[0m\u001b[0;34m,\u001b[0m \u001b[0mweight\u001b[0m\u001b[0;34m)\u001b[0m \u001b[0;32min\u001b[0m \u001b[0menumerate\u001b[0m\u001b[0;34m(\u001b[0m\u001b[0mtransformers\u001b[0m\u001b[0;34m,\u001b[0m \u001b[0;36m1\u001b[0m\u001b[0;34m)\u001b[0m\u001b[0;34m\u001b[0m\u001b[0;34m\u001b[0m\u001b[0m\n\u001b[0m\u001b[1;32m    616\u001b[0m             )\n\u001b[1;32m    617\u001b[0m         \u001b[0;32mexcept\u001b[0m \u001b[0mValueError\u001b[0m \u001b[0;32mas\u001b[0m \u001b[0me\u001b[0m\u001b[0;34m:\u001b[0m\u001b[0;34m\u001b[0m\u001b[0;34m\u001b[0m\u001b[0m\n",
            "\u001b[0;32m/usr/local/lib/python3.7/dist-packages/joblib/parallel.py\u001b[0m in \u001b[0;36m__call__\u001b[0;34m(self, iterable)\u001b[0m\n\u001b[1;32m   1044\u001b[0m                 \u001b[0mself\u001b[0m\u001b[0;34m.\u001b[0m\u001b[0m_iterating\u001b[0m \u001b[0;34m=\u001b[0m \u001b[0mself\u001b[0m\u001b[0;34m.\u001b[0m\u001b[0m_original_iterator\u001b[0m \u001b[0;32mis\u001b[0m \u001b[0;32mnot\u001b[0m \u001b[0;32mNone\u001b[0m\u001b[0;34m\u001b[0m\u001b[0;34m\u001b[0m\u001b[0m\n\u001b[1;32m   1045\u001b[0m \u001b[0;34m\u001b[0m\u001b[0m\n\u001b[0;32m-> 1046\u001b[0;31m             \u001b[0;32mwhile\u001b[0m \u001b[0mself\u001b[0m\u001b[0;34m.\u001b[0m\u001b[0mdispatch_one_batch\u001b[0m\u001b[0;34m(\u001b[0m\u001b[0miterator\u001b[0m\u001b[0;34m)\u001b[0m\u001b[0;34m:\u001b[0m\u001b[0;34m\u001b[0m\u001b[0;34m\u001b[0m\u001b[0m\n\u001b[0m\u001b[1;32m   1047\u001b[0m                 \u001b[0;32mpass\u001b[0m\u001b[0;34m\u001b[0m\u001b[0;34m\u001b[0m\u001b[0m\n\u001b[1;32m   1048\u001b[0m \u001b[0;34m\u001b[0m\u001b[0m\n",
            "\u001b[0;32m/usr/local/lib/python3.7/dist-packages/joblib/parallel.py\u001b[0m in \u001b[0;36mdispatch_one_batch\u001b[0;34m(self, iterator)\u001b[0m\n\u001b[1;32m    859\u001b[0m                 \u001b[0;32mreturn\u001b[0m \u001b[0;32mFalse\u001b[0m\u001b[0;34m\u001b[0m\u001b[0;34m\u001b[0m\u001b[0m\n\u001b[1;32m    860\u001b[0m             \u001b[0;32melse\u001b[0m\u001b[0;34m:\u001b[0m\u001b[0;34m\u001b[0m\u001b[0;34m\u001b[0m\u001b[0m\n\u001b[0;32m--> 861\u001b[0;31m                 \u001b[0mself\u001b[0m\u001b[0;34m.\u001b[0m\u001b[0m_dispatch\u001b[0m\u001b[0;34m(\u001b[0m\u001b[0mtasks\u001b[0m\u001b[0;34m)\u001b[0m\u001b[0;34m\u001b[0m\u001b[0;34m\u001b[0m\u001b[0m\n\u001b[0m\u001b[1;32m    862\u001b[0m                 \u001b[0;32mreturn\u001b[0m \u001b[0;32mTrue\u001b[0m\u001b[0;34m\u001b[0m\u001b[0;34m\u001b[0m\u001b[0m\n\u001b[1;32m    863\u001b[0m \u001b[0;34m\u001b[0m\u001b[0m\n",
            "\u001b[0;32m/usr/local/lib/python3.7/dist-packages/joblib/parallel.py\u001b[0m in \u001b[0;36m_dispatch\u001b[0;34m(self, batch)\u001b[0m\n\u001b[1;32m    777\u001b[0m         \u001b[0;32mwith\u001b[0m \u001b[0mself\u001b[0m\u001b[0;34m.\u001b[0m\u001b[0m_lock\u001b[0m\u001b[0;34m:\u001b[0m\u001b[0;34m\u001b[0m\u001b[0;34m\u001b[0m\u001b[0m\n\u001b[1;32m    778\u001b[0m             \u001b[0mjob_idx\u001b[0m \u001b[0;34m=\u001b[0m \u001b[0mlen\u001b[0m\u001b[0;34m(\u001b[0m\u001b[0mself\u001b[0m\u001b[0;34m.\u001b[0m\u001b[0m_jobs\u001b[0m\u001b[0;34m)\u001b[0m\u001b[0;34m\u001b[0m\u001b[0;34m\u001b[0m\u001b[0m\n\u001b[0;32m--> 779\u001b[0;31m             \u001b[0mjob\u001b[0m \u001b[0;34m=\u001b[0m \u001b[0mself\u001b[0m\u001b[0;34m.\u001b[0m\u001b[0m_backend\u001b[0m\u001b[0;34m.\u001b[0m\u001b[0mapply_async\u001b[0m\u001b[0;34m(\u001b[0m\u001b[0mbatch\u001b[0m\u001b[0;34m,\u001b[0m \u001b[0mcallback\u001b[0m\u001b[0;34m=\u001b[0m\u001b[0mcb\u001b[0m\u001b[0;34m)\u001b[0m\u001b[0;34m\u001b[0m\u001b[0;34m\u001b[0m\u001b[0m\n\u001b[0m\u001b[1;32m    780\u001b[0m             \u001b[0;31m# A job can complete so quickly than its callback is\u001b[0m\u001b[0;34m\u001b[0m\u001b[0;34m\u001b[0m\u001b[0;34m\u001b[0m\u001b[0m\n\u001b[1;32m    781\u001b[0m             \u001b[0;31m# called before we get here, causing self._jobs to\u001b[0m\u001b[0;34m\u001b[0m\u001b[0;34m\u001b[0m\u001b[0;34m\u001b[0m\u001b[0m\n",
            "\u001b[0;32m/usr/local/lib/python3.7/dist-packages/joblib/_parallel_backends.py\u001b[0m in \u001b[0;36mapply_async\u001b[0;34m(self, func, callback)\u001b[0m\n\u001b[1;32m    206\u001b[0m     \u001b[0;32mdef\u001b[0m \u001b[0mapply_async\u001b[0m\u001b[0;34m(\u001b[0m\u001b[0mself\u001b[0m\u001b[0;34m,\u001b[0m \u001b[0mfunc\u001b[0m\u001b[0;34m,\u001b[0m \u001b[0mcallback\u001b[0m\u001b[0;34m=\u001b[0m\u001b[0;32mNone\u001b[0m\u001b[0;34m)\u001b[0m\u001b[0;34m:\u001b[0m\u001b[0;34m\u001b[0m\u001b[0;34m\u001b[0m\u001b[0m\n\u001b[1;32m    207\u001b[0m         \u001b[0;34m\"\"\"Schedule a func to be run\"\"\"\u001b[0m\u001b[0;34m\u001b[0m\u001b[0;34m\u001b[0m\u001b[0m\n\u001b[0;32m--> 208\u001b[0;31m         \u001b[0mresult\u001b[0m \u001b[0;34m=\u001b[0m \u001b[0mImmediateResult\u001b[0m\u001b[0;34m(\u001b[0m\u001b[0mfunc\u001b[0m\u001b[0;34m)\u001b[0m\u001b[0;34m\u001b[0m\u001b[0;34m\u001b[0m\u001b[0m\n\u001b[0m\u001b[1;32m    209\u001b[0m         \u001b[0;32mif\u001b[0m \u001b[0mcallback\u001b[0m\u001b[0;34m:\u001b[0m\u001b[0;34m\u001b[0m\u001b[0;34m\u001b[0m\u001b[0m\n\u001b[1;32m    210\u001b[0m             \u001b[0mcallback\u001b[0m\u001b[0;34m(\u001b[0m\u001b[0mresult\u001b[0m\u001b[0;34m)\u001b[0m\u001b[0;34m\u001b[0m\u001b[0;34m\u001b[0m\u001b[0m\n",
            "\u001b[0;32m/usr/local/lib/python3.7/dist-packages/joblib/_parallel_backends.py\u001b[0m in \u001b[0;36m__init__\u001b[0;34m(self, batch)\u001b[0m\n\u001b[1;32m    570\u001b[0m         \u001b[0;31m# Don't delay the application, to avoid keeping the input\u001b[0m\u001b[0;34m\u001b[0m\u001b[0;34m\u001b[0m\u001b[0;34m\u001b[0m\u001b[0m\n\u001b[1;32m    571\u001b[0m         \u001b[0;31m# arguments in memory\u001b[0m\u001b[0;34m\u001b[0m\u001b[0;34m\u001b[0m\u001b[0;34m\u001b[0m\u001b[0m\n\u001b[0;32m--> 572\u001b[0;31m         \u001b[0mself\u001b[0m\u001b[0;34m.\u001b[0m\u001b[0mresults\u001b[0m \u001b[0;34m=\u001b[0m \u001b[0mbatch\u001b[0m\u001b[0;34m(\u001b[0m\u001b[0;34m)\u001b[0m\u001b[0;34m\u001b[0m\u001b[0;34m\u001b[0m\u001b[0m\n\u001b[0m\u001b[1;32m    573\u001b[0m \u001b[0;34m\u001b[0m\u001b[0m\n\u001b[1;32m    574\u001b[0m     \u001b[0;32mdef\u001b[0m \u001b[0mget\u001b[0m\u001b[0;34m(\u001b[0m\u001b[0mself\u001b[0m\u001b[0;34m)\u001b[0m\u001b[0;34m:\u001b[0m\u001b[0;34m\u001b[0m\u001b[0;34m\u001b[0m\u001b[0m\n",
            "\u001b[0;32m/usr/local/lib/python3.7/dist-packages/joblib/parallel.py\u001b[0m in \u001b[0;36m__call__\u001b[0;34m(self)\u001b[0m\n\u001b[1;32m    261\u001b[0m         \u001b[0;32mwith\u001b[0m \u001b[0mparallel_backend\u001b[0m\u001b[0;34m(\u001b[0m\u001b[0mself\u001b[0m\u001b[0;34m.\u001b[0m\u001b[0m_backend\u001b[0m\u001b[0;34m,\u001b[0m \u001b[0mn_jobs\u001b[0m\u001b[0;34m=\u001b[0m\u001b[0mself\u001b[0m\u001b[0;34m.\u001b[0m\u001b[0m_n_jobs\u001b[0m\u001b[0;34m)\u001b[0m\u001b[0;34m:\u001b[0m\u001b[0;34m\u001b[0m\u001b[0;34m\u001b[0m\u001b[0m\n\u001b[1;32m    262\u001b[0m             return [func(*args, **kwargs)\n\u001b[0;32m--> 263\u001b[0;31m                     for func, args, kwargs in self.items]\n\u001b[0m\u001b[1;32m    264\u001b[0m \u001b[0;34m\u001b[0m\u001b[0m\n\u001b[1;32m    265\u001b[0m     \u001b[0;32mdef\u001b[0m \u001b[0m__reduce__\u001b[0m\u001b[0;34m(\u001b[0m\u001b[0mself\u001b[0m\u001b[0;34m)\u001b[0m\u001b[0;34m:\u001b[0m\u001b[0;34m\u001b[0m\u001b[0;34m\u001b[0m\u001b[0m\n",
            "\u001b[0;32m/usr/local/lib/python3.7/dist-packages/joblib/parallel.py\u001b[0m in \u001b[0;36m<listcomp>\u001b[0;34m(.0)\u001b[0m\n\u001b[1;32m    261\u001b[0m         \u001b[0;32mwith\u001b[0m \u001b[0mparallel_backend\u001b[0m\u001b[0;34m(\u001b[0m\u001b[0mself\u001b[0m\u001b[0;34m.\u001b[0m\u001b[0m_backend\u001b[0m\u001b[0;34m,\u001b[0m \u001b[0mn_jobs\u001b[0m\u001b[0;34m=\u001b[0m\u001b[0mself\u001b[0m\u001b[0;34m.\u001b[0m\u001b[0m_n_jobs\u001b[0m\u001b[0;34m)\u001b[0m\u001b[0;34m:\u001b[0m\u001b[0;34m\u001b[0m\u001b[0;34m\u001b[0m\u001b[0m\n\u001b[1;32m    262\u001b[0m             return [func(*args, **kwargs)\n\u001b[0;32m--> 263\u001b[0;31m                     for func, args, kwargs in self.items]\n\u001b[0m\u001b[1;32m    264\u001b[0m \u001b[0;34m\u001b[0m\u001b[0m\n\u001b[1;32m    265\u001b[0m     \u001b[0;32mdef\u001b[0m \u001b[0m__reduce__\u001b[0m\u001b[0;34m(\u001b[0m\u001b[0mself\u001b[0m\u001b[0;34m)\u001b[0m\u001b[0;34m:\u001b[0m\u001b[0;34m\u001b[0m\u001b[0;34m\u001b[0m\u001b[0m\n",
            "\u001b[0;32m/usr/local/lib/python3.7/dist-packages/sklearn/utils/fixes.py\u001b[0m in \u001b[0;36m__call__\u001b[0;34m(self, *args, **kwargs)\u001b[0m\n\u001b[1;32m    214\u001b[0m     \u001b[0;32mdef\u001b[0m \u001b[0m__call__\u001b[0m\u001b[0;34m(\u001b[0m\u001b[0mself\u001b[0m\u001b[0;34m,\u001b[0m \u001b[0;34m*\u001b[0m\u001b[0margs\u001b[0m\u001b[0;34m,\u001b[0m \u001b[0;34m**\u001b[0m\u001b[0mkwargs\u001b[0m\u001b[0;34m)\u001b[0m\u001b[0;34m:\u001b[0m\u001b[0;34m\u001b[0m\u001b[0;34m\u001b[0m\u001b[0m\n\u001b[1;32m    215\u001b[0m         \u001b[0;32mwith\u001b[0m \u001b[0mconfig_context\u001b[0m\u001b[0;34m(\u001b[0m\u001b[0;34m**\u001b[0m\u001b[0mself\u001b[0m\u001b[0;34m.\u001b[0m\u001b[0mconfig\u001b[0m\u001b[0;34m)\u001b[0m\u001b[0;34m:\u001b[0m\u001b[0;34m\u001b[0m\u001b[0;34m\u001b[0m\u001b[0m\n\u001b[0;32m--> 216\u001b[0;31m             \u001b[0;32mreturn\u001b[0m \u001b[0mself\u001b[0m\u001b[0;34m.\u001b[0m\u001b[0mfunction\u001b[0m\u001b[0;34m(\u001b[0m\u001b[0;34m*\u001b[0m\u001b[0margs\u001b[0m\u001b[0;34m,\u001b[0m \u001b[0;34m**\u001b[0m\u001b[0mkwargs\u001b[0m\u001b[0;34m)\u001b[0m\u001b[0;34m\u001b[0m\u001b[0;34m\u001b[0m\u001b[0m\n\u001b[0m\u001b[1;32m    217\u001b[0m \u001b[0;34m\u001b[0m\u001b[0m\n\u001b[1;32m    218\u001b[0m \u001b[0;34m\u001b[0m\u001b[0m\n",
            "\u001b[0;32m/usr/local/lib/python3.7/dist-packages/sklearn/pipeline.py\u001b[0m in \u001b[0;36m_fit_transform_one\u001b[0;34m(transformer, X, y, weight, message_clsname, message, **fit_params)\u001b[0m\n\u001b[1;32m    891\u001b[0m     \u001b[0;32mwith\u001b[0m \u001b[0m_print_elapsed_time\u001b[0m\u001b[0;34m(\u001b[0m\u001b[0mmessage_clsname\u001b[0m\u001b[0;34m,\u001b[0m \u001b[0mmessage\u001b[0m\u001b[0;34m)\u001b[0m\u001b[0;34m:\u001b[0m\u001b[0;34m\u001b[0m\u001b[0;34m\u001b[0m\u001b[0m\n\u001b[1;32m    892\u001b[0m         \u001b[0;32mif\u001b[0m \u001b[0mhasattr\u001b[0m\u001b[0;34m(\u001b[0m\u001b[0mtransformer\u001b[0m\u001b[0;34m,\u001b[0m \u001b[0;34m\"fit_transform\"\u001b[0m\u001b[0;34m)\u001b[0m\u001b[0;34m:\u001b[0m\u001b[0;34m\u001b[0m\u001b[0;34m\u001b[0m\u001b[0m\n\u001b[0;32m--> 893\u001b[0;31m             \u001b[0mres\u001b[0m \u001b[0;34m=\u001b[0m \u001b[0mtransformer\u001b[0m\u001b[0;34m.\u001b[0m\u001b[0mfit_transform\u001b[0m\u001b[0;34m(\u001b[0m\u001b[0mX\u001b[0m\u001b[0;34m,\u001b[0m \u001b[0my\u001b[0m\u001b[0;34m,\u001b[0m \u001b[0;34m**\u001b[0m\u001b[0mfit_params\u001b[0m\u001b[0;34m)\u001b[0m\u001b[0;34m\u001b[0m\u001b[0;34m\u001b[0m\u001b[0m\n\u001b[0m\u001b[1;32m    894\u001b[0m         \u001b[0;32melse\u001b[0m\u001b[0;34m:\u001b[0m\u001b[0;34m\u001b[0m\u001b[0;34m\u001b[0m\u001b[0m\n\u001b[1;32m    895\u001b[0m             \u001b[0mres\u001b[0m \u001b[0;34m=\u001b[0m \u001b[0mtransformer\u001b[0m\u001b[0;34m.\u001b[0m\u001b[0mfit\u001b[0m\u001b[0;34m(\u001b[0m\u001b[0mX\u001b[0m\u001b[0;34m,\u001b[0m \u001b[0my\u001b[0m\u001b[0;34m,\u001b[0m \u001b[0;34m**\u001b[0m\u001b[0mfit_params\u001b[0m\u001b[0;34m)\u001b[0m\u001b[0;34m.\u001b[0m\u001b[0mtransform\u001b[0m\u001b[0;34m(\u001b[0m\u001b[0mX\u001b[0m\u001b[0;34m)\u001b[0m\u001b[0;34m\u001b[0m\u001b[0;34m\u001b[0m\u001b[0m\n",
            "\u001b[0;32m/usr/local/lib/python3.7/dist-packages/sklearn/pipeline.py\u001b[0m in \u001b[0;36mfit_transform\u001b[0;34m(self, X, y, **fit_params)\u001b[0m\n\u001b[1;32m    432\u001b[0m             \u001b[0mfit_params_last_step\u001b[0m \u001b[0;34m=\u001b[0m \u001b[0mfit_params_steps\u001b[0m\u001b[0;34m[\u001b[0m\u001b[0mself\u001b[0m\u001b[0;34m.\u001b[0m\u001b[0msteps\u001b[0m\u001b[0;34m[\u001b[0m\u001b[0;34m-\u001b[0m\u001b[0;36m1\u001b[0m\u001b[0;34m]\u001b[0m\u001b[0;34m[\u001b[0m\u001b[0;36m0\u001b[0m\u001b[0;34m]\u001b[0m\u001b[0;34m]\u001b[0m\u001b[0;34m\u001b[0m\u001b[0;34m\u001b[0m\u001b[0m\n\u001b[1;32m    433\u001b[0m             \u001b[0;32mif\u001b[0m \u001b[0mhasattr\u001b[0m\u001b[0;34m(\u001b[0m\u001b[0mlast_step\u001b[0m\u001b[0;34m,\u001b[0m \u001b[0;34m\"fit_transform\"\u001b[0m\u001b[0;34m)\u001b[0m\u001b[0;34m:\u001b[0m\u001b[0;34m\u001b[0m\u001b[0;34m\u001b[0m\u001b[0m\n\u001b[0;32m--> 434\u001b[0;31m                 \u001b[0;32mreturn\u001b[0m \u001b[0mlast_step\u001b[0m\u001b[0;34m.\u001b[0m\u001b[0mfit_transform\u001b[0m\u001b[0;34m(\u001b[0m\u001b[0mXt\u001b[0m\u001b[0;34m,\u001b[0m \u001b[0my\u001b[0m\u001b[0;34m,\u001b[0m \u001b[0;34m**\u001b[0m\u001b[0mfit_params_last_step\u001b[0m\u001b[0;34m)\u001b[0m\u001b[0;34m\u001b[0m\u001b[0;34m\u001b[0m\u001b[0m\n\u001b[0m\u001b[1;32m    435\u001b[0m             \u001b[0;32melse\u001b[0m\u001b[0;34m:\u001b[0m\u001b[0;34m\u001b[0m\u001b[0;34m\u001b[0m\u001b[0m\n\u001b[1;32m    436\u001b[0m                 \u001b[0;32mreturn\u001b[0m \u001b[0mlast_step\u001b[0m\u001b[0;34m.\u001b[0m\u001b[0mfit\u001b[0m\u001b[0;34m(\u001b[0m\u001b[0mXt\u001b[0m\u001b[0;34m,\u001b[0m \u001b[0my\u001b[0m\u001b[0;34m,\u001b[0m \u001b[0;34m**\u001b[0m\u001b[0mfit_params_last_step\u001b[0m\u001b[0;34m)\u001b[0m\u001b[0;34m.\u001b[0m\u001b[0mtransform\u001b[0m\u001b[0;34m(\u001b[0m\u001b[0mXt\u001b[0m\u001b[0;34m)\u001b[0m\u001b[0;34m\u001b[0m\u001b[0;34m\u001b[0m\u001b[0m\n",
            "\u001b[0;32m/usr/local/lib/python3.7/dist-packages/sklearn/preprocessing/_encoders.py\u001b[0m in \u001b[0;36mfit_transform\u001b[0;34m(self, X, y)\u001b[0m\n\u001b[1;32m    486\u001b[0m         \"\"\"\n\u001b[1;32m    487\u001b[0m         \u001b[0mself\u001b[0m\u001b[0;34m.\u001b[0m\u001b[0m_validate_keywords\u001b[0m\u001b[0;34m(\u001b[0m\u001b[0;34m)\u001b[0m\u001b[0;34m\u001b[0m\u001b[0;34m\u001b[0m\u001b[0m\n\u001b[0;32m--> 488\u001b[0;31m         \u001b[0;32mreturn\u001b[0m \u001b[0msuper\u001b[0m\u001b[0;34m(\u001b[0m\u001b[0;34m)\u001b[0m\u001b[0;34m.\u001b[0m\u001b[0mfit_transform\u001b[0m\u001b[0;34m(\u001b[0m\u001b[0mX\u001b[0m\u001b[0;34m,\u001b[0m \u001b[0my\u001b[0m\u001b[0;34m)\u001b[0m\u001b[0;34m\u001b[0m\u001b[0;34m\u001b[0m\u001b[0m\n\u001b[0m\u001b[1;32m    489\u001b[0m \u001b[0;34m\u001b[0m\u001b[0m\n\u001b[1;32m    490\u001b[0m     \u001b[0;32mdef\u001b[0m \u001b[0mtransform\u001b[0m\u001b[0;34m(\u001b[0m\u001b[0mself\u001b[0m\u001b[0;34m,\u001b[0m \u001b[0mX\u001b[0m\u001b[0;34m)\u001b[0m\u001b[0;34m:\u001b[0m\u001b[0;34m\u001b[0m\u001b[0;34m\u001b[0m\u001b[0m\n",
            "\u001b[0;32m/usr/local/lib/python3.7/dist-packages/sklearn/base.py\u001b[0m in \u001b[0;36mfit_transform\u001b[0;34m(self, X, y, **fit_params)\u001b[0m\n\u001b[1;32m    850\u001b[0m         \u001b[0;32mif\u001b[0m \u001b[0my\u001b[0m \u001b[0;32mis\u001b[0m \u001b[0;32mNone\u001b[0m\u001b[0;34m:\u001b[0m\u001b[0;34m\u001b[0m\u001b[0;34m\u001b[0m\u001b[0m\n\u001b[1;32m    851\u001b[0m             \u001b[0;31m# fit method of arity 1 (unsupervised transformation)\u001b[0m\u001b[0;34m\u001b[0m\u001b[0;34m\u001b[0m\u001b[0;34m\u001b[0m\u001b[0m\n\u001b[0;32m--> 852\u001b[0;31m             \u001b[0;32mreturn\u001b[0m \u001b[0mself\u001b[0m\u001b[0;34m.\u001b[0m\u001b[0mfit\u001b[0m\u001b[0;34m(\u001b[0m\u001b[0mX\u001b[0m\u001b[0;34m,\u001b[0m \u001b[0;34m**\u001b[0m\u001b[0mfit_params\u001b[0m\u001b[0;34m)\u001b[0m\u001b[0;34m.\u001b[0m\u001b[0mtransform\u001b[0m\u001b[0;34m(\u001b[0m\u001b[0mX\u001b[0m\u001b[0;34m)\u001b[0m\u001b[0;34m\u001b[0m\u001b[0;34m\u001b[0m\u001b[0m\n\u001b[0m\u001b[1;32m    853\u001b[0m         \u001b[0;32melse\u001b[0m\u001b[0;34m:\u001b[0m\u001b[0;34m\u001b[0m\u001b[0;34m\u001b[0m\u001b[0m\n\u001b[1;32m    854\u001b[0m             \u001b[0;31m# fit method of arity 2 (supervised transformation)\u001b[0m\u001b[0;34m\u001b[0m\u001b[0;34m\u001b[0m\u001b[0;34m\u001b[0m\u001b[0m\n",
            "\u001b[0;32m/usr/local/lib/python3.7/dist-packages/sklearn/preprocessing/_encoders.py\u001b[0m in \u001b[0;36mtransform\u001b[0;34m(self, X)\u001b[0m\n\u001b[1;32m    511\u001b[0m             \u001b[0mhandle_unknown\u001b[0m\u001b[0;34m=\u001b[0m\u001b[0mself\u001b[0m\u001b[0;34m.\u001b[0m\u001b[0mhandle_unknown\u001b[0m\u001b[0;34m,\u001b[0m\u001b[0;34m\u001b[0m\u001b[0;34m\u001b[0m\u001b[0m\n\u001b[1;32m    512\u001b[0m             \u001b[0mforce_all_finite\u001b[0m\u001b[0;34m=\u001b[0m\u001b[0;34m\"allow-nan\"\u001b[0m\u001b[0;34m,\u001b[0m\u001b[0;34m\u001b[0m\u001b[0;34m\u001b[0m\u001b[0m\n\u001b[0;32m--> 513\u001b[0;31m             \u001b[0mwarn_on_unknown\u001b[0m\u001b[0;34m=\u001b[0m\u001b[0mwarn_on_unknown\u001b[0m\u001b[0;34m,\u001b[0m\u001b[0;34m\u001b[0m\u001b[0;34m\u001b[0m\u001b[0m\n\u001b[0m\u001b[1;32m    514\u001b[0m         )\n\u001b[1;32m    515\u001b[0m \u001b[0;34m\u001b[0m\u001b[0m\n",
            "\u001b[0;32m/usr/local/lib/python3.7/dist-packages/sklearn/preprocessing/_encoders.py\u001b[0m in \u001b[0;36m_transform\u001b[0;34m(self, X, handle_unknown, force_all_finite, warn_on_unknown)\u001b[0m\n\u001b[1;32m    132\u001b[0m         \u001b[0;32mfor\u001b[0m \u001b[0mi\u001b[0m \u001b[0;32min\u001b[0m \u001b[0mrange\u001b[0m\u001b[0;34m(\u001b[0m\u001b[0mn_features\u001b[0m\u001b[0;34m)\u001b[0m\u001b[0;34m:\u001b[0m\u001b[0;34m\u001b[0m\u001b[0;34m\u001b[0m\u001b[0m\n\u001b[1;32m    133\u001b[0m             \u001b[0mXi\u001b[0m \u001b[0;34m=\u001b[0m \u001b[0mX_list\u001b[0m\u001b[0;34m[\u001b[0m\u001b[0mi\u001b[0m\u001b[0;34m]\u001b[0m\u001b[0;34m\u001b[0m\u001b[0;34m\u001b[0m\u001b[0m\n\u001b[0;32m--> 134\u001b[0;31m             \u001b[0mdiff\u001b[0m\u001b[0;34m,\u001b[0m \u001b[0mvalid_mask\u001b[0m \u001b[0;34m=\u001b[0m \u001b[0m_check_unknown\u001b[0m\u001b[0;34m(\u001b[0m\u001b[0mXi\u001b[0m\u001b[0;34m,\u001b[0m \u001b[0mself\u001b[0m\u001b[0;34m.\u001b[0m\u001b[0mcategories_\u001b[0m\u001b[0;34m[\u001b[0m\u001b[0mi\u001b[0m\u001b[0;34m]\u001b[0m\u001b[0;34m,\u001b[0m \u001b[0mreturn_mask\u001b[0m\u001b[0;34m=\u001b[0m\u001b[0;32mTrue\u001b[0m\u001b[0;34m)\u001b[0m\u001b[0;34m\u001b[0m\u001b[0;34m\u001b[0m\u001b[0m\n\u001b[0m\u001b[1;32m    135\u001b[0m \u001b[0;34m\u001b[0m\u001b[0m\n\u001b[1;32m    136\u001b[0m             \u001b[0;32mif\u001b[0m \u001b[0;32mnot\u001b[0m \u001b[0mnp\u001b[0m\u001b[0;34m.\u001b[0m\u001b[0mall\u001b[0m\u001b[0;34m(\u001b[0m\u001b[0mvalid_mask\u001b[0m\u001b[0;34m)\u001b[0m\u001b[0;34m:\u001b[0m\u001b[0;34m\u001b[0m\u001b[0;34m\u001b[0m\u001b[0m\n",
            "\u001b[0;32m/usr/local/lib/python3.7/dist-packages/sklearn/utils/_encode.py\u001b[0m in \u001b[0;36m_check_unknown\u001b[0;34m(values, known_values, return_mask)\u001b[0m\n\u001b[1;32m    219\u001b[0m \u001b[0;34m\u001b[0m\u001b[0m\n\u001b[1;32m    220\u001b[0m     \u001b[0;32mif\u001b[0m \u001b[0mvalues\u001b[0m\u001b[0;34m.\u001b[0m\u001b[0mdtype\u001b[0m\u001b[0;34m.\u001b[0m\u001b[0mkind\u001b[0m \u001b[0;32min\u001b[0m \u001b[0;34m\"OUS\"\u001b[0m\u001b[0;34m:\u001b[0m\u001b[0;34m\u001b[0m\u001b[0;34m\u001b[0m\u001b[0m\n\u001b[0;32m--> 221\u001b[0;31m         \u001b[0mvalues_set\u001b[0m \u001b[0;34m=\u001b[0m \u001b[0mset\u001b[0m\u001b[0;34m(\u001b[0m\u001b[0mvalues\u001b[0m\u001b[0;34m)\u001b[0m\u001b[0;34m\u001b[0m\u001b[0;34m\u001b[0m\u001b[0m\n\u001b[0m\u001b[1;32m    222\u001b[0m         \u001b[0mvalues_set\u001b[0m\u001b[0;34m,\u001b[0m \u001b[0mmissing_in_values\u001b[0m \u001b[0;34m=\u001b[0m \u001b[0m_extract_missing\u001b[0m\u001b[0;34m(\u001b[0m\u001b[0mvalues_set\u001b[0m\u001b[0;34m)\u001b[0m\u001b[0;34m\u001b[0m\u001b[0;34m\u001b[0m\u001b[0m\n\u001b[1;32m    223\u001b[0m \u001b[0;34m\u001b[0m\u001b[0m\n",
            "\u001b[0;31mKeyboardInterrupt\u001b[0m: "
          ]
        }
      ]
    },
    {
      "cell_type": "code",
      "source": [
        "xgbc_tuned.best_estimator_.get_params()"
      ],
      "metadata": {
        "colab": {
          "base_uri": "https://localhost:8080/",
          "height": 166
        },
        "id": "Zw9gY4BpRmyv",
        "outputId": "057ec63b-f984-44e5-a6ba-4fc2877baa28"
      },
      "execution_count": null,
      "outputs": [
        {
          "output_type": "error",
          "ename": "NameError",
          "evalue": "ignored",
          "traceback": [
            "\u001b[0;31m---------------------------------------------------------------------------\u001b[0m",
            "\u001b[0;31mNameError\u001b[0m                                 Traceback (most recent call last)",
            "\u001b[0;32m<ipython-input-61-32bfd39133a3>\u001b[0m in \u001b[0;36m<module>\u001b[0;34m()\u001b[0m\n\u001b[0;32m----> 1\u001b[0;31m \u001b[0mxgbc_tuned\u001b[0m\u001b[0;34m.\u001b[0m\u001b[0mbest_estimator_\u001b[0m\u001b[0;34m.\u001b[0m\u001b[0mget_params\u001b[0m\u001b[0;34m(\u001b[0m\u001b[0;34m)\u001b[0m\u001b[0;34m\u001b[0m\u001b[0;34m\u001b[0m\u001b[0m\n\u001b[0m",
            "\u001b[0;31mNameError\u001b[0m: name 'xgbc_tuned' is not defined"
          ]
        }
      ]
    },
    {
      "cell_type": "code",
      "source": [
        "import joblib\n",
        "joblib.dump(xgbc_tuned, 'xgbc_tuned.pkl')"
      ],
      "metadata": {
        "colab": {
          "base_uri": "https://localhost:8080/",
          "height": 184
        },
        "id": "qvhgA6D8R-1N",
        "outputId": "c90b3c51-8c45-416a-889f-8096d2d53eb0"
      },
      "execution_count": null,
      "outputs": [
        {
          "output_type": "error",
          "ename": "NameError",
          "evalue": "ignored",
          "traceback": [
            "\u001b[0;31m---------------------------------------------------------------------------\u001b[0m",
            "\u001b[0;31mNameError\u001b[0m                                 Traceback (most recent call last)",
            "\u001b[0;32m<ipython-input-62-ebc09af53d14>\u001b[0m in \u001b[0;36m<module>\u001b[0;34m()\u001b[0m\n\u001b[1;32m      1\u001b[0m \u001b[0;32mimport\u001b[0m \u001b[0mjoblib\u001b[0m\u001b[0;34m\u001b[0m\u001b[0;34m\u001b[0m\u001b[0m\n\u001b[0;32m----> 2\u001b[0;31m \u001b[0mjoblib\u001b[0m\u001b[0;34m.\u001b[0m\u001b[0mdump\u001b[0m\u001b[0;34m(\u001b[0m\u001b[0mxgbc_tuned\u001b[0m\u001b[0;34m,\u001b[0m \u001b[0;34m'xgbc_tuned.pkl'\u001b[0m\u001b[0;34m)\u001b[0m\u001b[0;34m\u001b[0m\u001b[0;34m\u001b[0m\u001b[0m\n\u001b[0m",
            "\u001b[0;31mNameError\u001b[0m: name 'xgbc_tuned' is not defined"
          ]
        }
      ]
    },
    {
      "cell_type": "code",
      "source": [
        "path1 = r\"/content/drive/MyDrive/Hackathon/Models/Decision Tree - Boosting\""
      ],
      "metadata": {
        "id": "gHW-fqYbSgfW"
      },
      "execution_count": null,
      "outputs": []
    },
    {
      "cell_type": "code",
      "source": [
        "joblib.dump(xgbc_tuned, path1+'/xgbc_tuned.pkl')"
      ],
      "metadata": {
        "colab": {
          "base_uri": "https://localhost:8080/",
          "height": 166
        },
        "id": "hJpKW0x8Skx8",
        "outputId": "cf857801-fc2d-4f1a-d335-c6829dc27824"
      },
      "execution_count": null,
      "outputs": [
        {
          "output_type": "error",
          "ename": "NameError",
          "evalue": "ignored",
          "traceback": [
            "\u001b[0;31m---------------------------------------------------------------------------\u001b[0m",
            "\u001b[0;31mNameError\u001b[0m                                 Traceback (most recent call last)",
            "\u001b[0;32m<ipython-input-63-3aae1a330770>\u001b[0m in \u001b[0;36m<module>\u001b[0;34m()\u001b[0m\n\u001b[0;32m----> 1\u001b[0;31m \u001b[0mjoblib\u001b[0m\u001b[0;34m.\u001b[0m\u001b[0mdump\u001b[0m\u001b[0;34m(\u001b[0m\u001b[0mxgbc_tuned\u001b[0m\u001b[0;34m,\u001b[0m \u001b[0mpath1\u001b[0m\u001b[0;34m+\u001b[0m\u001b[0;34m'/xgbc_tuned.pkl'\u001b[0m\u001b[0;34m)\u001b[0m\u001b[0;34m\u001b[0m\u001b[0;34m\u001b[0m\u001b[0m\n\u001b[0m",
            "\u001b[0;31mNameError\u001b[0m: name 'xgbc_tuned' is not defined"
          ]
        }
      ]
    },
    {
      "cell_type": "code",
      "source": [
        "xgbc_tuned = joblib.load(\"xgbc_tuned.pkl\")\n",
        "\n",
        "#Checking performance on the training data\n",
        "y_pred = xgbc_tuned.predict(X)\n",
        "metrics_score(y,y_pred)"
      ],
      "metadata": {
        "id": "tt83oMTQ8Xhj",
        "colab": {
          "base_uri": "https://localhost:8080/",
          "height": 492
        },
        "outputId": "e448a548-a831-4dad-c613-8114562a4855"
      },
      "execution_count": null,
      "outputs": [
        {
          "output_type": "stream",
          "name": "stdout",
          "text": [
            "              precision    recall  f1-score   support\n",
            "\n",
            "           0       0.86      0.77      0.81      8281\n",
            "           1       0.89      0.94      0.92     17111\n",
            "\n",
            "    accuracy                           0.88     25392\n",
            "   macro avg       0.88      0.86      0.86     25392\n",
            "weighted avg       0.88      0.88      0.88     25392\n",
            "\n"
          ]
        },
        {
          "output_type": "display_data",
          "data": {
            "text/plain": [
              "<Figure size 576x360 with 2 Axes>"
            ],
            "image/png": "[encoded data removed]"
          },
          "metadata": {
            "needs_background": "light"
          }
        }
      ]
    },
    {
      "cell_type": "markdown",
      "source": [
        "#### Test scores"
      ],
      "metadata": {
        "id": "ipQOYZbjD40F"
      }
    },
    {
      "cell_type": "code",
      "source": [
        "#Checking performance on the testing data\n",
        "y_pred_test1 = d_tree_gradient_gboost.predict(X_test)\n",
        "metrics_score(y_test,y_pred_test1)"
      ],
      "metadata": {
        "id": "_ANWdAee8dDl",
        "colab": {
          "base_uri": "https://localhost:8080/",
          "height": 490
        },
        "outputId": "083d6cc5-e093-42cb-a070-4119abc587b3"
      },
      "execution_count": null,
      "outputs": [
        {
          "output_type": "stream",
          "name": "stdout",
          "text": [
            "              precision    recall  f1-score   support\n",
            "\n",
            "           0       0.86      0.76      0.81      3604\n",
            "           1       0.89      0.94      0.91      7279\n",
            "\n",
            "    accuracy                           0.88     10883\n",
            "   macro avg       0.88      0.85      0.86     10883\n",
            "weighted avg       0.88      0.88      0.88     10883\n",
            "\n"
          ]
        },
        {
          "output_type": "display_data",
          "data": {
            "text/plain": [
              "<Figure size 576x360 with 2 Axes>"
            ],
            "image/png": "[encoded data removed]"
          },
          "metadata": {
            "needs_background": "light"
          }
        }
      ]
    },
    {
      "cell_type": "code",
      "source": [],
      "metadata": {
        "id": "YR0zBUuaV1Ck"
      },
      "execution_count": null,
      "outputs": []
    },
    {
      "cell_type": "markdown",
      "source": [
        "### Feature importance"
      ],
      "metadata": {
        "id": "JBjVOfjZGQiQ"
      }
    },
    {
      "cell_type": "code",
      "source": [
        "importances = d_tree_gradient_gboost.feature_importances_\n",
        "indices = np.argsort(importances)\n",
        "feature_names = list(X.columns)\n",
        "\n",
        "plt.figure(figsize=(12,12))\n",
        "plt.title('Feature Importances')\n",
        "plt.barh(range(len(indices)), importances[indices], color='violet', align='center')\n",
        "plt.yticks(range(len(indices)), [feature_names[i] for i in indices])\n",
        "plt.xlabel('Relative Importance')\n",
        "plt.show()"
      ],
      "metadata": {
        "colab": {
          "base_uri": "https://localhost:8080/",
          "height": 730
        },
        "id": "Oaz-ORtfGTZq",
        "outputId": "b7f3547e-8ea2-4b15-87bd-f0550acfb459"
      },
      "execution_count": null,
      "outputs": [
        {
          "output_type": "display_data",
          "data": {
            "text/plain": [
              "<Figure size 864x864 with 1 Axes>"
            ],
            "image/png": "[encoded data removed]"
          },
          "metadata": {
            "needs_background": "light"
          }
        }
      ]
    },
    {
      "cell_type": "markdown",
      "source": [
        "### Reduced features"
      ],
      "metadata": {
        "id": "uNP5jy2vHi-_"
      }
    },
    {
      "cell_type": "code",
      "source": [
        "df_reduced = df[['lead_time','no_of_special_requests','market_segment_type','arrival_month',\n",
        "    'avg_price_per_room','no_of_weekend_nights','no_of_week_nights','no_of_adults',\n",
        "    'required_car_parking_space','arrival_date','no_of_previous_cancellations']]\n",
        "X_reduced = pd.get_dummies(df_reduced, drop_first = True)"
      ],
      "metadata": {
        "id": "dNgI7s_zGYps"
      },
      "execution_count": null,
      "outputs": []
    },
    {
      "cell_type": "code",
      "source": [
        "#Splitting the data into train and test sets\n",
        "X_train,X_test,y_train,y_test=train_test_split(X_reduced, Y, test_size=0.30, random_state=7)"
      ],
      "metadata": {
        "id": "NBapqxs6HWW9"
      },
      "execution_count": null,
      "outputs": []
    },
    {
      "cell_type": "code",
      "source": [
        "#Fitting the decision tree classifier on the training data\n",
        "d_tree_gradient_boost =  GradientBoostingClassifier(random_state=7, n_estimators=1000, \n",
        "                                          learning_rate=0.01,max_depth=7)\n",
        "\n",
        "d_tree_gradient_boost.fit(X_train,y_train)"
      ],
      "metadata": {
        "colab": {
          "base_uri": "https://localhost:8080/"
        },
        "id": "gCufv0cVHcYx",
        "outputId": "1054af6c-95e9-4348-8b32-21a0c982f2de"
      },
      "execution_count": null,
      "outputs": [
        {
          "output_type": "execute_result",
          "data": {
            "text/plain": [
              "GradientBoostingClassifier(learning_rate=0.01, max_depth=7, n_estimators=500,\n",
              "                           random_state=7)"
            ]
          },
          "metadata": {},
          "execution_count": 25
        }
      ]
    },
    {
      "cell_type": "code",
      "source": [
        "#Checking performance on the training data\n",
        "y_pred_train1 = d_tree_gradient_boost.predict(X_train)\n",
        "metrics_score(y_train,y_pred_train1)"
      ],
      "metadata": {
        "colab": {
          "base_uri": "https://localhost:8080/",
          "height": 491
        },
        "id": "WGgikDajHpnf",
        "outputId": "15aeddbd-661e-4218-896c-357a15add8b8"
      },
      "execution_count": null,
      "outputs": [
        {
          "output_type": "stream",
          "name": "stdout",
          "text": [
            "              precision    recall  f1-score   support\n",
            "\n",
            "           0       0.87      0.78      0.82      8281\n",
            "           1       0.90      0.95      0.92     17111\n",
            "\n",
            "    accuracy                           0.89     25392\n",
            "   macro avg       0.89      0.86      0.87     25392\n",
            "weighted avg       0.89      0.89      0.89     25392\n",
            "\n"
          ]
        },
        {
          "output_type": "display_data",
          "data": {
            "text/plain": [
              "<Figure size 576x360 with 2 Axes>"
            ],
            "image/png": "[encoded data removed]"
          },
          "metadata": {
            "needs_background": "light"
          }
        }
      ]
    },
    {
      "cell_type": "code",
      "source": [
        "#Checking performance on the testing data\n",
        "y_pred_test1 = d_tree_gradient_boost.predict(X_test)\n",
        "metrics_score(y_test,y_pred_test1)"
      ],
      "metadata": {
        "colab": {
          "base_uri": "https://localhost:8080/",
          "height": 490
        },
        "id": "2p85RheQHugk",
        "outputId": "49f4043c-2894-4ed1-8bd7-a8e712651b00"
      },
      "execution_count": null,
      "outputs": [
        {
          "output_type": "stream",
          "name": "stdout",
          "text": [
            "              precision    recall  f1-score   support\n",
            "\n",
            "           0       0.87      0.76      0.81      3604\n",
            "           1       0.89      0.94      0.91      7279\n",
            "\n",
            "    accuracy                           0.88     10883\n",
            "   macro avg       0.88      0.85      0.86     10883\n",
            "weighted avg       0.88      0.88      0.88     10883\n",
            "\n"
          ]
        },
        {
          "output_type": "display_data",
          "data": {
            "text/plain": [
              "<Figure size 576x360 with 2 Axes>"
            ],
            "image/png": "[encoded data removed]"
          },
          "metadata": {
            "needs_background": "light"
          }
        }
      ]
    },
    {
      "cell_type": "markdown",
      "source": [
        "### Tuning decision tree hyperparameters"
      ],
      "metadata": {
        "id": "z3vCoO-iD__7"
      }
    },
    {
      "cell_type": "code",
      "source": [
        "# Choose the type of classifier \n",
        "d_tree_tuned = GradientBoostingClassifier(random_state=7)\n",
        "\n",
        "# Grid of parameters to choose from\n",
        "# parameters = {'max_depth': np.arange(2,10), \n",
        "#               'criterion': ['gini', 'entropy'],\n",
        "#               'min_samples_leaf': [5, 10, 20, 25]\n",
        "#              }\n",
        "\n",
        "parameters = {\n",
        "    \"loss\":[\"deviance\"],\n",
        "    \"learning_rate\": [0.001, 0.01, 0.1],\n",
        "    \"min_samples_split\": np.linspace(0.1, 0.5, 3),\n",
        "    \"min_samples_leaf\": np.linspace(0.1, 0.5, 3),\n",
        "    \"max_depth\":np.arange(2,6),\n",
        "    \"max_features\":[\"log2\",\"sqrt\"],\n",
        "    \"criterion\": [\"friedman_mse\",  \"mae\", 'gini', 'entropy'],\n",
        "    \"subsample\":[0.5, 0.75, 0.9],\n",
        "    \"n_estimators\":[10]\n",
        "    }\n",
        "# Type of scoring used to compare parameter combinations - recall score for class 0\n",
        "scorer = metrics.make_scorer(recall_score, pos_label=0)\n",
        "\n",
        "# Run the grid search\n",
        "grid_obj = GridSearchCV(d_tree_tuned, parameters, scoring=scorer, cv=5)\n",
        "grid_obj = grid_obj.fit(X_train, y_train)\n",
        "\n",
        "# Set the classifier to the best combination of parameters\n",
        "d_tree_tuned = grid_obj.best_estimator_\n",
        "\n",
        "# Fit the best algorithm to the data \n",
        "d_tree_tuned.fit(X_train, y_train)"
      ],
      "metadata": {
        "id": "JPuo3m4r8iMS",
        "colab": {
          "base_uri": "https://localhost:8080/"
        },
        "outputId": "92d5ad58-b623-4639-ef78-f6965ed73d2a"
      },
      "execution_count": null,
      "outputs": [
        {
          "output_type": "execute_result",
          "data": {
            "text/plain": [
              "GradientBoostingClassifier(max_depth=4, max_features='sqrt',\n",
              "                           min_samples_leaf=0.1,\n",
              "                           min_samples_split=0.30000000000000004,\n",
              "                           n_estimators=10, random_state=7, subsample=0.9)"
            ]
          },
          "metadata": {},
          "execution_count": 38
        }
      ]
    },
    {
      "cell_type": "markdown",
      "source": [
        "#### Train score after tuning"
      ],
      "metadata": {
        "id": "rn1s-ZvDEEvr"
      }
    },
    {
      "cell_type": "code",
      "source": [
        "# #Checking performance on the training data\n",
        "# y_pred_train2 = d_tree_tuned.predict(X_train)\n",
        "# metrics_score(y_train,y_pred_train2)"
      ],
      "metadata": {
        "id": "i1Hjoum58lIO"
      },
      "execution_count": null,
      "outputs": []
    },
    {
      "cell_type": "markdown",
      "source": [
        "#### Test score after tuning"
      ],
      "metadata": {
        "id": "j4z16Xh-EFZr"
      }
    },
    {
      "cell_type": "code",
      "source": [
        "# #Checking performance on the testing data\n",
        "# y_pred_test2 = d_tree_tuned.predict(X_test)\n",
        "# metrics_score(y_test,y_pred_test2)"
      ],
      "metadata": {
        "id": "v_Fk0IsU8qQ5"
      },
      "execution_count": null,
      "outputs": []
    },
    {
      "cell_type": "code",
      "source": [
        "# importances = rf_estimator_tuned.feature_importances_\n",
        "# indices = np.argsort(importances)\n",
        "# feature_names = list(X.columns)\n",
        "\n",
        "# plt.figure(figsize=(12,12))\n",
        "# plt.title('Feature Importances')\n",
        "# plt.barh(range(len(indices)), importances[indices], color='violet', align='center')\n",
        "# plt.yticks(range(len(indices)), [feature_names[i] for i in indices])\n",
        "# plt.xlabel('Relative Importance')\n",
        "# plt.show()"
      ],
      "metadata": {
        "id": "18Uka0g3GTo8"
      },
      "execution_count": null,
      "outputs": []
    },
    {
      "cell_type": "markdown",
      "source": [
        "### Pipeline Gradient boost"
      ],
      "metadata": {
        "id": "4MyCQ2qsV2Za"
      }
    },
    {
      "cell_type": "code",
      "source": [
        "df = pd.read_csv(path)"
      ],
      "metadata": {
        "id": "Y7zzER-4WQky"
      },
      "execution_count": null,
      "outputs": []
    },
    {
      "cell_type": "code",
      "source": [
        "# from sklearn.pipeline import make_pipeline\n",
        "from imblearn.pipeline import make_pipeline\n",
        "from imblearn.pipeline import Pipeline\n",
        "from imblearn.under_sampling import RandomUnderSampler\n",
        "from imblearn.over_sampling import RandomOverSampler\n",
        "from imblearn.over_sampling import SMOTENC"
      ],
      "metadata": {
        "id": "zc6leOzNnSnE"
      },
      "execution_count": null,
      "outputs": []
    },
    {
      "cell_type": "code",
      "source": [
        "from sklearn.compose import make_column_transformer\n",
        "from sklearn.impute import SimpleImputer\n",
        "from sklearn.preprocessing import OrdinalEncoder, OneHotEncoder\n",
        "from sklearn.compose import make_column_selector\n",
        "from sklearn.model_selection import cross_validate, cross_val_predict"
      ],
      "metadata": {
        "id": "0cLkdWsfnZ-k"
      },
      "execution_count": null,
      "outputs": []
    },
    {
      "cell_type": "code",
      "source": [
        "target_col = 'booking_status'\n",
        "X = df.drop(columns = target_col)\n",
        "Y = df[target_col]"
      ],
      "metadata": {
        "id": "IUWYL9Hkq6nW",
        "colab": {
          "base_uri": "https://localhost:8080/"
        },
        "outputId": "3fe1b4b1-22fe-4c4a-edf4-6f3f8388f6d8"
      },
      "execution_count": null,
      "outputs": [
        {
          "output_type": "execute_result",
          "data": {
            "text/plain": [
              "(36275, 17)"
            ]
          },
          "metadata": {},
          "execution_count": 27
        }
      ]
    },
    {
      "cell_type": "code",
      "source": [
        "cat_selector = make_column_selector(dtype_include=object)\n",
        "num_selector = make_column_selector(dtype_include=np.number)\n",
        "cat_selector(X)"
      ],
      "metadata": {
        "colab": {
          "base_uri": "https://localhost:8080/"
        },
        "id": "mzb5vPlbqaq-",
        "outputId": "8b9d3a10-d741-40d4-b90e-23de59810d3d"
      },
      "execution_count": null,
      "outputs": [
        {
          "output_type": "execute_result",
          "data": {
            "text/plain": [
              "['type_of_meal_plan', 'room_type_reserved', 'market_segment_type']"
            ]
          },
          "metadata": {},
          "execution_count": 23
        }
      ]
    },
    {
      "cell_type": "code",
      "source": [
        "cat_tree_processor = OneHotEncoder(\n",
        "    handle_unknown=\"use_encoded_value\"\n",
        ")\n",
        "num_tree_processor = SimpleImputer(strategy=\"median\", add_indicator=True)\n",
        "\n",
        "tree_preprocessor = make_column_transformer(\n",
        "    (num_tree_processor, num_selector), (cat_tree_processor, cat_selector)\n",
        ")\n",
        "tree_preprocessor"
      ],
      "metadata": {
        "colab": {
          "base_uri": "https://localhost:8080/"
        },
        "id": "IG1l7KRBpcN0",
        "outputId": "81ed2b4e-43f2-48f8-c4e1-1dd6478a9172"
      },
      "execution_count": null,
      "outputs": [
        {
          "output_type": "execute_result",
          "data": {
            "text/plain": [
              "ColumnTransformer(transformers=[('simpleimputer',\n",
              "                                 SimpleImputer(add_indicator=True,\n",
              "                                               strategy='median'),\n",
              "                                 <sklearn.compose._column_transformer.make_column_selector object at 0x7f1ee5df3cd0>),\n",
              "                                ('onehotencoder',\n",
              "                                 OneHotEncoder(handle_unknown='use_encoded_value'),\n",
              "                                 <sklearn.compose._column_transformer.make_column_selector object at 0x7f1ee5df3990>)])"
            ]
          },
          "metadata": {},
          "execution_count": 28
        }
      ]
    },
    {
      "cell_type": "code",
      "source": [
        "gb_pipeline = make_pipeline(tree_preprocessor, d_tree_gradient_gboost)\n",
        "gb_pipeline"
      ],
      "metadata": {
        "colab": {
          "base_uri": "https://localhost:8080/"
        },
        "id": "vf6k3ywgqZ5T",
        "outputId": "1e9c2ca3-d381-4980-a34c-9be3b333f245"
      },
      "execution_count": null,
      "outputs": [
        {
          "output_type": "execute_result",
          "data": {
            "text/plain": [
              "Pipeline(steps=[('columntransformer',\n",
              "                 ColumnTransformer(transformers=[('simpleimputer',\n",
              "                                                  SimpleImputer(add_indicator=True,\n",
              "                                                                strategy='median'),\n",
              "                                                  <sklearn.compose._column_transformer.make_column_selector object at 0x7f1ee5df3cd0>),\n",
              "                                                 ('onehotencoder',\n",
              "                                                  OneHotEncoder(handle_unknown='use_encoded_value'),\n",
              "                                                  <sklearn.compose._column_transformer.make_column_selector object at 0x7f1ee5df3990>)])),\n",
              "                ('gradientboostingclassifier',\n",
              "                 GradientBoostingClassifier(learning_rate=0.01, max_depth=5,\n",
              "                                            n_estimators=1000,\n",
              "                                            random_state=0))])"
            ]
          },
          "metadata": {},
          "execution_count": 29
        }
      ]
    },
    {
      "cell_type": "code",
      "source": [
        "score = cross_validate(\n",
        "        gb_pipeline, X_train, y_train, scoring=metrics.accuracy_score, \n",
        "        n_jobs=2, verbose=0\n",
        "    )"
      ],
      "metadata": {
        "id": "ZhIisb1BqP--"
      },
      "execution_count": null,
      "outputs": []
    },
    {
      "cell_type": "code",
      "source": [
        "y_pred_train = cross_val_predict(gb_pipeline, X_train, y_train, n_jobs=2, verbose=0)"
      ],
      "metadata": {
        "id": "ND_73cZVtMom"
      },
      "execution_count": null,
      "outputs": []
    },
    {
      "cell_type": "code",
      "source": [
        "metrics_score(y_train, y_pred_train)"
      ],
      "metadata": {
        "colab": {
          "base_uri": "https://localhost:8080/",
          "height": 490
        },
        "id": "8SGuCb4CtwN7",
        "outputId": "0967a899-68fa-46da-d36d-82dd19d020da"
      },
      "execution_count": null,
      "outputs": [
        {
          "output_type": "stream",
          "name": "stdout",
          "text": [
            "              precision    recall  f1-score   support\n",
            "\n",
            "           0       0.85      0.76      0.80      8281\n",
            "           1       0.89      0.93      0.91     17111\n",
            "\n",
            "    accuracy                           0.88     25392\n",
            "   macro avg       0.87      0.85      0.86     25392\n",
            "weighted avg       0.88      0.88      0.87     25392\n",
            "\n"
          ]
        },
        {
          "output_type": "display_data",
          "data": {
            "text/plain": [
              "<Figure size 576x360 with 2 Axes>"
            ],
            "image/png": "[encoded data removed]"
          },
          "metadata": {
            "needs_background": "light"
          }
        }
      ]
    },
    {
      "cell_type": "code",
      "source": [
        "y_pred_test = cross_val_predict(gb_pipeline, X_test, y_test, n_jobs=2, verbose=0)"
      ],
      "metadata": {
        "id": "Qxo7eiiZtlsb"
      },
      "execution_count": null,
      "outputs": []
    },
    {
      "cell_type": "code",
      "source": [
        "metrics_score(y_test.values, y_pred_test)"
      ],
      "metadata": {
        "colab": {
          "base_uri": "https://localhost:8080/",
          "height": 490
        },
        "id": "3nAlnCChtstB",
        "outputId": "7a87bd38-3493-468a-d24e-9b86166869ab"
      },
      "execution_count": null,
      "outputs": [
        {
          "output_type": "stream",
          "name": "stdout",
          "text": [
            "              precision    recall  f1-score   support\n",
            "\n",
            "           0       0.85      0.76      0.80      3604\n",
            "           1       0.89      0.93      0.91      7279\n",
            "\n",
            "    accuracy                           0.88     10883\n",
            "   macro avg       0.87      0.85      0.86     10883\n",
            "weighted avg       0.87      0.88      0.87     10883\n",
            "\n"
          ]
        },
        {
          "output_type": "display_data",
          "data": {
            "text/plain": [
              "<Figure size 576x360 with 2 Axes>"
            ],
            "image/png": "[encoded data removed]"
          },
          "metadata": {
            "needs_background": "light"
          }
        }
      ]
    },
    {
      "cell_type": "markdown",
      "source": [
        "## Decision tree with Adaboost"
      ],
      "metadata": {
        "id": "4qZN-nXSGThP"
      }
    },
    {
      "cell_type": "code",
      "source": [
        "#Fitting the decision tree classifier on the training data\n",
        "d_tree= DecisionTreeClassifier(random_state = 0, max_features = \"auto\", class_weight = {0:0.5,1:0.5},max_depth = 5)\n",
        "\n",
        "\n",
        "d_tree_gradient_adaboost =  AdaBoostClassifier(random_state=0, n_estimators=1000, \n",
        "                                          learning_rate=0.1, base_estimator = d_tree)\n",
        "\n",
        "d_tree_gradient_adaboost.fit(X_train,y_train)"
      ],
      "metadata": {
        "id": "QMJZCnUEFPqg",
        "colab": {
          "base_uri": "https://localhost:8080/"
        },
        "outputId": "4e1d4f6a-3058-4125-8b97-ae3f045f8ca9"
      },
      "execution_count": null,
      "outputs": [
        {
          "output_type": "execute_result",
          "data": {
            "text/plain": [
              "AdaBoostClassifier(base_estimator=DecisionTreeClassifier(class_weight={0: 0.5,\n",
              "                                                                       1: 0.5},\n",
              "                                                         max_depth=5,\n",
              "                                                         max_features='auto',\n",
              "                                                         random_state=0),\n",
              "                   learning_rate=0.1, n_estimators=1000, random_state=0)"
            ]
          },
          "metadata": {},
          "execution_count": 31
        }
      ]
    },
    {
      "cell_type": "markdown",
      "source": [
        "#### Training score"
      ],
      "metadata": {
        "id": "AZ_XrvDHPske"
      }
    },
    {
      "cell_type": "code",
      "source": [
        "#Checking performance on the training data\n",
        "y_pred_train1 = d_tree_gradient_adaboost.predict(X_train)\n",
        "metrics_score(y_train,y_pred_train1)"
      ],
      "metadata": {
        "colab": {
          "base_uri": "https://localhost:8080/",
          "height": 490
        },
        "id": "i39L-o0jLpDZ",
        "outputId": "a702dfca-0595-49dd-9205-0413f231ff9e"
      },
      "execution_count": null,
      "outputs": [
        {
          "output_type": "stream",
          "name": "stdout",
          "text": [
            "              precision    recall  f1-score   support\n",
            "\n",
            "           0       0.95      0.94      0.94      8281\n",
            "           1       0.97      0.98      0.97     17111\n",
            "\n",
            "    accuracy                           0.96     25392\n",
            "   macro avg       0.96      0.96      0.96     25392\n",
            "weighted avg       0.96      0.96      0.96     25392\n",
            "\n"
          ]
        },
        {
          "output_type": "display_data",
          "data": {
            "text/plain": [
              "<Figure size 576x360 with 2 Axes>"
            ],
            "image/png": "[encoded data removed]"
          },
          "metadata": {
            "needs_background": "light"
          }
        }
      ]
    },
    {
      "cell_type": "markdown",
      "source": [
        "#### Test score"
      ],
      "metadata": {
        "id": "HjzMLvYnPv0N"
      }
    },
    {
      "cell_type": "code",
      "source": [
        "#Checking performance on the testing data\n",
        "y_pred_test1 = d_tree_gradient_boost.predict(X_test)\n",
        "metrics_score(y_test,y_pred_test1)"
      ],
      "metadata": {
        "colab": {
          "base_uri": "https://localhost:8080/",
          "height": 490
        },
        "id": "hHAXAYCsNsIc",
        "outputId": "17c0ab9b-4547-4f45-a64f-989abb13439e"
      },
      "execution_count": null,
      "outputs": [
        {
          "output_type": "stream",
          "name": "stdout",
          "text": [
            "              precision    recall  f1-score   support\n",
            "\n",
            "           0       0.87      0.76      0.81      3604\n",
            "           1       0.89      0.94      0.91      7279\n",
            "\n",
            "    accuracy                           0.88     10883\n",
            "   macro avg       0.88      0.85      0.86     10883\n",
            "weighted avg       0.88      0.88      0.88     10883\n",
            "\n"
          ]
        },
        {
          "output_type": "display_data",
          "data": {
            "text/plain": [
              "<Figure size 576x360 with 2 Axes>"
            ],
            "image/png": "[encoded data removed]"
          },
          "metadata": {
            "needs_background": "light"
          }
        }
      ]
    },
    {
      "cell_type": "markdown",
      "source": [
        "## XGBoost\n",
        "\n",
        "**Extreme Gradient boost (XGBoost) is a significantly faster version of Gradient boost.**"
      ],
      "metadata": {
        "id": "PnHqk2uBZISJ"
      }
    },
    {
      "cell_type": "code",
      "source": [
        "xgbc = XGBClassifier(learning_rate =0.1,\n",
        "                    n_estimators=1000,\n",
        "                    max_depth=5,\n",
        "                    min_child_weight=1,\n",
        "                    gamma=0,\n",
        "                    subsample=0.8,\n",
        "                    colsample_bytree=0.8,\n",
        "                    objective= 'binary:logistic',\n",
        "                    nthread=4,\n",
        "                    scale_pos_weight=1,\n",
        "                    seed=0)\n",
        "xgbc.fit(X_train, y_train,eval_metric='auc')"
      ],
      "metadata": {
        "colab": {
          "base_uri": "https://localhost:8080/"
        },
        "id": "qEqgaTQRZKTq",
        "outputId": "249f4975-5eaf-4f12-bf3f-b9067f283009"
      },
      "execution_count": null,
      "outputs": [
        {
          "output_type": "execute_result",
          "data": {
            "text/plain": [
              "array([-0.15278598, -0.14825753, -0.15636077, -0.14946829, -0.1601024 ])"
            ]
          },
          "metadata": {},
          "execution_count": 36
        }
      ]
    },
    {
      "cell_type": "markdown",
      "source": [
        "#### Cross-validation score"
      ],
      "metadata": {
        "id": "-9Z026FgpXGx"
      }
    },
    {
      "cell_type": "code",
      "source": [
        "scores = cross_val_score(xgbc, X_train, y_train, cv=5)\n",
        "print(\"Mean cross-validation score: %.2f\" % scores.mean())"
      ],
      "metadata": {
        "colab": {
          "base_uri": "https://localhost:8080/"
        },
        "id": "0MYuIEhfZeaN",
        "outputId": "b629ab66-9b77-48bd-a164-5f837f2bf417"
      },
      "execution_count": null,
      "outputs": [
        {
          "output_type": "stream",
          "name": "stdout",
          "text": [
            "Mean cross-validation score: 0.89\n"
          ]
        }
      ]
    },
    {
      "cell_type": "code",
      "source": [
        "kfold = KFold(n_splits=10, shuffle=True)\n",
        "kf_cv_scores = cross_val_score(xgbc, X_train, y_train, cv=kfold )\n",
        "print(\"K-fold CV average score: %.2f\" % kf_cv_scores.mean())"
      ],
      "metadata": {
        "colab": {
          "base_uri": "https://localhost:8080/"
        },
        "id": "KHLOVBKDmHda",
        "outputId": "520be9f4-2195-4718-bbcb-03919e260cd7"
      },
      "execution_count": null,
      "outputs": [
        {
          "output_type": "stream",
          "name": "stdout",
          "text": [
            "K-fold CV average score: 0.89\n"
          ]
        }
      ]
    },
    {
      "cell_type": "markdown",
      "source": [
        "#### Test score"
      ],
      "metadata": {
        "id": "iFGtNobjpiGy"
      }
    },
    {
      "cell_type": "code",
      "source": [
        "#Checking performance on the training data\n",
        "y_pred_train1 = xgbc.predict(X_train)\n",
        "metrics_score(y_train,y_pred_train1)"
      ],
      "metadata": {
        "colab": {
          "base_uri": "https://localhost:8080/",
          "height": 490
        },
        "id": "ILvowxpSmHyq",
        "outputId": "08fbc9e3-44f9-41a3-a41d-9bb171258316"
      },
      "execution_count": null,
      "outputs": [
        {
          "output_type": "stream",
          "name": "stdout",
          "text": [
            "              precision    recall  f1-score   support\n",
            "\n",
            "           0       0.94      0.90      0.92      8281\n",
            "           1       0.95      0.97      0.96     17111\n",
            "\n",
            "    accuracy                           0.95     25392\n",
            "   macro avg       0.95      0.94      0.94     25392\n",
            "weighted avg       0.95      0.95      0.95     25392\n",
            "\n"
          ]
        },
        {
          "output_type": "display_data",
          "data": {
            "text/plain": [
              "<Figure size 576x360 with 2 Axes>"
            ],
            "image/png": "[encoded data removed]"
          },
          "metadata": {
            "needs_background": "light"
          }
        }
      ]
    },
    {
      "cell_type": "markdown",
      "source": [
        "#### Train score"
      ],
      "metadata": {
        "id": "r51fX6LJpkgF"
      }
    },
    {
      "cell_type": "code",
      "source": [
        "#Checking performance on the testing data\n",
        "y_pred_test1 = xgbc.predict(X_test)\n",
        "metrics_score(y_test,y_pred_test1)"
      ],
      "metadata": {
        "colab": {
          "base_uri": "https://localhost:8080/",
          "height": 490
        },
        "id": "yUJr-DPdmO6e",
        "outputId": "4f059c7b-a93f-4bc7-c828-307f80fc00e1"
      },
      "execution_count": null,
      "outputs": [
        {
          "output_type": "stream",
          "name": "stdout",
          "text": [
            "              precision    recall  f1-score   support\n",
            "\n",
            "           0       0.86      0.81      0.83      3604\n",
            "           1       0.91      0.93      0.92      7279\n",
            "\n",
            "    accuracy                           0.89     10883\n",
            "   macro avg       0.88      0.87      0.88     10883\n",
            "weighted avg       0.89      0.89      0.89     10883\n",
            "\n"
          ]
        },
        {
          "output_type": "display_data",
          "data": {
            "text/plain": [
              "<Figure size 576x360 with 2 Axes>"
            ],
            "image/png": "[encoded data removed]"
          },
          "metadata": {
            "needs_background": "light"
          }
        }
      ]
    },
    {
      "cell_type": "code",
      "source": [],
      "metadata": {
        "id": "lrDeswU2mV5q"
      },
      "execution_count": null,
      "outputs": []
    }
  ]
}