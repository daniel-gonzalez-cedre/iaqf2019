{
 "cells": [
  {
   "cell_type": "code",
   "execution_count": 130,
   "metadata": {},
   "outputs": [],
   "source": [
    "import pandas as pd\n",
    "import numpy as np\n",
    "from sklearn import svm\n",
    "import matplotlib.pyplot as plt"
   ]
  },
  {
   "cell_type": "code",
   "execution_count": 2,
   "metadata": {},
   "outputs": [
    {
     "name": "stderr",
     "output_type": "stream",
     "text": [
      "C:\\Users\\nicho\\Anaconda3\\lib\\site-packages\\pandas\\core\\series.py:3724: FutureWarning: from_csv is deprecated. Please use read_csv(...) instead. Note that some of the default arguments are different, so please refer to the documentation for from_csv when changing your function calls\n",
      "  infer_datetime_format=infer_datetime_format)\n"
     ]
    }
   ],
   "source": [
    "cs13 = pd.Series.from_csv(\"C:\\\\Users\\\\nicho\\\\Documents\\\\Financial Math\\\\IAQF Financial Engineering Competition\\\\ARIMA\\\\CS13.csv\",\n",
    "                 header = 0)\n",
    "cs35 = pd.Series.from_csv(\"C:\\\\Users\\\\nicho\\\\Documents\\\\Financial Math\\\\IAQF Financial Engineering Competition\\\\ARIMA\\\\CS35.csv\",\n",
    "                 header = 0)\n",
    "cs57 = pd.Series.from_csv(\"C:\\\\Users\\\\nicho\\\\Documents\\\\Financial Math\\\\IAQF Financial Engineering Competition\\\\ARIMA\\\\CS57.csv\",\n",
    "                 header = 0)\n",
    "cs710 = pd.Series.from_csv(\"C:\\\\Users\\\\nicho\\\\Documents\\\\Financial Math\\\\IAQF Financial Engineering Competition\\\\ARIMA\\\\CS710.csv\",\n",
    "                 header = 0)"
   ]
  },
  {
   "cell_type": "code",
   "execution_count": 3,
   "metadata": {},
   "outputs": [],
   "source": [
    "CS13 = np.array(cs13)\n",
    "CS35 = np.array(cs35)\n",
    "CS57 = np.array(cs57)\n",
    "CS710 = np.array(cs710)"
   ]
  },
  {
   "cell_type": "code",
   "execution_count": 63,
   "metadata": {},
   "outputs": [
    {
     "data": {
      "text/plain": [
       "(5509,)"
      ]
     },
     "execution_count": 63,
     "metadata": {},
     "output_type": "execute_result"
    }
   ],
   "source": [
    "np.shape(CS13)"
   ]
  },
  {
   "cell_type": "code",
   "execution_count": 73,
   "metadata": {},
   "outputs": [
    {
     "data": {
      "text/plain": [
       "(5504,)"
      ]
     },
     "execution_count": 73,
     "metadata": {},
     "output_type": "execute_result"
    }
   ],
   "source": [
    "np.shape(lab)"
   ]
  },
  {
   "cell_type": "code",
   "execution_count": null,
   "metadata": {},
   "outputs": [],
   "source": []
  },
  {
   "cell_type": "code",
   "execution_count": 4,
   "metadata": {},
   "outputs": [],
   "source": [
    "spreads = np.vstack((CS13,CS35,CS57,CS710))\n",
    "spreads = np.array(spreads)"
   ]
  },
  {
   "cell_type": "code",
   "execution_count": 14,
   "metadata": {},
   "outputs": [],
   "source": [
    "y = []\n",
    "deltas = [[0]*5508]*4\n",
    "delta_cs13 = []\n",
    "\n",
    "for i in range(len(spreads[0])-1):\n",
    "    j=0\n",
    "    \n",
    "    delta_cs13.append(spreads[0][i+1]-spreads[0][i])\n",
    "    for k in range(4):\n",
    "        deltas[k][i] = spreads[k][i+1] - spreads[k][i]\n",
    "        if deltas[k][i] > 0:\n",
    "            j+=1\n",
    "        else:\n",
    "            j-=1\n",
    "            \n",
    "    if j > 0:\n",
    "        y.append(1)\n",
    "    elif j < 0:\n",
    "        y.append(-1)\n",
    "    else:\n",
    "        y.append(0)\n",
    "        \n",
    "y = np.array(y)"
   ]
  },
  {
   "cell_type": "code",
   "execution_count": 6,
   "metadata": {},
   "outputs": [
    {
     "data": {
      "text/plain": [
       "(4, 5508)"
      ]
     },
     "execution_count": 6,
     "metadata": {},
     "output_type": "execute_result"
    }
   ],
   "source": [
    "np.shape(deltas)"
   ]
  },
  {
   "cell_type": "code",
   "execution_count": 169,
   "metadata": {},
   "outputs": [],
   "source": [
    "#X1 = np.delete(spreads, (5508), axis=1)"
   ]
  },
  {
   "cell_type": "code",
   "execution_count": 7,
   "metadata": {},
   "outputs": [],
   "source": [
    "size = 5000\n",
    "spreads_train = np.delete(deltas, slice(size-1,5507), axis = 1)\n",
    "spreads_train = np.transpose(spreads_train)\n",
    "spreads_test = np.delete(deltas, slice(0,size), axis = 1)\n",
    "spreads_test = np.transpose(spreads_test)\n",
    "label_train = np.delete(y, slice(size-1,5507), axis = 0)\n",
    "label_test = np.delete(y, slice(0,size), axis = 0)"
   ]
  },
  {
   "cell_type": "code",
   "execution_count": 35,
   "metadata": {},
   "outputs": [],
   "source": [
    "train = np.delete(delta_cs13, slice(size-1,5507), axis = 0)\n",
    "test = np.delete(delta_cs13, slice(0,size), axis = 0)\n",
    "train_lab = np.delete(CS13, slice(size-1,5508), axis = 0)\n",
    "test_lab = np.delete(CS13, slice(1, size+2), axis = 0)"
   ]
  },
  {
   "cell_type": "code",
   "execution_count": 39,
   "metadata": {},
   "outputs": [
    {
     "data": {
      "text/plain": [
       "(5000,)"
      ]
     },
     "execution_count": 39,
     "metadata": {},
     "output_type": "execute_result"
    }
   ],
   "source": [
    "np.shape(train)"
   ]
  },
  {
   "cell_type": "code",
   "execution_count": 58,
   "metadata": {},
   "outputs": [
    {
     "data": {
      "text/plain": [
       "(5000,)"
      ]
     },
     "execution_count": 58,
     "metadata": {},
     "output_type": "execute_result"
    }
   ],
   "source": [
    "train.reshape(-1,1)\n",
    "train_lab.reshape(-1,1)\n",
    "test.reshape(-1,1)\n",
    "test_lab.reshape(-1,1)\n",
    "np.shape(train)"
   ]
  },
  {
   "cell_type": "code",
   "execution_count": 8,
   "metadata": {},
   "outputs": [
    {
     "name": "stdout",
     "output_type": "stream",
     "text": [
      "[-1  1 -1 ...  1 -1 -1]\n"
     ]
    }
   ],
   "source": [
    "print(label_train)"
   ]
  },
  {
   "cell_type": "code",
   "execution_count": 61,
   "metadata": {},
   "outputs": [],
   "source": [
    "clf = svm.LinearSVR(random_state=0)"
   ]
  },
  {
   "cell_type": "code",
   "execution_count": 62,
   "metadata": {},
   "outputs": [
    {
     "ename": "ValueError",
     "evalue": "Expected 2D array, got 1D array instead:\narray=[-0.01785714  0.01261905 -0.0147619  ...  0.02214286  0.00571429\n -0.02      ].\nReshape your data either using array.reshape(-1, 1) if your data has a single feature or array.reshape(1, -1) if it contains a single sample.",
     "output_type": "error",
     "traceback": [
      "\u001b[1;31m---------------------------------------------------------------------------\u001b[0m",
      "\u001b[1;31mValueError\u001b[0m                                Traceback (most recent call last)",
      "\u001b[1;32m<ipython-input-62-b8f2537d5b31>\u001b[0m in \u001b[0;36m<module>\u001b[1;34m()\u001b[0m\n\u001b[1;32m----> 1\u001b[1;33m \u001b[0mclf\u001b[0m\u001b[1;33m.\u001b[0m\u001b[0mfit\u001b[0m\u001b[1;33m(\u001b[0m\u001b[0mtrain\u001b[0m\u001b[1;33m,\u001b[0m \u001b[0mtrain_lab\u001b[0m\u001b[1;33m)\u001b[0m\u001b[1;33m\u001b[0m\u001b[0m\n\u001b[0m",
      "\u001b[1;32m~\\Anaconda3\\lib\\site-packages\\sklearn\\svm\\classes.py\u001b[0m in \u001b[0;36mfit\u001b[1;34m(self, X, y, sample_weight)\u001b[0m\n\u001b[0;32m    412\u001b[0m \u001b[1;33m\u001b[0m\u001b[0m\n\u001b[0;32m    413\u001b[0m         X, y = check_X_y(X, y, accept_sparse='csr',\n\u001b[1;32m--> 414\u001b[1;33m                          dtype=np.float64, order=\"C\")\n\u001b[0m\u001b[0;32m    415\u001b[0m         \u001b[0mpenalty\u001b[0m \u001b[1;33m=\u001b[0m \u001b[1;34m'l2'\u001b[0m  \u001b[1;31m# SVR only accepts l2 penalty\u001b[0m\u001b[1;33m\u001b[0m\u001b[0m\n\u001b[0;32m    416\u001b[0m         self.coef_, self.intercept_, self.n_iter_ = _fit_liblinear(\n",
      "\u001b[1;32m~\\Anaconda3\\lib\\site-packages\\sklearn\\utils\\validation.py\u001b[0m in \u001b[0;36mcheck_X_y\u001b[1;34m(X, y, accept_sparse, dtype, order, copy, force_all_finite, ensure_2d, allow_nd, multi_output, ensure_min_samples, ensure_min_features, y_numeric, warn_on_dtype, estimator)\u001b[0m\n\u001b[0;32m    571\u001b[0m     X = check_array(X, accept_sparse, dtype, order, copy, force_all_finite,\n\u001b[0;32m    572\u001b[0m                     \u001b[0mensure_2d\u001b[0m\u001b[1;33m,\u001b[0m \u001b[0mallow_nd\u001b[0m\u001b[1;33m,\u001b[0m \u001b[0mensure_min_samples\u001b[0m\u001b[1;33m,\u001b[0m\u001b[1;33m\u001b[0m\u001b[0m\n\u001b[1;32m--> 573\u001b[1;33m                     ensure_min_features, warn_on_dtype, estimator)\n\u001b[0m\u001b[0;32m    574\u001b[0m     \u001b[1;32mif\u001b[0m \u001b[0mmulti_output\u001b[0m\u001b[1;33m:\u001b[0m\u001b[1;33m\u001b[0m\u001b[0m\n\u001b[0;32m    575\u001b[0m         y = check_array(y, 'csr', force_all_finite=True, ensure_2d=False,\n",
      "\u001b[1;32m~\\Anaconda3\\lib\\site-packages\\sklearn\\utils\\validation.py\u001b[0m in \u001b[0;36mcheck_array\u001b[1;34m(array, accept_sparse, dtype, order, copy, force_all_finite, ensure_2d, allow_nd, ensure_min_samples, ensure_min_features, warn_on_dtype, estimator)\u001b[0m\n\u001b[0;32m    439\u001b[0m                     \u001b[1;34m\"Reshape your data either using array.reshape(-1, 1) if \"\u001b[0m\u001b[1;33m\u001b[0m\u001b[0m\n\u001b[0;32m    440\u001b[0m                     \u001b[1;34m\"your data has a single feature or array.reshape(1, -1) \"\u001b[0m\u001b[1;33m\u001b[0m\u001b[0m\n\u001b[1;32m--> 441\u001b[1;33m                     \"if it contains a single sample.\".format(array))\n\u001b[0m\u001b[0;32m    442\u001b[0m             \u001b[0marray\u001b[0m \u001b[1;33m=\u001b[0m \u001b[0mnp\u001b[0m\u001b[1;33m.\u001b[0m\u001b[0matleast_2d\u001b[0m\u001b[1;33m(\u001b[0m\u001b[0marray\u001b[0m\u001b[1;33m)\u001b[0m\u001b[1;33m\u001b[0m\u001b[0m\n\u001b[0;32m    443\u001b[0m             \u001b[1;31m# To ensure that array flags are maintained\u001b[0m\u001b[1;33m\u001b[0m\u001b[1;33m\u001b[0m\u001b[0m\n",
      "\u001b[1;31mValueError\u001b[0m: Expected 2D array, got 1D array instead:\narray=[-0.01785714  0.01261905 -0.0147619  ...  0.02214286  0.00571429\n -0.02      ].\nReshape your data either using array.reshape(-1, 1) if your data has a single feature or array.reshape(1, -1) if it contains a single sample."
     ]
    }
   ],
   "source": [
    "clf.fit(train, train_lab)"
   ]
  },
  {
   "cell_type": "code",
   "execution_count": 11,
   "metadata": {},
   "outputs": [
    {
     "data": {
      "text/plain": [
       "array([-0.33651644, -0.22382764, -0.1111506 , -0.56186024, -0.22382764,\n",
       "       -0.6744807 ,  0.00149741, -1.12421732,  0.22663731, -0.44919973,\n",
       "        0.11409913, -0.78704387, -0.56186024, -0.22382764, -0.56186024,\n",
       "       -0.33651644,  0.33909471, -0.56186024, -0.56186024, -0.22382764,\n",
       "       -0.22382764, -0.33651644,  0.00149741, -0.56186024, -0.44919973,\n",
       "       -0.56186024, -0.8995325 , -0.78704387,  0.00149741, -0.33651644,\n",
       "       -0.56186024, -0.33651644, -0.44919973, -0.22382764, -0.6744807 ,\n",
       "       -0.22382764, -0.56186024, -0.78704387, -0.1111506 , -0.56186024,\n",
       "       -0.22382764, -0.22382764,  0.33909471,  0.00149741, -0.6744807 ,\n",
       "        0.00149741, -0.1111506 , -0.8995325 , -0.1111506 , -0.33651644,\n",
       "       -0.1111506 , -0.44919973, -0.33651644, -0.56186024, -0.33651644,\n",
       "       -0.6744807 , -0.22382764, -0.44919973,  0.45145412,  0.00149741,\n",
       "       -0.44919973,  0.11409913, -0.6744807 , -0.6744807 , -0.44919973,\n",
       "       -0.1111506 ,  0.33909471, -0.78704387, -0.56186024,  0.22663731,\n",
       "       -0.44919973, -0.44919973, -0.44919973, -0.78704387, -0.8995325 ,\n",
       "       -0.1111506 , -0.1111506 , -0.6744807 ,  0.22663731, -0.33651644,\n",
       "       -1.12421732,  0.11409913, -0.56186024, -0.44919973, -0.56186024,\n",
       "       -0.22382764, -0.33651644, -0.22382764, -0.78704387, -0.56186024,\n",
       "        0.00149741, -0.1111506 , -0.44919973, -0.44919973, -0.78704387,\n",
       "        0.11409913, -0.33651644, -0.56186024, -0.1111506 , -0.33651644,\n",
       "       -0.1111506 , -0.1111506 , -0.56186024, -0.33651644, -0.56186024,\n",
       "       -0.1111506 , -0.78704387, -0.1111506 , -0.56186024, -0.56186024,\n",
       "        0.00149741, -0.44919973, -0.56186024, -0.33651644, -0.44919973,\n",
       "        0.00149741, -0.56186024, -0.33651644, -0.78704387, -0.33651644,\n",
       "       -0.56186024, -0.33651644, -0.44919973, -0.33651644, -0.56186024,\n",
       "       -0.44919973, -0.6744807 , -0.22382764, -0.33651644, -0.33651644,\n",
       "       -0.44919973, -0.6744807 , -0.33651644, -0.44919973, -0.44919973,\n",
       "       -0.33651644, -0.56186024, -0.6744807 , -0.1111506 , -0.78704387,\n",
       "       -0.33651644,  0.22663731, -0.33651644, -0.33651644, -0.1111506 ,\n",
       "       -0.1111506 , -0.33651644, -0.33651644,  0.45145412,  0.22663731,\n",
       "        0.11409913, -0.8995325 , -0.78704387, -0.22382764,  0.00149741,\n",
       "       -0.33651644, -0.33651644, -0.56186024, -0.1111506 , -0.33651644,\n",
       "       -0.6744807 , -0.33651644, -0.1111506 , -0.44919973,  0.00149741,\n",
       "       -0.78704387,  0.11409913, -0.1111506 , -0.1111506 , -0.33651644,\n",
       "       -0.8995325 , -0.1111506 , -0.6744807 , -0.56186024, -0.6744807 ,\n",
       "       -0.6744807 , -0.33651644, -0.8995325 , -0.1111506 , -0.33651644,\n",
       "       -0.44919973, -0.6744807 , -0.44919973, -0.44919973, -0.8995325 ,\n",
       "       -0.1111506 , -0.44919973, -0.56186024, -0.33651644, -0.6744807 ,\n",
       "       -0.56186024,  0.00149741, -0.44919973, -0.22382764, -0.44919973,\n",
       "       -0.56186024, -0.56186024, -0.56186024, -0.56186024, -0.44919973,\n",
       "       -0.56186024, -0.1111506 , -0.56186024, -0.1111506 , -0.44919973,\n",
       "       -0.1111506 , -0.1111506 , -0.44919973,  0.22663731, -0.33651644,\n",
       "       -0.1111506 , -0.1111506 , -0.1111506 , -0.1111506 , -0.78704387,\n",
       "       -0.22382764,  0.33909471, -0.78704387, -0.33651644, -0.44919973,\n",
       "       -0.78704387, -0.22382764, -0.22382764, -0.33651644, -0.8995325 ,\n",
       "       -0.33651644, -0.44919973, -0.56186024, -0.22382764, -0.56186024,\n",
       "       -0.1111506 , -0.33651644, -0.44919973, -0.56186024, -0.22382764,\n",
       "       -0.33651644, -0.56186024, -0.44919973, -0.33651644, -0.33651644,\n",
       "       -0.56186024, -0.56186024, -0.22382764, -0.44919973, -0.44919973,\n",
       "       -0.44919973, -0.1111506 ,  0.00149741, -0.44919973, -0.6744807 ,\n",
       "       -0.22382764, -0.6744807 , -0.6744807 , -0.44919973, -0.56186024,\n",
       "       -0.22382764, -0.6744807 , -0.1111506 , -0.6744807 , -0.1111506 ,\n",
       "       -0.33651644, -0.44919973, -0.1111506 , -0.78704387, -0.78704387,\n",
       "       -0.44919973, -0.22382764, -0.1111506 , -0.78704387,  0.11409913,\n",
       "        0.45145412, -0.78704387, -0.1111506 ,  0.11409913,  1.01118074,\n",
       "       -0.78704387,  0.56369835, -1.01192938, -0.78704387, -0.22382764,\n",
       "       -0.22382764, -0.6744807 , -0.33651644,  0.00149741, -0.1111506 ,\n",
       "       -0.33651644,  0.33909471,  0.11409913,  0.11409913, -0.56186024,\n",
       "       -0.56186024, -0.22382764,  0.00149741, -0.44919973,  0.11409913,\n",
       "        0.00149741, -0.22382764, -0.1111506 , -0.44919973, -0.33651644,\n",
       "       -0.33651644,  0.56369835, -0.1111506 ,  0.45145412, -0.8995325 ,\n",
       "        0.00149741, -0.44919973, -0.44919973,  0.11409913, -0.56186024,\n",
       "       -0.33651644, -0.6744807 , -0.1111506 , -0.6744807 , -0.78704387,\n",
       "        0.00149741, -0.78704387, -0.33651644, -0.56186024, -0.33651644,\n",
       "       -0.44919973, -0.22382764, -0.33651644, -0.22382764, -0.22382764,\n",
       "        0.22663731, -0.6744807 ,  0.00149741, -0.1111506 ,  0.33909471,\n",
       "       -0.22382764,  0.00149741, -0.44919973, -0.1111506 , -0.44919973,\n",
       "       -0.33651644, -0.6744807 , -0.56186024, -0.6744807 , -0.33651644,\n",
       "       -0.1111506 , -0.56186024,  0.11409913, -0.33651644, -0.56186024,\n",
       "       -0.1111506 , -0.22382764, -0.1111506 ,  0.8995685 , -0.44919973,\n",
       "        0.11409913, -0.6744807 , -0.6744807 , -0.1111506 , -0.22382764,\n",
       "       -0.22382764, -0.1111506 , -0.56186024, -0.33651644, -0.56186024,\n",
       "       -0.22382764, -0.56186024,  0.22663731,  0.11409913, -0.44919973,\n",
       "        0.33909471, -0.1111506 ,  0.11409913, -0.56186024, -0.33651644,\n",
       "        0.00149741, -0.6744807 , -0.1111506 , -0.1111506 , -0.78704387,\n",
       "       -0.33651644, -1.01192938, -0.78704387, -0.44919973, -0.6744807 ,\n",
       "       -0.22382764, -0.56186024, -0.56186024, -0.44919973, -0.22382764,\n",
       "       -0.44919973, -0.56186024, -0.78704387, -0.78704387, -0.8995325 ,\n",
       "       -0.22382764, -0.56186024,  0.11409913, -0.56186024, -0.22382764,\n",
       "       -0.6744807 , -0.44919973, -0.44919973,  0.11409913,  0.11409913,\n",
       "        0.00149741,  0.22663731, -0.6744807 , -0.33651644, -0.33651644,\n",
       "       -0.56186024, -0.1111506 , -0.78704387,  0.11409913, -0.44919973,\n",
       "       -0.1111506 , -0.56186024, -0.33651644, -0.56186024, -0.1111506 ,\n",
       "        0.22663731, -0.1111506 , -0.33651644, -0.56186024, -0.33651644,\n",
       "       -0.56186024, -0.44919973, -0.78704387, -0.56186024, -0.6744807 ,\n",
       "       -0.1111506 , -0.6744807 , -0.33651644, -0.56186024, -0.56186024,\n",
       "       -0.33651644, -0.33651644, -0.33651644, -0.56186024, -0.1111506 ,\n",
       "       -0.22382764, -0.22382764, -0.44919973, -0.33651644, -0.33651644,\n",
       "        0.00149741, -0.22382764,  0.11409913, -0.22382764, -0.33651644,\n",
       "       -0.33651644, -0.56186024,  0.11409913, -0.33651644, -0.22382764,\n",
       "        0.33909471,  0.22663731, -0.6744807 ,  0.22663731, -0.1111506 ,\n",
       "       -0.22382764,  0.00149741, -0.33651644, -0.6744807 , -0.44919973,\n",
       "       -0.78704387, -0.8995325 , -0.33651644,  0.22663731,  0.45145412,\n",
       "        0.45145412,  0.8995685 , -0.33651644,  0.33909471,  0.11409913,\n",
       "       -0.44919973, -0.1111506 , -0.44919973, -0.22382764, -0.22382764,\n",
       "        0.56369835,  0.33909471, -0.44919973,  0.45145412,  0.56369835,\n",
       "       -0.44919973,  0.11409913, -1.01192938, -0.8995325 , -0.44919973,\n",
       "       -0.33651644, -0.22382764,  0.00149741, -0.1111506 ,  0.22663731,\n",
       "        0.11409913,  0.22663731, -0.8995325 , -0.1111506 ,  0.78777265,\n",
       "       -0.22382764, -0.1111506 ,  0.56369835, -0.8995325 , -1.12421732,\n",
       "       -0.78704387, -1.01192938, -0.22382764, -0.56186024, -0.1111506 ,\n",
       "       -0.78704387, -0.56186024, -1.01192938])"
      ]
     },
     "execution_count": 11,
     "metadata": {},
     "output_type": "execute_result"
    }
   ],
   "source": [
    "clf.predict(spreads_test)"
   ]
  },
  {
   "cell_type": "code",
   "execution_count": null,
   "metadata": {},
   "outputs": [],
   "source": []
  },
  {
   "cell_type": "code",
   "execution_count": null,
   "metadata": {},
   "outputs": [],
   "source": [
    "#starts new method, results much better, use this data"
   ]
  },
  {
   "cell_type": "code",
   "execution_count": 86,
   "metadata": {},
   "outputs": [],
   "source": [
    "col0 = np.delete(CS13, slice(5504, 5508), axis=0)\n",
    "col0 = np.delete(col0, slice(0,1), axis=0)\n",
    "col1 = np.delete(CS13, slice(5505, 5508), axis=0)\n",
    "col1 = np.delete(col1,  slice(0,2))\n",
    "col2 = np.delete(CS13, slice(5506, 5508), axis=0)\n",
    "col2 = np.delete(col2, slice(0,3), axis=0)\n",
    "label = np.delete(CS13, slice(5507, 5508), axis=0)\n",
    "label = np.delete(label, slice(0,4), axis=0)"
   ]
  },
  {
   "cell_type": "code",
   "execution_count": 87,
   "metadata": {},
   "outputs": [],
   "source": [
    "X = np.vstack((col0,col1,col2))\n",
    "X = np.array(X)"
   ]
  },
  {
   "cell_type": "code",
   "execution_count": 107,
   "metadata": {},
   "outputs": [],
   "source": [
    "size = 5000\n",
    "X_train = np.transpose(np.delete(X, slice(size-1,5503), axis=1))\n",
    "X_test = np.transpose(np.delete(X, slice(0,size), axis=1))\n",
    "Y_train = np.delete(label, slice(size-1,5503), axis=0)\n",
    "Y_test = np.delete(label, slice(0,size), axis=0)"
   ]
  },
  {
   "cell_type": "code",
   "execution_count": 109,
   "metadata": {},
   "outputs": [
    {
     "data": {
      "text/plain": [
       "(5000, 3)"
      ]
     },
     "execution_count": 109,
     "metadata": {},
     "output_type": "execute_result"
    }
   ],
   "source": [
    "np.shape(X_train)"
   ]
  },
  {
   "cell_type": "code",
   "execution_count": 110,
   "metadata": {},
   "outputs": [],
   "source": [
    "clf = svm.SVR()"
   ]
  },
  {
   "cell_type": "code",
   "execution_count": 111,
   "metadata": {},
   "outputs": [
    {
     "data": {
      "text/plain": [
       "SVR(C=1.0, cache_size=200, coef0=0.0, degree=3, epsilon=0.1, gamma='auto',\n",
       "  kernel='rbf', max_iter=-1, shrinking=True, tol=0.001, verbose=False)"
      ]
     },
     "execution_count": 111,
     "metadata": {},
     "output_type": "execute_result"
    }
   ],
   "source": [
    "clf.fit(X_train, Y_train)"
   ]
  },
  {
   "cell_type": "code",
   "execution_count": 113,
   "metadata": {},
   "outputs": [],
   "source": [
    "Y_predict = clf.predict(X_test)"
   ]
  },
  {
   "cell_type": "code",
   "execution_count": 131,
   "metadata": {},
   "outputs": [],
   "source": [
    "err = []\n",
    "index = []\n",
    "\n",
    "for i in range(len(Y_predict)):\n",
    "    err.append(abs(Y_predict[i] - Y_test[i]))\n",
    "    index.append(i)\n",
    "    \n",
    "L1 = np.sum(err)\n",
    "Linf = np.max(err)\n",
    "L2 = np.sqrt(np.sum(np.square(err)))\n",
    "rmse = L2/len(Y_test)"
   ]
  },
  {
   "cell_type": "code",
   "execution_count": 129,
   "metadata": {},
   "outputs": [
    {
     "data": {
      "text/plain": [
       "0.0010629532234281852"
      ]
     },
     "execution_count": 129,
     "metadata": {},
     "output_type": "execute_result"
    }
   ],
   "source": [
    "rmse"
   ]
  },
  {
   "cell_type": "code",
   "execution_count": 120,
   "metadata": {},
   "outputs": [
    {
     "data": {
      "text/plain": [
       "0.187767736448638"
      ]
     },
     "execution_count": 120,
     "metadata": {},
     "output_type": "execute_result"
    }
   ],
   "source": [
    "Linf"
   ]
  },
  {
   "cell_type": "code",
   "execution_count": 118,
   "metadata": {},
   "outputs": [
    {
     "data": {
      "text/plain": [
       "array([0.84880952, 0.86619048, 0.85142857, 0.84142857, 0.82404762,\n",
       "       0.83666667, 0.84095238, 0.83619048, 0.83142857, 0.83142857,\n",
       "       0.82880952, 0.81666667, 0.80928571, 0.86095238, 0.85142857,\n",
       "       0.84619048, 0.83880952, 0.83619048, 0.84357143, 0.84880952,\n",
       "       0.82666667, 0.83142857, 0.81619048, 0.79404762, 0.78880952,\n",
       "       0.79142857, 0.79142857, 0.77880952, 0.78404762, 0.77880952,\n",
       "       0.79571429, 0.77404762, 0.75833333, 0.75357143, 0.74571429,\n",
       "       0.72833333, 0.72309524, 0.73      , 0.73047619, 0.74785714,\n",
       "       0.75785714, 0.73309524, 0.74571429, 0.75309524, 0.74571429,\n",
       "       0.75571429, 0.7452381 , 0.76      , 0.74785714, 0.75261905,\n",
       "       0.75      , 0.74785714, 0.74261905, 0.74690476, 0.73476191,\n",
       "       0.78261905, 0.77738095, 0.78      , 0.79261905, 0.7747619 ,\n",
       "       0.7647619 , 0.74738095, 0.7747619 , 0.78      , 0.76738095,\n",
       "       0.74952381, 0.75738095, 0.7547619 , 0.77      , 0.76261905,\n",
       "       0.74785714, 0.73      , 0.74785714, 0.74      , 0.73047619,\n",
       "       0.75738095, 0.75261905, 0.74      , 0.7452381 , 0.7452381 ,\n",
       "       0.73261905, 0.71785714, 0.73261905, 0.7152381 , 0.71476191,\n",
       "       0.7052381 , 0.70738095, 0.7052381 , 0.71261905, 0.71261905,\n",
       "       0.69261905, 0.68738095, 0.69428571, 0.69476191, 0.68214286,\n",
       "       0.66952381, 0.71690476, 0.72690476, 0.72476191, 0.70785714,\n",
       "       0.7152381 , 0.7152381 , 0.71      , 0.7       , 0.71261905,\n",
       "       0.68785714, 0.6952381 , 0.7       , 0.69690476, 0.68476191,\n",
       "       0.68      , 0.69      , 0.69476191, 0.68738095, 0.67047619,\n",
       "       0.66261905, 0.66952381, 0.66      , 0.68214286, 0.6747619 ,\n",
       "       0.67738095, 0.67214286, 0.6747619 , 0.6447619 , 0.66214286,\n",
       "       0.63952381, 0.62952381, 0.62428571, 0.62214286, 0.62261905,\n",
       "       0.60738095, 0.61261905, 0.6       , 0.59476191, 0.6       ,\n",
       "       0.59738095, 0.58476191, 0.59690476, 0.61428571, 0.59952381,\n",
       "       0.59952381, 0.60214286, 0.60476191, 0.60476191, 0.60690476,\n",
       "       0.62690476, 0.63690476, 0.63952381, 0.62690476, 0.63952381,\n",
       "       0.63166667, 0.62428571, 0.61690476, 0.60690476, 0.62428571,\n",
       "       0.62214286, 0.62952381, 0.61      , 0.61952381, 0.6       ,\n",
       "       0.61738095, 0.62738095, 0.63      , 0.60214286, 0.61428571,\n",
       "       0.62690476, 0.62166667, 0.61952381, 0.62166667, 0.61690476,\n",
       "       0.60952381, 0.59690476, 0.59952381, 0.59428571, 0.58476191,\n",
       "       0.6       , 0.59047619, 0.5752381 , 0.56523809, 0.58261905,\n",
       "       0.56      , 0.57261905, 0.57047619, 0.56      , 0.55738095,\n",
       "       0.55      , 0.53833333, 0.51952381, 0.51952381, 0.51690476,\n",
       "       0.51738095, 0.5147619 , 0.5147619 , 0.50571429, 0.50571429,\n",
       "       0.50309524, 0.50047619, 0.49047619, 0.50309524, 0.49833333,\n",
       "       0.51785714, 0.49785714, 0.52047619, 0.54523809, 0.53785714,\n",
       "       0.52785714, 0.53738095, 0.53523809, 0.53      , 0.5547619 ,\n",
       "       0.55261905, 0.54785714, 0.56      , 0.5752381 , 0.55523809,\n",
       "       0.56785714, 0.55571429, 0.57047619, 0.55785714, 0.56047619,\n",
       "       0.55523809, 0.55047619, 0.54357143, 0.57047619, 0.56047619,\n",
       "       0.56261905, 0.56095238, 0.54952381, 0.55261905, 0.54785714,\n",
       "       0.54      , 0.54261905, 0.53      , 0.52523809, 0.53523809,\n",
       "       0.53047619, 0.52571429, 0.53047619, 0.52047619, 0.53095238,\n",
       "       0.51833333, 0.51047619, 0.51571429, 0.51047619, 0.51      ,\n",
       "       0.51309524, 0.51309524, 0.51571429, 0.50571429, 0.49357143,\n",
       "       0.49619048, 0.49619048, 0.51095238, 0.49928571, 0.51190476,\n",
       "       0.50666667, 0.51404762, 0.51190476, 0.50190476, 0.50452381,\n",
       "       0.50190476, 0.49761905, 0.51190476, 0.46880952, 0.51357143,\n",
       "       0.51619048, 0.51357143, 0.51571429, 0.50785714, 0.50571429,\n",
       "       0.53785714, 0.56690476, 0.54690476, 0.59690476, 0.59952381,\n",
       "       0.58738095, 0.59047619, 0.60357143, 0.60309524, 0.60571429,\n",
       "       0.61357143, 0.62047619, 0.59785714, 0.65261905, 0.64785714,\n",
       "       0.66047619, 0.66261905, 0.66523809, 0.67785714, 0.67785714,\n",
       "       0.68571429, 0.68571429, 0.71095238, 0.70571429, 0.72357143,\n",
       "       0.71619048, 0.71357143, 0.72880952, 0.74619048, 0.74619048,\n",
       "       0.75880952, 0.75190476, 0.74785714, 0.74785714, 0.75571429,\n",
       "       0.77309524, 0.77571429, 0.77833333, 0.76095238, 0.75095238,\n",
       "       0.72833333, 0.72619048, 0.72619048, 0.72095238, 0.70880952,\n",
       "       0.69666667, 0.67666667, 0.68619048, 0.67357143, 0.66095238,\n",
       "       0.65357143, 0.65095238, 0.65095238, 0.64619048, 0.64142857,\n",
       "       0.68142857, 0.69095238, 0.68619048, 0.68142857, 0.68928571,\n",
       "       0.68357143, 0.68619048, 0.67404762, 0.67142857, 0.65880952,\n",
       "       0.65142857, 0.65619048, 0.65095238, 0.64833333, 0.64833333,\n",
       "       0.64095238, 0.62880952, 0.63619048, 0.63833333, 0.64357143,\n",
       "       0.65047619, 0.66095238, 0.70785714, 0.70309524, 0.69619048,\n",
       "       0.69047619, 0.69833333, 0.70571429, 0.70833333, 0.71571429,\n",
       "       0.71619048, 0.70142857, 0.69666667, 0.69833333, 0.69619048,\n",
       "       0.71619048, 0.71357143, 0.71404762, 0.72666667, 0.72880952,\n",
       "       0.73619048, 0.72142857, 0.73880952, 0.73095238, 0.75928571,\n",
       "       0.75619048, 0.76404762, 0.75095238, 0.73666667, 0.73404762,\n",
       "       0.72404762, 0.71404762, 0.70928571, 0.71142857, 0.70190476,\n",
       "       0.69095238, 0.68404762, 0.67880952, 0.67666667, 0.66619048,\n",
       "       0.65190476, 0.6497619 , 0.64928571, 0.64142857, 0.65404762,\n",
       "       0.65880952, 0.64880952, 0.64357143, 0.63880952, 0.62928571,\n",
       "       0.62928571, 0.63619048, 0.62142857, 0.64142857, 0.62880952,\n",
       "       0.62357143, 0.61880952, 0.63619048, 0.61142857, 0.61619048,\n",
       "       0.61142857, 0.61404762, 0.60666667, 0.59452381, 0.59666667,\n",
       "       0.59880952, 0.61357143, 0.63095238, 0.62619048, 0.61880952,\n",
       "       0.61833333, 0.61880952, 0.60666667, 0.60666667, 0.60619048,\n",
       "       0.59666667, 0.59928571, 0.58666667, 0.57190476, 0.57928571,\n",
       "       0.57928571, 0.56928571, 0.56452381, 0.57190476, 0.55976191,\n",
       "       0.55976191, 0.55928571, 0.57666667, 0.56928571, 0.58666667,\n",
       "       0.59666667, 0.59404762, 0.59404762, 0.58142857, 0.59619048,\n",
       "       0.59880952, 0.60357143, 0.60404762, 0.60928571, 0.61142857,\n",
       "       0.61714286, 0.61452381, 0.62190476, 0.62928571, 0.63666667,\n",
       "       0.64666667, 0.64142857, 0.65142857, 0.68142857, 0.68619048,\n",
       "       0.68666667, 0.68142857, 0.67404762, 0.65928571, 0.66452381,\n",
       "       0.66666667, 0.68880952, 0.71357143, 0.74880952, 0.75357143,\n",
       "       0.76619048, 0.80095238, 0.79880952, 0.80142857, 0.79142857,\n",
       "       0.80619048, 0.81357143, 0.82619048, 0.86833333, 0.86619048,\n",
       "       0.88095238, 0.93047619, 0.91047619, 0.93523809, 0.92095238,\n",
       "       0.92571429, 0.91309524, 0.90571429, 0.89571429, 0.89523809,\n",
       "       0.90785714, 0.90309524, 0.92785714, 0.93166667, 0.92261905,\n",
       "       0.92738095, 0.94214286, 0.92595238, 0.92166667, 0.95166667,\n",
       "       0.93952381, 0.93214286, 0.93738095, 0.91738095, 0.90738095,\n",
       "       0.89261905, 0.8947619 , 0.8847619 , 0.85      ])"
      ]
     },
     "execution_count": 118,
     "metadata": {},
     "output_type": "execute_result"
    }
   ],
   "source": [
    "Y_test"
   ]
  },
  {
   "cell_type": "code",
   "execution_count": 136,
   "metadata": {},
   "outputs": [
    {
     "data": {
      "text/plain": [
       "<matplotlib.legend.Legend at 0x19a74486eb8>"
      ]
     },
     "execution_count": 136,
     "metadata": {},
     "output_type": "execute_result"
    },
    {
     "data": {
      "image/png": "[encoded data removed]",
      "text/plain": [
       "<Figure size 432x288 with 1 Axes>"
      ]
     },
     "metadata": {},
     "output_type": "display_data"
    }
   ],
   "source": [
    "plot = plt.plot(index,Y_predict,Y_test)\n",
    "plt.legend(plot)"
   ]
  },
  {
   "cell_type": "code",
   "execution_count": 137,
   "metadata": {},
   "outputs": [
    {
     "data": {
      "text/plain": [
       "<matplotlib.collections.PathCollection at 0x19a7455e978>"
      ]
     },
     "execution_count": 137,
     "metadata": {},
     "output_type": "execute_result"
    },
    {
     "data": {
      "image/png": "[encoded data removed]",
      "text/plain": [
       "<Figure size 432x288 with 1 Axes>"
      ]
     },
     "metadata": {},
     "output_type": "display_data"
    }
   ],
   "source": [
    "plt.scatter(index,err)"
   ]
  },
  {
   "cell_type": "code",
   "execution_count": 138,
   "metadata": {},
   "outputs": [
    {
     "data": {
      "text/plain": [
       "<matplotlib.collections.PathCollection at 0x19a745bf9e8>"
      ]
     },
     "execution_count": 138,
     "metadata": {},
     "output_type": "execute_result"
    },
    {
     "data": {
      "image/png": "[encoded data removed]",
      "text/plain": [
       "<Figure size 432x288 with 1 Axes>"
      ]
     },
     "metadata": {},
     "output_type": "display_data"
    }
   ],
   "source": [
    "plt.scatter(Y_predict,err)"
   ]
  },
  {
   "cell_type": "code",
   "execution_count": null,
   "metadata": {},
   "outputs": [],
   "source": []
  }
 ],
 "metadata": {
  "kernelspec": {
   "display_name": "Python 3",
   "language": "python",
   "name": "python3"
  },
  "language_info": {
   "codemirror_mode": {
    "name": "ipython",
    "version": 3
   },
   "file_extension": ".py",
   "mimetype": "text/x-python",
   "name": "python",
   "nbconvert_exporter": "python",
   "pygments_lexer": "ipython3",
   "version": "3.6.5"
  }
 },
 "nbformat": 4,
 "nbformat_minor": 2
}
